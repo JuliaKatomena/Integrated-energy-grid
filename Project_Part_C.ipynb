{
 "cells": [
  {
   "cell_type": "code",
   "execution_count": 2,
   "id": "c9b61782",
   "metadata": {},
   "outputs": [],
   "source": [
    "import numpy as np\n",
    "import pypsa\n",
    "import pandas as pd\n",
    "import matplotlib.pyplot as plt\n"
   ]
  },
  {
   "cell_type": "code",
   "execution_count": 3,
   "id": "b5fce18f",
   "metadata": {},
   "outputs": [
    {
     "name": "stderr",
     "output_type": "stream",
     "text": [
      "INFO:linopy.model: Solve problem using Gurobi solver\n",
      "INFO:linopy.model:Solver options:\n",
      " - OutputFlag: 0\n",
      "INFO:linopy.io:Writing objective.\n",
      "Writing constraints.: 100%|\u001b[38;2;128;191;255m██████████\u001b[0m| 6/6 [00:02<00:00,  2.28it/s]\n",
      "Writing continuous variables.: 100%|\u001b[38;2;128;191;255m██████████\u001b[0m| 2/2 [00:00<00:00,  4.69it/s]\n",
      "INFO:linopy.io: Writing time: 3.35s\n"
     ]
    },
    {
     "name": "stdout",
     "output_type": "stream",
     "text": [
      "Set parameter Username\n"
     ]
    },
    {
     "name": "stderr",
     "output_type": "stream",
     "text": [
      "INFO:gurobipy:Set parameter Username\n"
     ]
    },
    {
     "name": "stdout",
     "output_type": "stream",
     "text": [
      "Set parameter LicenseID to value 2642337\n"
     ]
    },
    {
     "name": "stderr",
     "output_type": "stream",
     "text": [
      "INFO:gurobipy:Set parameter LicenseID to value 2642337\n"
     ]
    },
    {
     "name": "stdout",
     "output_type": "stream",
     "text": [
      "Academic license - for non-commercial use only - expires 2026-03-26\n"
     ]
    },
    {
     "name": "stderr",
     "output_type": "stream",
     "text": [
      "INFO:gurobipy:Academic license - for non-commercial use only - expires 2026-03-26\n"
     ]
    },
    {
     "name": "stdout",
     "output_type": "stream",
     "text": [
      "Read LP format model from file C:\\Users\\Change\\AppData\\Local\\Temp\\linopy-problem-u2ufl009.lp\n"
     ]
    },
    {
     "name": "stderr",
     "output_type": "stream",
     "text": [
      "INFO:gurobipy:Read LP format model from file C:\\Users\\Change\\AppData\\Local\\Temp\\linopy-problem-u2ufl009.lp\n"
     ]
    },
    {
     "name": "stdout",
     "output_type": "stream",
     "text": [
      "Reading time = 0.80 seconds\n"
     ]
    },
    {
     "name": "stderr",
     "output_type": "stream",
     "text": [
      "INFO:gurobipy:Reading time = 0.80 seconds\n"
     ]
    },
    {
     "name": "stdout",
     "output_type": "stream",
     "text": [
      "obj: 113887 rows, 52566 columns, 223384 nonzeros\n"
     ]
    },
    {
     "name": "stderr",
     "output_type": "stream",
     "text": [
      "INFO:gurobipy:obj: 113887 rows, 52566 columns, 223384 nonzeros\n",
      "INFO:linopy.constants: Optimization successful: \n",
      "Status: ok\n",
      "Termination condition: optimal\n",
      "Solution: 52566 primals, 113887 duals\n",
      "Objective: 7.41e+09\n",
      "Solver model: available\n",
      "Solver message: 2\n",
      "\n",
      "INFO:pypsa.optimization.optimize:The shadow-prices of the constraints Generator-ext-p-lower, Generator-ext-p-upper were not assigned to the network.\n",
      "C:\\Users\\Change\\AppData\\Local\\Temp\\ipykernel_20640\\537921847.py:171: RuntimeWarning:\n",
      "\n",
      "invalid value encountered in scalar divide\n",
      "\n",
      "INFO:linopy.model: Solve problem using Gurobi solver\n",
      "INFO:linopy.model:Solver options:\n",
      " - OutputFlag: 0\n",
      "INFO:linopy.io:Writing objective.\n",
      "Writing constraints.: 100%|\u001b[38;2;128;191;255m██████████\u001b[0m| 6/6 [00:01<00:00,  4.00it/s]\n",
      "Writing continuous variables.: 100%|\u001b[38;2;128;191;255m██████████\u001b[0m| 2/2 [00:00<00:00,  6.81it/s]\n",
      "INFO:linopy.io: Writing time: 2.0s\n"
     ]
    },
    {
     "name": "stdout",
     "output_type": "stream",
     "text": [
      "Set parameter Username\n"
     ]
    },
    {
     "name": "stderr",
     "output_type": "stream",
     "text": [
      "INFO:gurobipy:Set parameter Username\n"
     ]
    },
    {
     "name": "stdout",
     "output_type": "stream",
     "text": [
      "Set parameter LicenseID to value 2642337\n"
     ]
    },
    {
     "name": "stderr",
     "output_type": "stream",
     "text": [
      "INFO:gurobipy:Set parameter LicenseID to value 2642337\n"
     ]
    },
    {
     "name": "stdout",
     "output_type": "stream",
     "text": [
      "Academic license - for non-commercial use only - expires 2026-03-26\n"
     ]
    },
    {
     "name": "stderr",
     "output_type": "stream",
     "text": [
      "INFO:gurobipy:Academic license - for non-commercial use only - expires 2026-03-26\n"
     ]
    },
    {
     "name": "stdout",
     "output_type": "stream",
     "text": [
      "Read LP format model from file C:\\Users\\Change\\AppData\\Local\\Temp\\linopy-problem-t06bjqfs.lp\n"
     ]
    },
    {
     "name": "stderr",
     "output_type": "stream",
     "text": [
      "INFO:gurobipy:Read LP format model from file C:\\Users\\Change\\AppData\\Local\\Temp\\linopy-problem-t06bjqfs.lp\n"
     ]
    },
    {
     "name": "stdout",
     "output_type": "stream",
     "text": [
      "Reading time = 0.60 seconds\n"
     ]
    },
    {
     "name": "stderr",
     "output_type": "stream",
     "text": [
      "INFO:gurobipy:Reading time = 0.60 seconds\n"
     ]
    },
    {
     "name": "stdout",
     "output_type": "stream",
     "text": [
      "obj: 113887 rows, 52566 columns, 223380 nonzeros\n"
     ]
    },
    {
     "name": "stderr",
     "output_type": "stream",
     "text": [
      "INFO:gurobipy:obj: 113887 rows, 52566 columns, 223380 nonzeros\n",
      "INFO:linopy.constants: Optimization successful: \n",
      "Status: ok\n",
      "Termination condition: optimal\n",
      "Solution: 52566 primals, 113887 duals\n",
      "Objective: 6.94e+09\n",
      "Solver model: available\n",
      "Solver message: 2\n",
      "\n",
      "INFO:pypsa.optimization.optimize:The shadow-prices of the constraints Generator-ext-p-lower, Generator-ext-p-upper were not assigned to the network.\n",
      "C:\\Users\\Change\\AppData\\Local\\Temp\\ipykernel_20640\\537921847.py:171: RuntimeWarning:\n",
      "\n",
      "invalid value encountered in scalar divide\n",
      "\n",
      "INFO:linopy.model: Solve problem using Gurobi solver\n",
      "INFO:linopy.model:Solver options:\n",
      " - OutputFlag: 0\n",
      "INFO:linopy.io:Writing objective.\n",
      "Writing constraints.: 100%|\u001b[38;2;128;191;255m██████████\u001b[0m| 6/6 [00:02<00:00,  2.60it/s]\n",
      "Writing continuous variables.: 100%|\u001b[38;2;128;191;255m██████████\u001b[0m| 2/2 [00:00<00:00,  3.54it/s]\n",
      "INFO:linopy.io: Writing time: 3.1s\n"
     ]
    },
    {
     "name": "stdout",
     "output_type": "stream",
     "text": [
      "Set parameter Username\n"
     ]
    },
    {
     "name": "stderr",
     "output_type": "stream",
     "text": [
      "INFO:gurobipy:Set parameter Username\n"
     ]
    },
    {
     "name": "stdout",
     "output_type": "stream",
     "text": [
      "Set parameter LicenseID to value 2642337\n"
     ]
    },
    {
     "name": "stderr",
     "output_type": "stream",
     "text": [
      "INFO:gurobipy:Set parameter LicenseID to value 2642337\n"
     ]
    },
    {
     "name": "stdout",
     "output_type": "stream",
     "text": [
      "Academic license - for non-commercial use only - expires 2026-03-26\n"
     ]
    },
    {
     "name": "stderr",
     "output_type": "stream",
     "text": [
      "INFO:gurobipy:Academic license - for non-commercial use only - expires 2026-03-26\n"
     ]
    },
    {
     "name": "stdout",
     "output_type": "stream",
     "text": [
      "Read LP format model from file C:\\Users\\Change\\AppData\\Local\\Temp\\linopy-problem-ey_0m1hw.lp\n"
     ]
    },
    {
     "name": "stderr",
     "output_type": "stream",
     "text": [
      "INFO:gurobipy:Read LP format model from file C:\\Users\\Change\\AppData\\Local\\Temp\\linopy-problem-ey_0m1hw.lp\n"
     ]
    },
    {
     "name": "stdout",
     "output_type": "stream",
     "text": [
      "Reading time = 0.89 seconds\n"
     ]
    },
    {
     "name": "stderr",
     "output_type": "stream",
     "text": [
      "INFO:gurobipy:Reading time = 0.89 seconds\n"
     ]
    },
    {
     "name": "stdout",
     "output_type": "stream",
     "text": [
      "obj: 113887 rows, 52566 columns, 223372 nonzeros\n"
     ]
    },
    {
     "name": "stderr",
     "output_type": "stream",
     "text": [
      "INFO:gurobipy:obj: 113887 rows, 52566 columns, 223372 nonzeros\n",
      "INFO:linopy.constants: Optimization successful: \n",
      "Status: ok\n",
      "Termination condition: optimal\n",
      "Solution: 52566 primals, 113887 duals\n",
      "Objective: 7.10e+09\n",
      "Solver model: available\n",
      "Solver message: 2\n",
      "\n",
      "INFO:pypsa.optimization.optimize:The shadow-prices of the constraints Generator-ext-p-lower, Generator-ext-p-upper were not assigned to the network.\n",
      "C:\\Users\\Change\\AppData\\Local\\Temp\\ipykernel_20640\\537921847.py:171: RuntimeWarning:\n",
      "\n",
      "invalid value encountered in scalar divide\n",
      "\n",
      "INFO:linopy.model: Solve problem using Gurobi solver\n",
      "INFO:linopy.model:Solver options:\n",
      " - OutputFlag: 0\n",
      "INFO:linopy.io:Writing objective.\n",
      "Writing constraints.: 100%|\u001b[38;2;128;191;255m██████████\u001b[0m| 6/6 [00:02<00:00,  2.76it/s]\n",
      "Writing continuous variables.: 100%|\u001b[38;2;128;191;255m██████████\u001b[0m| 2/2 [00:00<00:00,  5.02it/s]\n",
      "INFO:linopy.io: Writing time: 2.8s\n"
     ]
    },
    {
     "name": "stdout",
     "output_type": "stream",
     "text": [
      "Set parameter Username\n"
     ]
    },
    {
     "name": "stderr",
     "output_type": "stream",
     "text": [
      "INFO:gurobipy:Set parameter Username\n"
     ]
    },
    {
     "name": "stdout",
     "output_type": "stream",
     "text": [
      "Set parameter LicenseID to value 2642337\n"
     ]
    },
    {
     "name": "stderr",
     "output_type": "stream",
     "text": [
      "INFO:gurobipy:Set parameter LicenseID to value 2642337\n"
     ]
    },
    {
     "name": "stdout",
     "output_type": "stream",
     "text": [
      "Academic license - for non-commercial use only - expires 2026-03-26\n"
     ]
    },
    {
     "name": "stderr",
     "output_type": "stream",
     "text": [
      "INFO:gurobipy:Academic license - for non-commercial use only - expires 2026-03-26\n"
     ]
    },
    {
     "name": "stdout",
     "output_type": "stream",
     "text": [
      "Read LP format model from file C:\\Users\\Change\\AppData\\Local\\Temp\\linopy-problem-cj9okzxu.lp\n"
     ]
    },
    {
     "name": "stderr",
     "output_type": "stream",
     "text": [
      "INFO:gurobipy:Read LP format model from file C:\\Users\\Change\\AppData\\Local\\Temp\\linopy-problem-cj9okzxu.lp\n"
     ]
    },
    {
     "name": "stdout",
     "output_type": "stream",
     "text": [
      "Reading time = 0.85 seconds\n"
     ]
    },
    {
     "name": "stderr",
     "output_type": "stream",
     "text": [
      "INFO:gurobipy:Reading time = 0.85 seconds\n"
     ]
    },
    {
     "name": "stdout",
     "output_type": "stream",
     "text": [
      "obj: 113887 rows, 52566 columns, 223384 nonzeros\n"
     ]
    },
    {
     "name": "stderr",
     "output_type": "stream",
     "text": [
      "INFO:gurobipy:obj: 113887 rows, 52566 columns, 223384 nonzeros\n",
      "INFO:linopy.constants: Optimization successful: \n",
      "Status: ok\n",
      "Termination condition: optimal\n",
      "Solution: 52566 primals, 113887 duals\n",
      "Objective: 7.12e+09\n",
      "Solver model: available\n",
      "Solver message: 2\n",
      "\n",
      "INFO:pypsa.optimization.optimize:The shadow-prices of the constraints Generator-ext-p-lower, Generator-ext-p-upper were not assigned to the network.\n",
      "C:\\Users\\Change\\AppData\\Local\\Temp\\ipykernel_20640\\537921847.py:171: RuntimeWarning:\n",
      "\n",
      "invalid value encountered in scalar divide\n",
      "\n",
      "INFO:linopy.model: Solve problem using Gurobi solver\n",
      "INFO:linopy.model:Solver options:\n",
      " - OutputFlag: 0\n",
      "INFO:linopy.io:Writing objective.\n",
      "Writing constraints.: 100%|\u001b[38;2;128;191;255m██████████\u001b[0m| 6/6 [00:02<00:00,  2.29it/s]\n",
      "Writing continuous variables.: 100%|\u001b[38;2;128;191;255m██████████\u001b[0m| 2/2 [00:00<00:00,  4.03it/s]\n",
      "INFO:linopy.io: Writing time: 3.35s\n"
     ]
    },
    {
     "name": "stdout",
     "output_type": "stream",
     "text": [
      "Set parameter Username\n"
     ]
    },
    {
     "name": "stderr",
     "output_type": "stream",
     "text": [
      "INFO:gurobipy:Set parameter Username\n"
     ]
    },
    {
     "name": "stdout",
     "output_type": "stream",
     "text": [
      "Set parameter LicenseID to value 2642337\n"
     ]
    },
    {
     "name": "stderr",
     "output_type": "stream",
     "text": [
      "INFO:gurobipy:Set parameter LicenseID to value 2642337\n"
     ]
    },
    {
     "name": "stdout",
     "output_type": "stream",
     "text": [
      "Academic license - for non-commercial use only - expires 2026-03-26\n"
     ]
    },
    {
     "name": "stderr",
     "output_type": "stream",
     "text": [
      "INFO:gurobipy:Academic license - for non-commercial use only - expires 2026-03-26\n"
     ]
    },
    {
     "name": "stdout",
     "output_type": "stream",
     "text": [
      "Read LP format model from file C:\\Users\\Change\\AppData\\Local\\Temp\\linopy-problem-l79l7w19.lp\n"
     ]
    },
    {
     "name": "stderr",
     "output_type": "stream",
     "text": [
      "INFO:gurobipy:Read LP format model from file C:\\Users\\Change\\AppData\\Local\\Temp\\linopy-problem-l79l7w19.lp\n"
     ]
    },
    {
     "name": "stdout",
     "output_type": "stream",
     "text": [
      "Reading time = 0.91 seconds\n"
     ]
    },
    {
     "name": "stderr",
     "output_type": "stream",
     "text": [
      "INFO:gurobipy:Reading time = 0.91 seconds\n"
     ]
    },
    {
     "name": "stdout",
     "output_type": "stream",
     "text": [
      "obj: 113887 rows, 52566 columns, 223375 nonzeros\n"
     ]
    },
    {
     "name": "stderr",
     "output_type": "stream",
     "text": [
      "INFO:gurobipy:obj: 113887 rows, 52566 columns, 223375 nonzeros\n",
      "INFO:linopy.constants: Optimization successful: \n",
      "Status: ok\n",
      "Termination condition: optimal\n",
      "Solution: 52566 primals, 113887 duals\n",
      "Objective: 6.92e+09\n",
      "Solver model: available\n",
      "Solver message: 2\n",
      "\n",
      "INFO:pypsa.optimization.optimize:The shadow-prices of the constraints Generator-ext-p-lower, Generator-ext-p-upper were not assigned to the network.\n",
      "C:\\Users\\Change\\AppData\\Local\\Temp\\ipykernel_20640\\537921847.py:171: RuntimeWarning:\n",
      "\n",
      "invalid value encountered in scalar divide\n",
      "\n"
     ]
    },
    {
     "data": {
      "image/png": "[encoded data removed]",
      "text/plain": [
       "<Figure size 1000x600 with 1 Axes>"
      ]
     },
     "metadata": {},
     "output_type": "display_data"
    }
   ],
   "source": [
    "def annuity(n,r):\n",
    "    \"\"\" Calculate the annuity factor for an asset with lifetime n years and\n",
    "    discount rate  r \"\"\"\n",
    "\n",
    "    if r > 0:\n",
    "        return r/(1. - 1./(1.+r)**n)\n",
    "    else:\n",
    "        return 1/n\n",
    "    \n",
    "network = pypsa.Network()\n",
    "years = [2010, 2011, 2013, 2014, 2015]\n",
    "results = {}\n",
    "for year in years:\n",
    "    hours_in_year = pd.date_range(f'{year}-01-01 00:00Z',\n",
    "                              f'{year}-12-31 23:00Z',\n",
    "                              freq='h')\n",
    "    network.set_snapshots(hours_in_year.values)\n",
    "    network.add(\"Bus\", \"electricity bus\", carrier=\"electricity\", overwrite=True)\n",
    "    network.add(\"Carrier\", \"electricity\", overwrite = True)  \n",
    "    overwrite = True\n",
    "    \n",
    "    # Define file path\n",
    "    file_path = \"Data/electricity_demand.csv\"\n",
    "\n",
    "    # Load dataset\n",
    "    data = pd.read_csv(file_path, sep=';', parse_dates=['utc_time'], index_col='utc_time')\n",
    "    data.index = pd.to_datetime(data.index, utc=True)\n",
    "    # Convert index to datetime format\n",
    "    data.index = pd.to_datetime(data.index, utc=True)\n",
    "\n",
    "    start_date = '2015-01-01 00:00:00+00:00'\n",
    "    end_date = '2015-12-31 23:00:00+00:00'\n",
    "\n",
    "    data = data[start_date:end_date]\n",
    "    country = 'NLD'\n",
    "    data = data[country]\n",
    "    # add load to the bus\n",
    "    network.add(\"Load\",\n",
    "                \"load\",\n",
    "                bus=\"electricity bus\",\n",
    "                p_set = data.values,\n",
    "                overwrite = True)\n",
    "    # add the different carriers, only gas emits CO2\n",
    "    network.add(\"Carrier\", \"coal\", co2_emissions=0.363, overwrite = True) # in /MWh_tt_CO2h\n",
    "    network.add(\"Carrier\", \"offshorewind\", overwrite = True)\n",
    "    network.add(\"Carrier\", \"onshorewind\", overwrite = True)\n",
    "    network.add(\"Carrier\", \"solar\", overwrite = True)\n",
    "    network.add(\"Carrier\", \"nuclear\", overwrite = True)\n",
    "    network.add(\"Carrier\", \"gas\", co2_emissions=0.22, overwrite = True) # in /MWh_tt_CO2h\n",
    "\n",
    "\n",
    "\n",
    "    # add onshore wind generator\n",
    "    df_onshorewind = pd.read_csv('Data/onshore_wind_1979-2017.csv', sep=';', index_col=0)\n",
    "    df_onshorewind.index = pd.to_datetime(df_onshorewind.index)\n",
    "    CF_wind_on = df_onshorewind[country][[hour.strftime(\"%Y-%m-%dT%H:%M:%SZ\") for hour in network.snapshots]]\n",
    "    capital_cost_onshorewind = annuity(30,0.07)*1088000*(1+0.033) # in €/MW\n",
    "    network.add(\"Generator\",\n",
    "                \"onshorewind\",\n",
    "                bus=\"electricity bus\",\n",
    "                p_nom_extendable=True,\n",
    "                carrier=\"onshorewind\",\n",
    "                #p_nom_max=7000, # maximum capacity can be limited due to environmental constraints\n",
    "                capital_cost = capital_cost_onshorewind,\n",
    "                marginal_cost = 0,\n",
    "                p_max_pu = CF_wind_on.values,\n",
    "                overwrite = True)\n",
    "\n",
    "    # add offshore wind generator\n",
    "    df_offshorewind = pd.read_csv('Data/offshore_wind_1979-2017.csv', sep=';', index_col=0)\n",
    "    df_offshorewind.index = pd.to_datetime(df_offshorewind.index)\n",
    "    CF_wind_off = df_offshorewind[country][[hour.strftime(\"%Y-%m-%dT%H:%M:%SZ\") for hour in network.snapshots]]\n",
    "    capital_cost_offshorewind = annuity(30,0.07)*2084520*(1+0.033) # in €/MW\n",
    "    network.add(\"Generator\",\n",
    "                \"offshorewind\",\n",
    "                bus=\"electricity bus\",\n",
    "                p_nom_extendable=True,\n",
    "                carrier=\"offshorewind\",\n",
    "                #p_nom_max=7000, # maximum capacity can be limited due to environmental constraints\n",
    "                capital_cost = capital_cost_offshorewind,\n",
    "                marginal_cost = 0,\n",
    "                p_max_pu = CF_wind_off.values,\n",
    "                overwrite = True)\n",
    "\n",
    "    # add solar PV generator\n",
    "    df_solar = pd.read_csv('Data/pv_optimal.csv', sep=';', index_col=0)\n",
    "    df_solar.index = pd.to_datetime(df_solar.index)\n",
    "    CF_solar = df_solar[country][[hour.strftime(\"%Y-%m-%dT%H:%M:%SZ\") for hour in network.snapshots]]\n",
    "    capital_cost_solar = annuity(25,0.07)*600290*(1+0.03) # in €/MW\n",
    "    network.add(\"Generator\",\n",
    "                \"solar\",\n",
    "                bus=\"electricity bus\",\n",
    "                p_nom_extendable=True,\n",
    "                carrier=\"solar\",\n",
    "                #p_nom_max=1000, # maximum capacity can be limited due to environmental constraints\n",
    "                capital_cost = capital_cost_solar,\n",
    "                marginal_cost = 0,\n",
    "                p_max_pu = CF_solar.values,\n",
    "                overwrite = True)\n",
    "\n",
    "    # add Gas CC W/o ccts\n",
    "    capital_cost_CCGT = annuity(30,0.07)*1300000*(1+0.033) # in €/MW\n",
    "    fuel_cost = 21.6 # in €/MWh_th\n",
    "    efficiency = 0.58 # MWh_elec/MWh_th\n",
    "    VOM_gas = 4 # in €/MWh\n",
    "    marginal_cost_CCGT = VOM_gas + fuel_cost/efficiency # in €/MWh_el\n",
    "    network.add(\"Generator\",\n",
    "                \"CCGT\",\n",
    "                bus=\"electricity bus\",\n",
    "                p_nom_extendable=True,\n",
    "                carrier=\"gas\",\n",
    "                #p_nom_max=7000,\n",
    "                capital_cost = capital_cost_CCGT,\n",
    "                marginal_cost = marginal_cost_CCGT,\n",
    "                overwrite = True)\n",
    "\n",
    "\n",
    "    # add coal power plant  generator coal IGCC W/o ccts\n",
    "    capital_cost_coal = annuity(40,0.07)*3088000*(1+0.03) # in €/MW\n",
    "    fuel_cost = 8.4 # in €/MWh_th\n",
    "    efficiency = 0.392 # MWh_elec/MWh_th\n",
    "    VOM_coal = 6 # in €/MWh\n",
    "    marginal_cost_coal = VOM_coal + fuel_cost/efficiency # in €/MWh_el\n",
    "    network.add(\"Generator\",\n",
    "                \"coal\",\n",
    "                bus=\"electricity bus\",\n",
    "                p_nom_extendable=True,\n",
    "                carrier=\"coal\",\n",
    "                #p_nom_max=7000,\n",
    "                capital_cost = capital_cost_coal,\n",
    "                marginal_cost = marginal_cost_coal,\n",
    "                overwrite = True)\n",
    "\n",
    "\n",
    "    # add nuclear power plant generator\n",
    "    capital_cost_nuclear = annuity(45,0.07)*8594000*(1+0.027) # in €/MW\n",
    "    fuel_cost = 3 # in €/MWh_th \n",
    "    efficiency = 0.33 # MWh_elec/MWh_th\n",
    "    VOM_nuclear = 10 # in €/MWh\n",
    "    marginal_cost_nuclear = VOM_nuclear + fuel_cost/efficiency # in €/MWh_el\n",
    "    network.add(\"Generator\",\n",
    "                \"nuclear\",\n",
    "                bus=\"electricity bus\",\n",
    "                p_nom_extendable=True,\n",
    "                carrier=\"nuclear\",\n",
    "                #p_nom_max=7000,\n",
    "                capital_cost = capital_cost_nuclear,\n",
    "                marginal_cost = marginal_cost_nuclear,\n",
    "                overwrite = True)\n",
    "\n",
    "    co2_limit=13000000#tonCO2\n",
    "    network.add(\"GlobalConstraint\",\n",
    "                \"co2_limit_13MT\",\n",
    "                type=\"primary_energy\",\n",
    "                carrier_attribute=\"co2_emissions\",\n",
    "                sense=\"<=\",\n",
    "                constant=co2_limit,\n",
    "                overwrite = True)\n",
    "    \n",
    "    #calculating average capacity factor\n",
    "\n",
    "\n",
    "    #network.optimize(solver_name='gurobi')\n",
    "    network.optimize(solver_name='gurobi', solver_options={'OutputFlag': 0})\n",
    "    total_cost = network.objective\n",
    "    capacities = network.generators.p_nom_opt\n",
    "\n",
    "\n",
    "    average_cf = {}\n",
    "    for gen in network.generators.index:\n",
    "        average_cf[gen] = np.mean(network.generators_t.p[gen].values)/network.generators.loc[gen, \"p_nom_opt\"]\n",
    "\n",
    "    results[year] = {'total_cost': total_cost,\n",
    "                       'capacities': capacities,\n",
    "                       'average_cf': average_cf}\n",
    "    \n",
    "# Plotting the results\n",
    "techs = [\"onshorewind\", \"offshorewind\", \"solar\", \"CCGT\", \"coal\", \"nuclear\"]\n",
    "means = []\n",
    "stds = []\n",
    "\n",
    "for tech in techs:\n",
    "    capacities = [results[y][\"capacities\"].get(tech, 0) for y in years]\n",
    "    means.append(np.mean(capacities))\n",
    "    stds.append(np.std(capacities))\n",
    "\n",
    "plt.figure(figsize=(10, 6))\n",
    "plt.bar(techs, means, yerr=stds, capsize=5, color='skyblue')\n",
    "plt.ylabel(\"Installed Capacity (MW)\")\n",
    "plt.title(\"Average Capacity and Variability (2010–2015)\")\n",
    "plt.grid(True, axis='y')\n",
    "plt.tight_layout()\n",
    "plt.show()\n",
    "\n",
    "\n"
   ]
  }
 ],
 "metadata": {
  "kernelspec": {
   "display_name": "base",
   "language": "python",
   "name": "python3"
  },
  "language_info": {
   "codemirror_mode": {
    "name": "ipython",
    "version": 3
   },
   "file_extension": ".py",
   "mimetype": "text/x-python",
   "name": "python",
   "nbconvert_exporter": "python",
   "pygments_lexer": "ipython3",
   "version": "3.12.7"
  }
 },
 "nbformat": 4,
 "nbformat_minor": 5
}
