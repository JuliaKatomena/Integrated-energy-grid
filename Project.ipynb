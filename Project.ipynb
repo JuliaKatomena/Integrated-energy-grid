{
 "cells": [
  {
   "cell_type": "code",
   "execution_count": 15,
   "metadata": {},
   "outputs": [],
   "source": [
    "import pandas as pd\n",
    "import pypsa\n",
    "import matplotlib.pyplot as plt"
   ]
  },
  {
   "cell_type": "markdown",
   "metadata": {},
   "source": [
    "### Creating a one bus for the Netherlands"
   ]
  },
  {
   "cell_type": "code",
   "execution_count": 3,
   "metadata": {},
   "outputs": [
    {
     "data": {
      "text/plain": [
       "DatetimeIndex(['2017-01-01 00:00:00', '2017-01-01 01:00:00',\n",
       "               '2017-01-01 02:00:00', '2017-01-01 03:00:00',\n",
       "               '2017-01-01 04:00:00', '2017-01-01 05:00:00',\n",
       "               '2017-01-01 06:00:00', '2017-01-01 07:00:00',\n",
       "               '2017-01-01 08:00:00', '2017-01-01 09:00:00',\n",
       "               ...\n",
       "               '2017-12-31 14:00:00', '2017-12-31 15:00:00',\n",
       "               '2017-12-31 16:00:00', '2017-12-31 17:00:00',\n",
       "               '2017-12-31 18:00:00', '2017-12-31 19:00:00',\n",
       "               '2017-12-31 20:00:00', '2017-12-31 21:00:00',\n",
       "               '2017-12-31 22:00:00', '2017-12-31 23:00:00'],\n",
       "              dtype='datetime64[ns]', name='snapshot', length=8760, freq=None)"
      ]
     },
     "execution_count": 3,
     "metadata": {},
     "output_type": "execute_result"
    }
   ],
   "source": [
    "network = pypsa.Network()\n",
    "hours_in_2023 = pd.date_range('2017-01-01 00:00Z',\n",
    "                              '2017-12-31 23:00Z',\n",
    "                              freq='h')\n",
    "\n",
    "network.set_snapshots(hours_in_2023.values)\n",
    "\n",
    "network.add(\"Bus\",\n",
    "            \"electricity bus\")\n",
    "\n",
    "network.snapshots"
   ]
  },
  {
   "cell_type": "markdown",
   "metadata": {},
   "source": [
    "#### Getting the demand for the Netherlands and adding it to the bus"
   ]
  },
  {
   "cell_type": "code",
   "execution_count": 5,
   "metadata": {},
   "outputs": [
    {
     "name": "stderr",
     "output_type": "stream",
     "text": [
      "<>:2: DeprecationWarning: invalid escape sequence '\\d'\n",
      "<>:2: DeprecationWarning: invalid escape sequence '\\d'\n",
      "C:\\Users\\Julia\\AppData\\Local\\Temp\\ipykernel_30536\\2064595465.py:2: DeprecationWarning: invalid escape sequence '\\d'\n",
      "  file_path = \"Data\\demand_data.csv\"\n"
     ]
    },
    {
     "name": "stdout",
     "output_type": "stream",
     "text": [
      "                                 cet_cest_timestamp  \\\n",
      "utc_timestamp                                         \n",
      "2017-01-01 00:00:00+00:00  2017-01-01T01:00:00+0100   \n",
      "2017-01-01 01:00:00+00:00  2017-01-01T02:00:00+0100   \n",
      "2017-01-01 02:00:00+00:00  2017-01-01T03:00:00+0100   \n",
      "2017-01-01 03:00:00+00:00  2017-01-01T04:00:00+0100   \n",
      "2017-01-01 04:00:00+00:00  2017-01-01T05:00:00+0100   \n",
      "\n",
      "                           NL_load_actual_entsoe_transparency  \\\n",
      "utc_timestamp                                                   \n",
      "2017-01-01 00:00:00+00:00                             10794.0   \n",
      "2017-01-01 01:00:00+00:00                             10320.0   \n",
      "2017-01-01 02:00:00+00:00                              9930.0   \n",
      "2017-01-01 03:00:00+00:00                              9679.0   \n",
      "2017-01-01 04:00:00+00:00                              9652.0   \n",
      "\n",
      "                           NL_load_forecast_entsoe_transparency  \\\n",
      "utc_timestamp                                                     \n",
      "2017-01-01 00:00:00+00:00                               10493.0   \n",
      "2017-01-01 01:00:00+00:00                                9894.0   \n",
      "2017-01-01 02:00:00+00:00                                9530.0   \n",
      "2017-01-01 03:00:00+00:00                                9477.0   \n",
      "2017-01-01 04:00:00+00:00                                9783.0   \n",
      "\n",
      "                           NL_solar_generation_actual  \\\n",
      "utc_timestamp                                           \n",
      "2017-01-01 00:00:00+00:00                         0.0   \n",
      "2017-01-01 01:00:00+00:00                         0.0   \n",
      "2017-01-01 02:00:00+00:00                         0.0   \n",
      "2017-01-01 03:00:00+00:00                         0.0   \n",
      "2017-01-01 04:00:00+00:00                         0.0   \n",
      "\n",
      "                           NL_wind_generation_actual  \\\n",
      "utc_timestamp                                          \n",
      "2017-01-01 00:00:00+00:00                     2237.0   \n",
      "2017-01-01 01:00:00+00:00                     2265.0   \n",
      "2017-01-01 02:00:00+00:00                     2299.0   \n",
      "2017-01-01 03:00:00+00:00                     2390.0   \n",
      "2017-01-01 04:00:00+00:00                     2386.0   \n",
      "\n",
      "                           NL_wind_offshore_generation_actual  \\\n",
      "utc_timestamp                                                   \n",
      "2017-01-01 00:00:00+00:00                               892.0   \n",
      "2017-01-01 01:00:00+00:00                               909.0   \n",
      "2017-01-01 02:00:00+00:00                               897.0   \n",
      "2017-01-01 03:00:00+00:00                               914.0   \n",
      "2017-01-01 04:00:00+00:00                               919.0   \n",
      "\n",
      "                           NL_wind_onshore_generation_actual  \n",
      "utc_timestamp                                                 \n",
      "2017-01-01 00:00:00+00:00                             1344.0  \n",
      "2017-01-01 01:00:00+00:00                             1357.0  \n",
      "2017-01-01 02:00:00+00:00                             1402.0  \n",
      "2017-01-01 03:00:00+00:00                             1475.0  \n",
      "2017-01-01 04:00:00+00:00                             1468.0  \n"
     ]
    }
   ],
   "source": [
    "# Define file path\n",
    "file_path = \"Data\\demand_data.csv\"\n",
    "\n",
    "# Load dataset\n",
    "data = pd.read_csv(file_path, sep=';', parse_dates=['utc_timestamp'], index_col='utc_timestamp')\n",
    "\n",
    "# Rename columns (if necessary)\n",
    "data.columns = [\n",
    "    'cet_cest_timestamp', 'NL_load_actual_entsoe_transparency',\n",
    "    'NL_load_forecast_entsoe_transparency', 'NL_solar_generation_actual',\n",
    "    'NL_wind_generation_actual', 'NL_wind_offshore_generation_actual',\n",
    "    'NL_wind_onshore_generation_actual'\n",
    "]\n",
    "\n",
    "# Convert index to datetime format\n",
    "data.index = pd.to_datetime(data.index, utc=True)\n",
    "\n",
    "start_date = '2017-01-01 00:00:00+00:00'\n",
    "end_date = '2017-12-31 23:00:00+00:00'\n",
    "\n",
    "data = data[start_date:end_date]\n",
    "print(data.head())\n",
    "country = 'NLD'"
   ]
  },
  {
   "cell_type": "code",
   "execution_count": 6,
   "metadata": {},
   "outputs": [
    {
     "data": {
      "text/plain": [
       "Index(['load'], dtype='object')"
      ]
     },
     "execution_count": 6,
     "metadata": {},
     "output_type": "execute_result"
    }
   ],
   "source": [
    "# add load to the bus\n",
    "network.add(\"Load\",\n",
    "            \"load\",\n",
    "            bus=\"electricity bus\",\n",
    "            p_set=data['NL_load_actual_entsoe_transparency'].values)"
   ]
  },
  {
   "cell_type": "code",
   "execution_count": 7,
   "metadata": {},
   "outputs": [
    {
     "data": {
      "application/vnd.microsoft.datawrangler.viewer.v0+json": {
       "columns": [
        {
         "name": "snapshot",
         "rawType": "datetime64[ns]",
         "type": "datetime"
        },
        {
         "name": "load",
         "rawType": "float64",
         "type": "float"
        }
       ],
       "conversionMethod": "pd.DataFrame",
       "ref": "5f0e9a24-397f-4d42-993f-ab3baa17f0d5",
       "rows": [
        [
         "2017-01-01 00:00:00",
         "10794.0"
        ],
        [
         "2017-01-01 01:00:00",
         "10320.0"
        ],
        [
         "2017-01-01 02:00:00",
         "9930.0"
        ],
        [
         "2017-01-01 03:00:00",
         "9679.0"
        ],
        [
         "2017-01-01 04:00:00",
         "9652.0"
        ],
        [
         "2017-01-01 05:00:00",
         "9784.0"
        ],
        [
         "2017-01-01 06:00:00",
         "10117.0"
        ],
        [
         "2017-01-01 07:00:00",
         "10464.0"
        ],
        [
         "2017-01-01 08:00:00",
         "10852.0"
        ],
        [
         "2017-01-01 09:00:00",
         "11555.0"
        ],
        [
         "2017-01-01 10:00:00",
         "12136.0"
        ],
        [
         "2017-01-01 11:00:00",
         "12524.0"
        ],
        [
         "2017-01-01 12:00:00",
         "12652.0"
        ],
        [
         "2017-01-01 13:00:00",
         "12694.0"
        ],
        [
         "2017-01-01 14:00:00",
         "12728.0"
        ],
        [
         "2017-01-01 15:00:00",
         "13162.0"
        ],
        [
         "2017-01-01 16:00:00",
         "14110.0"
        ],
        [
         "2017-01-01 17:00:00",
         "14122.0"
        ],
        [
         "2017-01-01 18:00:00",
         "13853.0"
        ],
        [
         "2017-01-01 19:00:00",
         "13448.0"
        ],
        [
         "2017-01-01 20:00:00",
         "12815.0"
        ],
        [
         "2017-01-01 21:00:00",
         "12128.0"
        ],
        [
         "2017-01-01 22:00:00",
         "11287.0"
        ],
        [
         "2017-01-01 23:00:00",
         "10553.0"
        ],
        [
         "2017-01-02 00:00:00",
         "10089.0"
        ],
        [
         "2017-01-02 01:00:00",
         "9844.0"
        ],
        [
         "2017-01-02 02:00:00",
         "9748.0"
        ],
        [
         "2017-01-02 03:00:00",
         "9872.0"
        ],
        [
         "2017-01-02 04:00:00",
         "10400.0"
        ],
        [
         "2017-01-02 05:00:00",
         "11694.0"
        ],
        [
         "2017-01-02 06:00:00",
         "13496.0"
        ],
        [
         "2017-01-02 07:00:00",
         "15034.0"
        ],
        [
         "2017-01-02 08:00:00",
         "15746.0"
        ],
        [
         "2017-01-02 09:00:00",
         "15981.0"
        ],
        [
         "2017-01-02 10:00:00",
         "15934.0"
        ],
        [
         "2017-01-02 11:00:00",
         "15828.0"
        ],
        [
         "2017-01-02 12:00:00",
         "15902.0"
        ],
        [
         "2017-01-02 13:00:00",
         "15886.0"
        ],
        [
         "2017-01-02 14:00:00",
         "15952.0"
        ],
        [
         "2017-01-02 15:00:00",
         "16392.0"
        ],
        [
         "2017-01-02 16:00:00",
         "17535.0"
        ],
        [
         "2017-01-02 17:00:00",
         "16792.0"
        ],
        [
         "2017-01-02 18:00:00",
         "16162.0"
        ],
        [
         "2017-01-02 19:00:00",
         "15397.0"
        ],
        [
         "2017-01-02 20:00:00",
         "14448.0"
        ],
        [
         "2017-01-02 21:00:00",
         "13404.0"
        ],
        [
         "2017-01-02 22:00:00",
         "12464.0"
        ],
        [
         "2017-01-02 23:00:00",
         "11574.0"
        ],
        [
         "2017-01-03 00:00:00",
         "10939.0"
        ],
        [
         "2017-01-03 01:00:00",
         "10600.0"
        ]
       ],
       "shape": {
        "columns": 1,
        "rows": 8760
       }
      },
      "text/html": [
       "<div>\n",
       "<style scoped>\n",
       "    .dataframe tbody tr th:only-of-type {\n",
       "        vertical-align: middle;\n",
       "    }\n",
       "\n",
       "    .dataframe tbody tr th {\n",
       "        vertical-align: top;\n",
       "    }\n",
       "\n",
       "    .dataframe thead th {\n",
       "        text-align: right;\n",
       "    }\n",
       "</style>\n",
       "<table border=\"1\" class=\"dataframe\">\n",
       "  <thead>\n",
       "    <tr style=\"text-align: right;\">\n",
       "      <th>Load</th>\n",
       "      <th>load</th>\n",
       "    </tr>\n",
       "    <tr>\n",
       "      <th>snapshot</th>\n",
       "      <th></th>\n",
       "    </tr>\n",
       "  </thead>\n",
       "  <tbody>\n",
       "    <tr>\n",
       "      <th>2017-01-01 00:00:00</th>\n",
       "      <td>10794.0</td>\n",
       "    </tr>\n",
       "    <tr>\n",
       "      <th>2017-01-01 01:00:00</th>\n",
       "      <td>10320.0</td>\n",
       "    </tr>\n",
       "    <tr>\n",
       "      <th>2017-01-01 02:00:00</th>\n",
       "      <td>9930.0</td>\n",
       "    </tr>\n",
       "    <tr>\n",
       "      <th>2017-01-01 03:00:00</th>\n",
       "      <td>9679.0</td>\n",
       "    </tr>\n",
       "    <tr>\n",
       "      <th>2017-01-01 04:00:00</th>\n",
       "      <td>9652.0</td>\n",
       "    </tr>\n",
       "    <tr>\n",
       "      <th>...</th>\n",
       "      <td>...</td>\n",
       "    </tr>\n",
       "    <tr>\n",
       "      <th>2017-12-31 19:00:00</th>\n",
       "      <td>12703.0</td>\n",
       "    </tr>\n",
       "    <tr>\n",
       "      <th>2017-12-31 20:00:00</th>\n",
       "      <td>11961.0</td>\n",
       "    </tr>\n",
       "    <tr>\n",
       "      <th>2017-12-31 21:00:00</th>\n",
       "      <td>11478.0</td>\n",
       "    </tr>\n",
       "    <tr>\n",
       "      <th>2017-12-31 22:00:00</th>\n",
       "      <td>11142.0</td>\n",
       "    </tr>\n",
       "    <tr>\n",
       "      <th>2017-12-31 23:00:00</th>\n",
       "      <td>10823.0</td>\n",
       "    </tr>\n",
       "  </tbody>\n",
       "</table>\n",
       "<p>8760 rows × 1 columns</p>\n",
       "</div>"
      ],
      "text/plain": [
       "Load                    load\n",
       "snapshot                    \n",
       "2017-01-01 00:00:00  10794.0\n",
       "2017-01-01 01:00:00  10320.0\n",
       "2017-01-01 02:00:00   9930.0\n",
       "2017-01-01 03:00:00   9679.0\n",
       "2017-01-01 04:00:00   9652.0\n",
       "...                      ...\n",
       "2017-12-31 19:00:00  12703.0\n",
       "2017-12-31 20:00:00  11961.0\n",
       "2017-12-31 21:00:00  11478.0\n",
       "2017-12-31 22:00:00  11142.0\n",
       "2017-12-31 23:00:00  10823.0\n",
       "\n",
       "[8760 rows x 1 columns]"
      ]
     },
     "execution_count": 7,
     "metadata": {},
     "output_type": "execute_result"
    }
   ],
   "source": [
    "network.loads_t.p_set"
   ]
  },
  {
   "cell_type": "markdown",
   "metadata": {},
   "source": [
    "#### Adding different generation types "
   ]
  },
  {
   "cell_type": "code",
   "execution_count": 8,
   "metadata": {},
   "outputs": [
    {
     "name": "stdout",
     "output_type": "stream",
     "text": [
      "0.0858105172206656\n",
      "37563.55391334636\n"
     ]
    }
   ],
   "source": [
    "def annuity(n,r):\n",
    "    \"\"\" Calculate the annuity factor for an asset with lifetime n years and\n",
    "    discount rate  r \"\"\"\n",
    "\n",
    "    if r > 0:\n",
    "        return r/(1. - 1./(1.+r)**n)\n",
    "    else:\n",
    "        return 1/n\n",
    "    \n",
    "print(annuity(25,0.07))\n",
    "print(annuity(25,0.07)*425000*(1+0.03))"
   ]
  },
  {
   "cell_type": "code",
   "execution_count": 9,
   "metadata": {},
   "outputs": [
    {
     "data": {
      "text/plain": [
       "Index(['coal'], dtype='object')"
      ]
     },
     "execution_count": 9,
     "metadata": {},
     "output_type": "execute_result"
    }
   ],
   "source": [
    "# add the different carriers, only gas emits CO2\n",
    "network.add(\"Carrier\", \"gas\", co2_emissions=0.19) # in /MWh_tt_CO2h\n",
    "network.add(\"Carrier\", \"coal\", co2_emissions=0.3) # in /MWh_tt_CO2h\n",
    "network.add(\"Carrier\", \"offshorewind\")\n",
    "network.add(\"Carrier\", \"onshorewind\")\n",
    "network.add(\"Carrier\", \"solar\")\n",
    "\n",
    "# add onshore wind generator\n",
    "df_onshorewind = pd.read_csv('Data/onshore_wind_1979-2017.csv', sep=';', index_col=0)\n",
    "df_onshorewind.index = pd.to_datetime(df_onshorewind.index)\n",
    "CF_wind = df_onshorewind[country][[hour.strftime(\"%Y-%m-%dT%H:%M:%SZ\") for hour in network.snapshots]]\n",
    "capital_cost_onshorewind = annuity(30,0.07)*910000*(1+0.033) # in €/MW\n",
    "network.add(\"Generator\",\n",
    "            \"onshorewind\",\n",
    "            bus=\"electricity bus\",\n",
    "            p_nom_extendable=True,\n",
    "            carrier=\"onshorewind\",\n",
    "            #p_nom_max=1000, # maximum capacity can be limited due to environmental constraints\n",
    "            capital_cost = capital_cost_onshorewind,\n",
    "            marginal_cost = 0,\n",
    "            p_max_pu = CF_wind.values)\n",
    "\n",
    "# add offshore wind generator\n",
    "df_offshorewind = pd.read_csv('Data/offshore_wind_1979-2017.csv', sep=';', index_col=0)\n",
    "df_offshorewind.index = pd.to_datetime(df_offshorewind.index)\n",
    "CF_wind = df_offshorewind[country][[hour.strftime(\"%Y-%m-%dT%H:%M:%SZ\") for hour in network.snapshots]]\n",
    "capital_cost_offshorewind = annuity(30,0.07)*1000000*(1+0.033) # in €/MW\n",
    "network.add(\"Generator\",\n",
    "            \"offshorewind\",\n",
    "            bus=\"electricity bus\",\n",
    "            p_nom_extendable=True,\n",
    "            carrier=\"offshorewind\",\n",
    "            #p_nom_max=1000, # maximum capacity can be limited due to environmental constraints\n",
    "            capital_cost = capital_cost_offshorewind,\n",
    "            marginal_cost = 0,\n",
    "            p_max_pu = CF_wind.values)\n",
    "\n",
    "# add solar PV generator\n",
    "df_solar = pd.read_csv('Data/pv_optimal.csv', sep=';', index_col=0)\n",
    "df_solar.index = pd.to_datetime(df_solar.index)\n",
    "CF_solar = df_solar[country][[hour.strftime(\"%Y-%m-%dT%H:%M:%SZ\") for hour in network.snapshots]]\n",
    "capital_cost_solar = annuity(25,0.07)*425000*(1+0.03) # in €/MW\n",
    "network.add(\"Generator\",\n",
    "            \"solar\",\n",
    "            bus=\"electricity bus\",\n",
    "            p_nom_extendable=True,\n",
    "            carrier=\"solar\",\n",
    "            #p_nom_max=1000, # maximum capacity can be limited due to environmental constraints\n",
    "            capital_cost = capital_cost_solar,\n",
    "            marginal_cost = 0,\n",
    "            p_max_pu = CF_solar.values)\n",
    "\n",
    "# add OCGT (Open Cycle Gas Turbine) generator\n",
    "capital_cost_OCGT = annuity(25,0.07)*560000*(1+0.033) # in €/MW\n",
    "fuel_cost = 21.6 # in €/MWh_th\n",
    "efficiency = 0.39 # MWh_elec/MWh_th\n",
    "marginal_cost_OCGT = fuel_cost/efficiency # in €/MWh_el\n",
    "network.add(\"Generator\",\n",
    "            \"OCGT\",\n",
    "            bus=\"electricity bus\",\n",
    "            p_nom_extendable=True,\n",
    "            carrier=\"gas\",\n",
    "            #p_nom_max=1000,\n",
    "            capital_cost = capital_cost_OCGT,\n",
    "            marginal_cost = marginal_cost_OCGT)\n",
    "\n",
    "\n",
    "# add coal power plant  generator\n",
    "capital_cost_coal = annuity(30,0.07)*700000*(1+0.033) # in €/MW\n",
    "fuel_cost = 30 # in €/MWh_th\n",
    "efficiency = 0.42 # MWh_elec/MWh_th\n",
    "marginal_cost_coal = fuel_cost/efficiency # in €/MWh_el\n",
    "network.add(\"Generator\",\n",
    "            \"coal\",\n",
    "            bus=\"electricity bus\",\n",
    "            p_nom_extendable=True,\n",
    "            carrier=\"coal\",\n",
    "            #p_nom_max=1000,\n",
    "            capital_cost = capital_cost_coal,\n",
    "            marginal_cost = marginal_cost_coal)"
   ]
  },
  {
   "cell_type": "code",
   "execution_count": 10,
   "metadata": {},
   "outputs": [
    {
     "data": {
      "application/vnd.microsoft.datawrangler.viewer.v0+json": {
       "columns": [
        {
         "name": "snapshot",
         "rawType": "datetime64[ns]",
         "type": "datetime"
        },
        {
         "name": "offshorewind",
         "rawType": "float64",
         "type": "float"
        },
        {
         "name": "onshorewind",
         "rawType": "float64",
         "type": "float"
        },
        {
         "name": "solar",
         "rawType": "float64",
         "type": "float"
        }
       ],
       "conversionMethod": "pd.DataFrame",
       "ref": "f9b7fed5-af06-44d7-91c7-79f85cb5abb2",
       "rows": [
        [
         "2017-01-01 00:00:00",
         "0.691",
         "0.35",
         "0.0"
        ],
        [
         "2017-01-01 01:00:00",
         "0.732",
         "0.377",
         "0.0"
        ],
        [
         "2017-01-01 02:00:00",
         "0.743",
         "0.385",
         "0.0"
        ],
        [
         "2017-01-01 03:00:00",
         "0.748",
         "0.4",
         "0.0"
        ],
        [
         "2017-01-01 04:00:00",
         "0.734",
         "0.406",
         "0.0"
        ],
        [
         "2017-01-01 05:00:00",
         "0.698",
         "0.396",
         "0.0"
        ],
        [
         "2017-01-01 06:00:00",
         "0.626",
         "0.352",
         "0.0"
        ],
        [
         "2017-01-01 07:00:00",
         "0.675",
         "0.376",
         "0.0"
        ],
        [
         "2017-01-01 08:00:00",
         "0.708",
         "0.39",
         "0.024"
        ],
        [
         "2017-01-01 09:00:00",
         "0.65",
         "0.374",
         "0.101"
        ],
        [
         "2017-01-01 10:00:00",
         "0.6",
         "0.361",
         "0.16"
        ],
        [
         "2017-01-01 11:00:00",
         "0.553",
         "0.349",
         "0.134"
        ],
        [
         "2017-01-01 12:00:00",
         "0.488",
         "0.304",
         "0.075"
        ],
        [
         "2017-01-01 13:00:00",
         "0.691",
         "0.379",
         "0.032"
        ],
        [
         "2017-01-01 14:00:00",
         "0.726",
         "0.388",
         "0.019"
        ],
        [
         "2017-01-01 15:00:00",
         "0.628",
         "0.349",
         "0.003"
        ],
        [
         "2017-01-01 16:00:00",
         "0.493",
         "0.313",
         "0.0"
        ],
        [
         "2017-01-01 17:00:00",
         "0.33",
         "0.263",
         "0.0"
        ],
        [
         "2017-01-01 18:00:00",
         "0.145",
         "0.157",
         "0.0"
        ],
        [
         "2017-01-01 19:00:00",
         "0.131",
         "0.168",
         "0.0"
        ],
        [
         "2017-01-01 20:00:00",
         "0.128",
         "0.153",
         "0.0"
        ],
        [
         "2017-01-01 21:00:00",
         "0.166",
         "0.113",
         "0.0"
        ],
        [
         "2017-01-01 22:00:00",
         "0.193",
         "0.097",
         "0.0"
        ],
        [
         "2017-01-01 23:00:00",
         "0.263",
         "0.105",
         "0.0"
        ],
        [
         "2017-01-02 00:00:00",
         "0.502",
         "0.162",
         "0.0"
        ],
        [
         "2017-01-02 01:00:00",
         "0.641",
         "0.222",
         "0.0"
        ],
        [
         "2017-01-02 02:00:00",
         "0.684",
         "0.274",
         "0.0"
        ],
        [
         "2017-01-02 03:00:00",
         "0.665",
         "0.284",
         "0.0"
        ],
        [
         "2017-01-02 04:00:00",
         "0.661",
         "0.297",
         "0.0"
        ],
        [
         "2017-01-02 05:00:00",
         "0.673",
         "0.304",
         "0.0"
        ],
        [
         "2017-01-02 06:00:00",
         "0.594",
         "0.261",
         "0.0"
        ],
        [
         "2017-01-02 07:00:00",
         "0.652",
         "0.284",
         "0.0"
        ],
        [
         "2017-01-02 08:00:00",
         "0.66",
         "0.287",
         "0.056"
        ],
        [
         "2017-01-02 09:00:00",
         "0.563",
         "0.247",
         "0.304"
        ],
        [
         "2017-01-02 10:00:00",
         "0.498",
         "0.226",
         "0.461"
        ],
        [
         "2017-01-02 11:00:00",
         "0.46",
         "0.207",
         "0.505"
        ],
        [
         "2017-01-02 12:00:00",
         "0.279",
         "0.119",
         "0.439"
        ],
        [
         "2017-01-02 13:00:00",
         "0.366",
         "0.155",
         "0.332"
        ],
        [
         "2017-01-02 14:00:00",
         "0.439",
         "0.179",
         "0.171"
        ],
        [
         "2017-01-02 15:00:00",
         "0.418",
         "0.165",
         "0.011"
        ],
        [
         "2017-01-02 16:00:00",
         "0.409",
         "0.163",
         "0.0"
        ],
        [
         "2017-01-02 17:00:00",
         "0.409",
         "0.165",
         "0.0"
        ],
        [
         "2017-01-02 18:00:00",
         "0.267",
         "0.137",
         "0.0"
        ],
        [
         "2017-01-02 19:00:00",
         "0.344",
         "0.169",
         "0.0"
        ],
        [
         "2017-01-02 20:00:00",
         "0.416",
         "0.191",
         "0.0"
        ],
        [
         "2017-01-02 21:00:00",
         "0.495",
         "0.208",
         "0.0"
        ],
        [
         "2017-01-02 22:00:00",
         "0.57",
         "0.23",
         "0.0"
        ],
        [
         "2017-01-02 23:00:00",
         "0.624",
         "0.245",
         "0.0"
        ],
        [
         "2017-01-03 00:00:00",
         "0.552",
         "0.222",
         "0.0"
        ],
        [
         "2017-01-03 01:00:00",
         "0.568",
         "0.256",
         "0.0"
        ]
       ],
       "shape": {
        "columns": 3,
        "rows": 8760
       }
      },
      "text/html": [
       "<div>\n",
       "<style scoped>\n",
       "    .dataframe tbody tr th:only-of-type {\n",
       "        vertical-align: middle;\n",
       "    }\n",
       "\n",
       "    .dataframe tbody tr th {\n",
       "        vertical-align: top;\n",
       "    }\n",
       "\n",
       "    .dataframe thead th {\n",
       "        text-align: right;\n",
       "    }\n",
       "</style>\n",
       "<table border=\"1\" class=\"dataframe\">\n",
       "  <thead>\n",
       "    <tr style=\"text-align: right;\">\n",
       "      <th>Generator</th>\n",
       "      <th>offshorewind</th>\n",
       "      <th>onshorewind</th>\n",
       "      <th>solar</th>\n",
       "    </tr>\n",
       "    <tr>\n",
       "      <th>snapshot</th>\n",
       "      <th></th>\n",
       "      <th></th>\n",
       "      <th></th>\n",
       "    </tr>\n",
       "  </thead>\n",
       "  <tbody>\n",
       "    <tr>\n",
       "      <th>2017-01-01 00:00:00</th>\n",
       "      <td>0.691</td>\n",
       "      <td>0.350</td>\n",
       "      <td>0.0</td>\n",
       "    </tr>\n",
       "    <tr>\n",
       "      <th>2017-01-01 01:00:00</th>\n",
       "      <td>0.732</td>\n",
       "      <td>0.377</td>\n",
       "      <td>0.0</td>\n",
       "    </tr>\n",
       "    <tr>\n",
       "      <th>2017-01-01 02:00:00</th>\n",
       "      <td>0.743</td>\n",
       "      <td>0.385</td>\n",
       "      <td>0.0</td>\n",
       "    </tr>\n",
       "    <tr>\n",
       "      <th>2017-01-01 03:00:00</th>\n",
       "      <td>0.748</td>\n",
       "      <td>0.400</td>\n",
       "      <td>0.0</td>\n",
       "    </tr>\n",
       "    <tr>\n",
       "      <th>2017-01-01 04:00:00</th>\n",
       "      <td>0.734</td>\n",
       "      <td>0.406</td>\n",
       "      <td>0.0</td>\n",
       "    </tr>\n",
       "    <tr>\n",
       "      <th>...</th>\n",
       "      <td>...</td>\n",
       "      <td>...</td>\n",
       "      <td>...</td>\n",
       "    </tr>\n",
       "    <tr>\n",
       "      <th>2017-12-31 19:00:00</th>\n",
       "      <td>0.711</td>\n",
       "      <td>0.468</td>\n",
       "      <td>0.0</td>\n",
       "    </tr>\n",
       "    <tr>\n",
       "      <th>2017-12-31 20:00:00</th>\n",
       "      <td>0.809</td>\n",
       "      <td>0.595</td>\n",
       "      <td>0.0</td>\n",
       "    </tr>\n",
       "    <tr>\n",
       "      <th>2017-12-31 21:00:00</th>\n",
       "      <td>0.877</td>\n",
       "      <td>0.684</td>\n",
       "      <td>0.0</td>\n",
       "    </tr>\n",
       "    <tr>\n",
       "      <th>2017-12-31 22:00:00</th>\n",
       "      <td>0.933</td>\n",
       "      <td>0.762</td>\n",
       "      <td>0.0</td>\n",
       "    </tr>\n",
       "    <tr>\n",
       "      <th>2017-12-31 23:00:00</th>\n",
       "      <td>0.975</td>\n",
       "      <td>0.827</td>\n",
       "      <td>0.0</td>\n",
       "    </tr>\n",
       "  </tbody>\n",
       "</table>\n",
       "<p>8760 rows × 3 columns</p>\n",
       "</div>"
      ],
      "text/plain": [
       "Generator            offshorewind  onshorewind  solar\n",
       "snapshot                                             \n",
       "2017-01-01 00:00:00         0.691        0.350    0.0\n",
       "2017-01-01 01:00:00         0.732        0.377    0.0\n",
       "2017-01-01 02:00:00         0.743        0.385    0.0\n",
       "2017-01-01 03:00:00         0.748        0.400    0.0\n",
       "2017-01-01 04:00:00         0.734        0.406    0.0\n",
       "...                           ...          ...    ...\n",
       "2017-12-31 19:00:00         0.711        0.468    0.0\n",
       "2017-12-31 20:00:00         0.809        0.595    0.0\n",
       "2017-12-31 21:00:00         0.877        0.684    0.0\n",
       "2017-12-31 22:00:00         0.933        0.762    0.0\n",
       "2017-12-31 23:00:00         0.975        0.827    0.0\n",
       "\n",
       "[8760 rows x 3 columns]"
      ]
     },
     "execution_count": 10,
     "metadata": {},
     "output_type": "execute_result"
    }
   ],
   "source": [
    "network.generators_t.p_max_pu"
   ]
  },
  {
   "cell_type": "code",
   "execution_count": 12,
   "metadata": {},
   "outputs": [
    {
     "name": "stderr",
     "output_type": "stream",
     "text": [
      "WARNING:pypsa.consistency:The following buses have carriers which are not defined:\n",
      "Index(['electricity bus'], dtype='object', name='Bus')\n",
      "WARNING:pypsa.consistency:The following buses have carriers which are not defined:\n",
      "Index(['electricity bus'], dtype='object', name='Bus')\n",
      "INFO:linopy.model: Solve problem using Gurobi solver\n",
      "INFO:linopy.io:Writing objective.\n",
      "Writing constraints.: 100%|\u001b[38;2;128;191;255m██████████\u001b[0m| 5/5 [00:01<00:00,  4.93it/s]\n",
      "Writing continuous variables.: 100%|\u001b[38;2;128;191;255m██████████\u001b[0m| 2/2 [00:00<00:00, 10.06it/s]\n",
      "INFO:linopy.io: Writing time: 1.32s\n"
     ]
    },
    {
     "name": "stdout",
     "output_type": "stream",
     "text": [
      "Set parameter Username\n"
     ]
    },
    {
     "name": "stderr",
     "output_type": "stream",
     "text": [
      "INFO:gurobipy:Set parameter Username\n"
     ]
    },
    {
     "name": "stdout",
     "output_type": "stream",
     "text": [
      "Academic license - for non-commercial use only - expires 2026-03-26\n"
     ]
    },
    {
     "name": "stderr",
     "output_type": "stream",
     "text": [
      "INFO:gurobipy:Academic license - for non-commercial use only - expires 2026-03-26\n"
     ]
    },
    {
     "name": "stdout",
     "output_type": "stream",
     "text": [
      "Read LP format model from file C:\\Users\\Julia\\AppData\\Local\\Temp\\linopy-problem-j719bak8.lp\n"
     ]
    },
    {
     "name": "stderr",
     "output_type": "stream",
     "text": [
      "INFO:gurobipy:Read LP format model from file C:\\Users\\Julia\\AppData\\Local\\Temp\\linopy-problem-j719bak8.lp\n"
     ]
    },
    {
     "name": "stdout",
     "output_type": "stream",
     "text": [
      "Reading time = 0.38 seconds\n"
     ]
    },
    {
     "name": "stderr",
     "output_type": "stream",
     "text": [
      "INFO:gurobipy:Reading time = 0.38 seconds\n"
     ]
    },
    {
     "name": "stdout",
     "output_type": "stream",
     "text": [
      "obj: 96365 rows, 43805 columns, 170819 nonzeros\n"
     ]
    },
    {
     "name": "stderr",
     "output_type": "stream",
     "text": [
      "INFO:gurobipy:obj: 96365 rows, 43805 columns, 170819 nonzeros\n"
     ]
    },
    {
     "name": "stdout",
     "output_type": "stream",
     "text": [
      "Gurobi Optimizer version 11.0.3 build v11.0.3rc0 (win64 - Windows 10.0 (19045.2))\n"
     ]
    },
    {
     "name": "stderr",
     "output_type": "stream",
     "text": [
      "INFO:gurobipy:Gurobi Optimizer version 11.0.3 build v11.0.3rc0 (win64 - Windows 10.0 (19045.2))\n"
     ]
    },
    {
     "name": "stdout",
     "output_type": "stream",
     "text": [
      "\n"
     ]
    },
    {
     "name": "stderr",
     "output_type": "stream",
     "text": [
      "INFO:gurobipy:\n"
     ]
    },
    {
     "name": "stdout",
     "output_type": "stream",
     "text": [
      "CPU model: AMD Ryzen 5 3500U with Radeon Vega Mobile Gfx, instruction set [SSE2|AVX|AVX2]\n"
     ]
    },
    {
     "name": "stderr",
     "output_type": "stream",
     "text": [
      "INFO:gurobipy:CPU model: AMD Ryzen 5 3500U with Radeon Vega Mobile Gfx, instruction set [SSE2|AVX|AVX2]\n"
     ]
    },
    {
     "name": "stdout",
     "output_type": "stream",
     "text": [
      "Thread count: 4 physical cores, 8 logical processors, using up to 8 threads\n"
     ]
    },
    {
     "name": "stderr",
     "output_type": "stream",
     "text": [
      "INFO:gurobipy:Thread count: 4 physical cores, 8 logical processors, using up to 8 threads\n"
     ]
    },
    {
     "name": "stdout",
     "output_type": "stream",
     "text": [
      "\n"
     ]
    },
    {
     "name": "stderr",
     "output_type": "stream",
     "text": [
      "INFO:gurobipy:\n"
     ]
    },
    {
     "name": "stdout",
     "output_type": "stream",
     "text": [
      "Optimize a model with 96365 rows, 43805 columns and 170819 nonzeros\n"
     ]
    },
    {
     "name": "stderr",
     "output_type": "stream",
     "text": [
      "INFO:gurobipy:Optimize a model with 96365 rows, 43805 columns and 170819 nonzeros\n"
     ]
    },
    {
     "name": "stdout",
     "output_type": "stream",
     "text": [
      "Model fingerprint: 0x7f4c6bf0\n"
     ]
    },
    {
     "name": "stderr",
     "output_type": "stream",
     "text": [
      "INFO:gurobipy:Model fingerprint: 0x7f4c6bf0\n"
     ]
    },
    {
     "name": "stdout",
     "output_type": "stream",
     "text": [
      "Coefficient statistics:\n"
     ]
    },
    {
     "name": "stderr",
     "output_type": "stream",
     "text": [
      "INFO:gurobipy:Coefficient statistics:\n"
     ]
    },
    {
     "name": "stdout",
     "output_type": "stream",
     "text": [
      "  Matrix range     [1e-03, 1e+00]\n"
     ]
    },
    {
     "name": "stderr",
     "output_type": "stream",
     "text": [
      "INFO:gurobipy:  Matrix range     [1e-03, 1e+00]\n"
     ]
    },
    {
     "name": "stdout",
     "output_type": "stream",
     "text": [
      "  Objective range  [6e+01, 8e+04]\n"
     ]
    },
    {
     "name": "stderr",
     "output_type": "stream",
     "text": [
      "INFO:gurobipy:  Objective range  [6e+01, 8e+04]\n"
     ]
    },
    {
     "name": "stdout",
     "output_type": "stream",
     "text": [
      "  Bounds range     [0e+00, 0e+00]\n"
     ]
    },
    {
     "name": "stderr",
     "output_type": "stream",
     "text": [
      "INFO:gurobipy:  Bounds range     [0e+00, 0e+00]\n"
     ]
    },
    {
     "name": "stdout",
     "output_type": "stream",
     "text": [
      "  RHS range        [9e+03, 2e+04]\n"
     ]
    },
    {
     "name": "stderr",
     "output_type": "stream",
     "text": [
      "INFO:gurobipy:  RHS range        [9e+03, 2e+04]\n"
     ]
    },
    {
     "name": "stdout",
     "output_type": "stream",
     "text": [
      "Presolve removed 48191 rows and 4386 columns\n"
     ]
    },
    {
     "name": "stderr",
     "output_type": "stream",
     "text": [
      "INFO:gurobipy:Presolve removed 48191 rows and 4386 columns\n"
     ]
    },
    {
     "name": "stdout",
     "output_type": "stream",
     "text": [
      "Presolve time: 0.26s\n"
     ]
    },
    {
     "name": "stderr",
     "output_type": "stream",
     "text": [
      "INFO:gurobipy:Presolve time: 0.26s\n"
     ]
    },
    {
     "name": "stdout",
     "output_type": "stream",
     "text": [
      "Presolved: 48174 rows, 39419 columns, 118242 nonzeros\n"
     ]
    },
    {
     "name": "stderr",
     "output_type": "stream",
     "text": [
      "INFO:gurobipy:Presolved: 48174 rows, 39419 columns, 118242 nonzeros\n"
     ]
    },
    {
     "name": "stdout",
     "output_type": "stream",
     "text": [
      "\n"
     ]
    },
    {
     "name": "stderr",
     "output_type": "stream",
     "text": [
      "INFO:gurobipy:\n"
     ]
    },
    {
     "name": "stdout",
     "output_type": "stream",
     "text": [
      "Concurrent LP optimizer: dual simplex and barrier\n"
     ]
    },
    {
     "name": "stderr",
     "output_type": "stream",
     "text": [
      "INFO:gurobipy:Concurrent LP optimizer: dual simplex and barrier\n"
     ]
    },
    {
     "name": "stdout",
     "output_type": "stream",
     "text": [
      "Showing barrier log only...\n"
     ]
    },
    {
     "name": "stderr",
     "output_type": "stream",
     "text": [
      "INFO:gurobipy:Showing barrier log only...\n"
     ]
    },
    {
     "name": "stdout",
     "output_type": "stream",
     "text": [
      "\n"
     ]
    },
    {
     "name": "stderr",
     "output_type": "stream",
     "text": [
      "INFO:gurobipy:\n"
     ]
    },
    {
     "name": "stdout",
     "output_type": "stream",
     "text": [
      "Ordering time: 0.02s\n"
     ]
    },
    {
     "name": "stderr",
     "output_type": "stream",
     "text": [
      "INFO:gurobipy:Ordering time: 0.02s\n"
     ]
    },
    {
     "name": "stdout",
     "output_type": "stream",
     "text": [
      "\n"
     ]
    },
    {
     "name": "stderr",
     "output_type": "stream",
     "text": [
      "INFO:gurobipy:\n"
     ]
    },
    {
     "name": "stdout",
     "output_type": "stream",
     "text": [
      "Barrier statistics:\n"
     ]
    },
    {
     "name": "stderr",
     "output_type": "stream",
     "text": [
      "INFO:gurobipy:Barrier statistics:\n"
     ]
    },
    {
     "name": "stdout",
     "output_type": "stream",
     "text": [
      " Dense cols : 5\n"
     ]
    },
    {
     "name": "stderr",
     "output_type": "stream",
     "text": [
      "INFO:gurobipy: Dense cols : 5\n"
     ]
    },
    {
     "name": "stdout",
     "output_type": "stream",
     "text": [
      " AA' NZ     : 7.883e+04\n"
     ]
    },
    {
     "name": "stderr",
     "output_type": "stream",
     "text": [
      "INFO:gurobipy: AA' NZ     : 7.883e+04\n"
     ]
    },
    {
     "name": "stdout",
     "output_type": "stream",
     "text": [
      " Factor NZ  : 3.766e+05 (roughly 40 MB of memory)\n"
     ]
    },
    {
     "name": "stderr",
     "output_type": "stream",
     "text": [
      "INFO:gurobipy: Factor NZ  : 3.766e+05 (roughly 40 MB of memory)\n"
     ]
    },
    {
     "name": "stdout",
     "output_type": "stream",
     "text": [
      " Factor Ops : 3.091e+06 (less than 1 second per iteration)\n"
     ]
    },
    {
     "name": "stderr",
     "output_type": "stream",
     "text": [
      "INFO:gurobipy: Factor Ops : 3.091e+06 (less than 1 second per iteration)\n"
     ]
    },
    {
     "name": "stdout",
     "output_type": "stream",
     "text": [
      " Threads    : 3\n"
     ]
    },
    {
     "name": "stderr",
     "output_type": "stream",
     "text": [
      "INFO:gurobipy: Threads    : 3\n"
     ]
    },
    {
     "name": "stdout",
     "output_type": "stream",
     "text": [
      "\n"
     ]
    },
    {
     "name": "stderr",
     "output_type": "stream",
     "text": [
      "INFO:gurobipy:\n"
     ]
    },
    {
     "name": "stdout",
     "output_type": "stream",
     "text": [
      "                  Objective                Residual\n"
     ]
    },
    {
     "name": "stderr",
     "output_type": "stream",
     "text": [
      "INFO:gurobipy:                  Objective                Residual\n"
     ]
    },
    {
     "name": "stdout",
     "output_type": "stream",
     "text": [
      "Iter       Primal          Dual         Primal    Dual     Compl     Time\n"
     ]
    },
    {
     "name": "stderr",
     "output_type": "stream",
     "text": [
      "INFO:gurobipy:Iter       Primal          Dual         Primal    Dual     Compl     Time\n"
     ]
    },
    {
     "name": "stdout",
     "output_type": "stream",
     "text": [
      "   0   5.23642269e+10  0.00000000e+00  1.12e+05 0.00e+00  2.41e+07     1s\n"
     ]
    },
    {
     "name": "stderr",
     "output_type": "stream",
     "text": [
      "INFO:gurobipy:   0   5.23642269e+10  0.00000000e+00  1.12e+05 0.00e+00  2.41e+07     1s\n"
     ]
    },
    {
     "name": "stdout",
     "output_type": "stream",
     "text": [
      "   1   5.53683787e+10 -8.33665850e+10  1.48e+04 2.29e+02  5.49e+06     1s\n"
     ]
    },
    {
     "name": "stderr",
     "output_type": "stream",
     "text": [
      "INFO:gurobipy:   1   5.53683787e+10 -8.33665850e+10  1.48e+04 2.29e+02  5.49e+06     1s\n"
     ]
    },
    {
     "name": "stdout",
     "output_type": "stream",
     "text": [
      "   2   3.98489551e+10 -2.39605130e+10  2.18e-11 3.79e+00  5.88e+05     1s\n"
     ]
    },
    {
     "name": "stderr",
     "output_type": "stream",
     "text": [
      "INFO:gurobipy:   2   3.98489551e+10 -2.39605130e+10  2.18e-11 3.79e+00  5.88e+05     1s\n"
     ]
    },
    {
     "name": "stdout",
     "output_type": "stream",
     "text": [
      "   3   1.89529856e+10 -7.32493451e+08  4.37e-11 1.61e-01  1.72e+05     1s\n"
     ]
    },
    {
     "name": "stderr",
     "output_type": "stream",
     "text": [
      "INFO:gurobipy:   3   1.89529856e+10 -7.32493451e+08  4.37e-11 1.61e-01  1.72e+05     1s\n"
     ]
    },
    {
     "name": "stdout",
     "output_type": "stream",
     "text": [
      "   4   1.30637437e+10  1.03392948e+09  2.91e-11 2.65e-01  1.04e+05     1s\n"
     ]
    },
    {
     "name": "stderr",
     "output_type": "stream",
     "text": [
      "INFO:gurobipy:   4   1.30637437e+10  1.03392948e+09  2.91e-11 2.65e-01  1.04e+05     1s\n"
     ]
    },
    {
     "name": "stdout",
     "output_type": "stream",
     "text": [
      "   5   1.03705261e+10  2.16566279e+09  3.64e-11 1.72e-01  7.08e+04     1s\n"
     ]
    },
    {
     "name": "stderr",
     "output_type": "stream",
     "text": [
      "INFO:gurobipy:   5   1.03705261e+10  2.16566279e+09  3.64e-11 1.72e-01  7.08e+04     1s\n"
     ]
    },
    {
     "name": "stdout",
     "output_type": "stream",
     "text": [
      "   6   8.75164578e+09  3.17738878e+09  8.00e-11 2.10e-01  4.80e+04     1s\n"
     ]
    },
    {
     "name": "stderr",
     "output_type": "stream",
     "text": [
      "INFO:gurobipy:   6   8.75164578e+09  3.17738878e+09  8.00e-11 2.10e-01  4.80e+04     1s\n"
     ]
    },
    {
     "name": "stdout",
     "output_type": "stream",
     "text": [
      "   7   7.95715781e+09  4.50113760e+09  3.09e-10 6.83e-02  2.95e+04     1s\n"
     ]
    },
    {
     "name": "stderr",
     "output_type": "stream",
     "text": [
      "INFO:gurobipy:   7   7.95715781e+09  4.50113760e+09  3.09e-10 6.83e-02  2.95e+04     1s\n"
     ]
    },
    {
     "name": "stdout",
     "output_type": "stream",
     "text": [
      "   8   7.72931258e+09  4.86253730e+09  7.76e-09 4.41e-02  2.44e+04     1s\n"
     ]
    },
    {
     "name": "stderr",
     "output_type": "stream",
     "text": [
      "INFO:gurobipy:   8   7.72931258e+09  4.86253730e+09  7.76e-09 4.41e-02  2.44e+04     1s\n"
     ]
    },
    {
     "name": "stdout",
     "output_type": "stream",
     "text": [
      "   9   7.56872467e+09  4.99026636e+09  9.42e-08 3.73e-02  2.20e+04     1s\n"
     ]
    },
    {
     "name": "stderr",
     "output_type": "stream",
     "text": [
      "INFO:gurobipy:   9   7.56872467e+09  4.99026636e+09  9.42e-08 3.73e-02  2.20e+04     1s\n"
     ]
    },
    {
     "name": "stdout",
     "output_type": "stream",
     "text": [
      "  10   6.89290475e+09  5.28746436e+09  1.35e-08 1.42e-02  1.37e+04     1s\n"
     ]
    },
    {
     "name": "stderr",
     "output_type": "stream",
     "text": [
      "INFO:gurobipy:  10   6.89290475e+09  5.28746436e+09  1.35e-08 1.42e-02  1.37e+04     1s\n"
     ]
    },
    {
     "name": "stdout",
     "output_type": "stream",
     "text": [
      "  11   6.38567671e+09  5.49153734e+09  1.41e-07 6.75e-03  7.62e+03     1s\n"
     ]
    },
    {
     "name": "stderr",
     "output_type": "stream",
     "text": [
      "INFO:gurobipy:  11   6.38567671e+09  5.49153734e+09  1.41e-07 6.75e-03  7.62e+03     1s\n"
     ]
    },
    {
     "name": "stdout",
     "output_type": "stream",
     "text": [
      "  12   6.16615001e+09  5.57445706e+09  1.11e-07 4.42e-03  5.05e+03     1s\n"
     ]
    },
    {
     "name": "stderr",
     "output_type": "stream",
     "text": [
      "INFO:gurobipy:  12   6.16615001e+09  5.57445706e+09  1.11e-07 4.42e-03  5.05e+03     1s\n"
     ]
    },
    {
     "name": "stdout",
     "output_type": "stream",
     "text": [
      "  13   6.07261525e+09  5.66028729e+09  2.45e-07 2.94e-03  3.52e+03     1s\n"
     ]
    },
    {
     "name": "stderr",
     "output_type": "stream",
     "text": [
      "INFO:gurobipy:  13   6.07261525e+09  5.66028729e+09  2.45e-07 2.94e-03  3.52e+03     1s\n"
     ]
    },
    {
     "name": "stdout",
     "output_type": "stream",
     "text": [
      "  14   6.00887858e+09  5.73095151e+09  1.07e-06 1.70e-03  2.37e+03     1s\n"
     ]
    },
    {
     "name": "stderr",
     "output_type": "stream",
     "text": [
      "INFO:gurobipy:  14   6.00887858e+09  5.73095151e+09  1.07e-06 1.70e-03  2.37e+03     1s\n"
     ]
    },
    {
     "name": "stdout",
     "output_type": "stream",
     "text": [
      "  15   5.95672720e+09  5.75811839e+09  1.68e-06 1.22e-03  1.69e+03     1s\n"
     ]
    },
    {
     "name": "stderr",
     "output_type": "stream",
     "text": [
      "INFO:gurobipy:  15   5.95672720e+09  5.75811839e+09  1.68e-06 1.22e-03  1.69e+03     1s\n"
     ]
    },
    {
     "name": "stdout",
     "output_type": "stream",
     "text": [
      "  16   5.92093907e+09  5.79693811e+09  2.71e-06 5.10e-04  1.05e+03     1s\n"
     ]
    },
    {
     "name": "stderr",
     "output_type": "stream",
     "text": [
      "INFO:gurobipy:  16   5.92093907e+09  5.79693811e+09  2.71e-06 5.10e-04  1.05e+03     1s\n"
     ]
    },
    {
     "name": "stdout",
     "output_type": "stream",
     "text": [
      "  17   5.89020865e+09  5.81322774e+09  1.78e-06 1.80e-04  6.53e+02     2s\n"
     ]
    },
    {
     "name": "stderr",
     "output_type": "stream",
     "text": [
      "INFO:gurobipy:  17   5.89020865e+09  5.81322774e+09  1.78e-06 1.80e-04  6.53e+02     2s\n"
     ]
    },
    {
     "name": "stdout",
     "output_type": "stream",
     "text": [
      "  18   5.86932403e+09  5.81566431e+09  5.89e-07 6.91e-05  4.55e+02     2s\n"
     ]
    },
    {
     "name": "stderr",
     "output_type": "stream",
     "text": [
      "INFO:gurobipy:  18   5.86932403e+09  5.81566431e+09  5.89e-07 6.91e-05  4.55e+02     2s\n"
     ]
    },
    {
     "name": "stdout",
     "output_type": "stream",
     "text": [
      "  19   5.84962539e+09  5.81697043e+09  2.67e-06 0.00e+00  2.78e+02     2s\n"
     ]
    },
    {
     "name": "stderr",
     "output_type": "stream",
     "text": [
      "INFO:gurobipy:  19   5.84962539e+09  5.81697043e+09  2.67e-06 0.00e+00  2.78e+02     2s\n"
     ]
    },
    {
     "name": "stdout",
     "output_type": "stream",
     "text": [
      "  20   5.84765615e+09  5.81825847e+09  2.70e-06 2.20e-10  2.50e+02     2s\n"
     ]
    },
    {
     "name": "stderr",
     "output_type": "stream",
     "text": [
      "INFO:gurobipy:  20   5.84765615e+09  5.81825847e+09  2.70e-06 2.20e-10  2.50e+02     2s\n"
     ]
    },
    {
     "name": "stdout",
     "output_type": "stream",
     "text": [
      "  21   5.84690322e+09  5.82018709e+09  2.79e-06 2.79e-10  2.27e+02     2s\n"
     ]
    },
    {
     "name": "stderr",
     "output_type": "stream",
     "text": [
      "INFO:gurobipy:  21   5.84690322e+09  5.82018709e+09  2.79e-06 2.79e-10  2.27e+02     2s\n"
     ]
    },
    {
     "name": "stdout",
     "output_type": "stream",
     "text": [
      "  22   5.83372163e+09  5.82147649e+09  2.03e-06 1.42e-10  1.04e+02     2s\n"
     ]
    },
    {
     "name": "stderr",
     "output_type": "stream",
     "text": [
      "INFO:gurobipy:  22   5.83372163e+09  5.82147649e+09  2.03e-06 1.42e-10  1.04e+02     2s\n"
     ]
    },
    {
     "name": "stdout",
     "output_type": "stream",
     "text": [
      "  23   5.83032178e+09  5.82306903e+09  9.07e-07 1.01e-09  6.15e+01     2s\n"
     ]
    },
    {
     "name": "stderr",
     "output_type": "stream",
     "text": [
      "INFO:gurobipy:  23   5.83032178e+09  5.82306903e+09  9.07e-07 1.01e-09  6.15e+01     2s\n"
     ]
    },
    {
     "name": "stdout",
     "output_type": "stream",
     "text": [
      "  24   5.82592462e+09  5.82311082e+09  3.13e-05 1.06e-09  2.39e+01     2s\n"
     ]
    },
    {
     "name": "stderr",
     "output_type": "stream",
     "text": [
      "INFO:gurobipy:  24   5.82592462e+09  5.82311082e+09  3.13e-05 1.06e-09  2.39e+01     2s\n"
     ]
    },
    {
     "name": "stdout",
     "output_type": "stream",
     "text": [
      "  25   5.82434020e+09  5.82352993e+09  7.66e-06 1.97e-09  6.89e+00     2s\n"
     ]
    },
    {
     "name": "stderr",
     "output_type": "stream",
     "text": [
      "INFO:gurobipy:  25   5.82434020e+09  5.82352993e+09  7.66e-06 1.97e-09  6.89e+00     2s\n"
     ]
    },
    {
     "name": "stdout",
     "output_type": "stream",
     "text": [
      "  26   5.82391315e+09  5.82370312e+09  1.67e-06 2.83e-09  1.79e+00     2s\n"
     ]
    },
    {
     "name": "stderr",
     "output_type": "stream",
     "text": [
      "INFO:gurobipy:  26   5.82391315e+09  5.82370312e+09  1.67e-06 2.83e-09  1.79e+00     2s\n"
     ]
    },
    {
     "name": "stdout",
     "output_type": "stream",
     "text": [
      "  27   5.82378872e+09  5.82378184e+09  3.61e-07 2.19e-08  5.84e-02     2s\n"
     ]
    },
    {
     "name": "stderr",
     "output_type": "stream",
     "text": [
      "INFO:gurobipy:  27   5.82378872e+09  5.82378184e+09  3.61e-07 2.19e-08  5.84e-02     2s\n"
     ]
    },
    {
     "name": "stdout",
     "output_type": "stream",
     "text": [
      "  28   5.82378460e+09  5.82378459e+09  4.78e-08 1.20e-09  5.94e-05     2s\n"
     ]
    },
    {
     "name": "stderr",
     "output_type": "stream",
     "text": [
      "INFO:gurobipy:  28   5.82378460e+09  5.82378459e+09  4.78e-08 1.20e-09  5.94e-05     2s\n"
     ]
    },
    {
     "name": "stdout",
     "output_type": "stream",
     "text": [
      "  29   5.82378460e+09  5.82378460e+09  1.63e-10 1.20e-09  5.94e-08     2s\n"
     ]
    },
    {
     "name": "stderr",
     "output_type": "stream",
     "text": [
      "INFO:gurobipy:  29   5.82378460e+09  5.82378460e+09  1.63e-10 1.20e-09  5.94e-08     2s\n"
     ]
    },
    {
     "name": "stdout",
     "output_type": "stream",
     "text": [
      "  30   5.82378460e+09  5.82378460e+09  3.09e-11 1.11e-09  5.94e-14     2s\n"
     ]
    },
    {
     "name": "stderr",
     "output_type": "stream",
     "text": [
      "INFO:gurobipy:  30   5.82378460e+09  5.82378460e+09  3.09e-11 1.11e-09  5.94e-14     2s\n"
     ]
    },
    {
     "name": "stdout",
     "output_type": "stream",
     "text": [
      "\n"
     ]
    },
    {
     "name": "stderr",
     "output_type": "stream",
     "text": [
      "INFO:gurobipy:\n"
     ]
    },
    {
     "name": "stdout",
     "output_type": "stream",
     "text": [
      "Barrier solved model in 30 iterations and 2.45 seconds (0.53 work units)\n"
     ]
    },
    {
     "name": "stderr",
     "output_type": "stream",
     "text": [
      "INFO:gurobipy:Barrier solved model in 30 iterations and 2.45 seconds (0.53 work units)\n"
     ]
    },
    {
     "name": "stdout",
     "output_type": "stream",
     "text": [
      "Optimal objective 5.82378460e+09\n"
     ]
    },
    {
     "name": "stderr",
     "output_type": "stream",
     "text": [
      "INFO:gurobipy:Optimal objective 5.82378460e+09\n"
     ]
    },
    {
     "name": "stdout",
     "output_type": "stream",
     "text": [
      "\n"
     ]
    },
    {
     "name": "stderr",
     "output_type": "stream",
     "text": [
      "INFO:gurobipy:\n"
     ]
    },
    {
     "name": "stdout",
     "output_type": "stream",
     "text": [
      "Crossover log...\n"
     ]
    },
    {
     "name": "stderr",
     "output_type": "stream",
     "text": [
      "INFO:gurobipy:Crossover log...\n"
     ]
    },
    {
     "name": "stdout",
     "output_type": "stream",
     "text": [
      "\n"
     ]
    },
    {
     "name": "stderr",
     "output_type": "stream",
     "text": [
      "INFO:gurobipy:\n"
     ]
    },
    {
     "name": "stdout",
     "output_type": "stream",
     "text": [
      "   17552 DPushes remaining with DInf 0.0000000e+00                 3s\n"
     ]
    },
    {
     "name": "stderr",
     "output_type": "stream",
     "text": [
      "INFO:gurobipy:   17552 DPushes remaining with DInf 0.0000000e+00                 3s\n"
     ]
    },
    {
     "name": "stdout",
     "output_type": "stream",
     "text": [
      "       0 DPushes remaining with DInf 0.0000000e+00                 3s\n"
     ]
    },
    {
     "name": "stderr",
     "output_type": "stream",
     "text": [
      "INFO:gurobipy:       0 DPushes remaining with DInf 0.0000000e+00                 3s\n"
     ]
    },
    {
     "name": "stdout",
     "output_type": "stream",
     "text": [
      "\n"
     ]
    },
    {
     "name": "stderr",
     "output_type": "stream",
     "text": [
      "INFO:gurobipy:\n"
     ]
    },
    {
     "name": "stdout",
     "output_type": "stream",
     "text": [
      "    1000 PPushes remaining with PInf 0.0000000e+00                 3s\n"
     ]
    },
    {
     "name": "stderr",
     "output_type": "stream",
     "text": [
      "INFO:gurobipy:    1000 PPushes remaining with PInf 0.0000000e+00                 3s\n"
     ]
    },
    {
     "name": "stdout",
     "output_type": "stream",
     "text": [
      "       0 PPushes remaining with PInf 0.0000000e+00                 3s\n"
     ]
    },
    {
     "name": "stderr",
     "output_type": "stream",
     "text": [
      "INFO:gurobipy:       0 PPushes remaining with PInf 0.0000000e+00                 3s\n"
     ]
    },
    {
     "name": "stdout",
     "output_type": "stream",
     "text": [
      "\n"
     ]
    },
    {
     "name": "stderr",
     "output_type": "stream",
     "text": [
      "INFO:gurobipy:\n"
     ]
    },
    {
     "name": "stdout",
     "output_type": "stream",
     "text": [
      "  Push phase complete: Pinf 0.0000000e+00, Dinf 2.4478721e-09      3s\n"
     ]
    },
    {
     "name": "stderr",
     "output_type": "stream",
     "text": [
      "INFO:gurobipy:  Push phase complete: Pinf 0.0000000e+00, Dinf 2.4478721e-09      3s\n"
     ]
    },
    {
     "name": "stdout",
     "output_type": "stream",
     "text": [
      "\n"
     ]
    },
    {
     "name": "stderr",
     "output_type": "stream",
     "text": [
      "INFO:gurobipy:\n"
     ]
    },
    {
     "name": "stdout",
     "output_type": "stream",
     "text": [
      "\n"
     ]
    },
    {
     "name": "stderr",
     "output_type": "stream",
     "text": [
      "INFO:gurobipy:\n"
     ]
    },
    {
     "name": "stdout",
     "output_type": "stream",
     "text": [
      "Solved with barrier\n"
     ]
    },
    {
     "name": "stderr",
     "output_type": "stream",
     "text": [
      "INFO:gurobipy:Solved with barrier\n"
     ]
    },
    {
     "name": "stdout",
     "output_type": "stream",
     "text": [
      "Iteration    Objective       Primal Inf.    Dual Inf.      Time\n"
     ]
    },
    {
     "name": "stderr",
     "output_type": "stream",
     "text": [
      "INFO:gurobipy:Iteration    Objective       Primal Inf.    Dual Inf.      Time\n"
     ]
    },
    {
     "name": "stdout",
     "output_type": "stream",
     "text": [
      "    7810    5.8237846e+09   0.000000e+00   0.000000e+00      3s\n"
     ]
    },
    {
     "name": "stderr",
     "output_type": "stream",
     "text": [
      "INFO:gurobipy:    7810    5.8237846e+09   0.000000e+00   0.000000e+00      3s\n"
     ]
    },
    {
     "name": "stdout",
     "output_type": "stream",
     "text": [
      "\n"
     ]
    },
    {
     "name": "stderr",
     "output_type": "stream",
     "text": [
      "INFO:gurobipy:\n"
     ]
    },
    {
     "name": "stdout",
     "output_type": "stream",
     "text": [
      "Solved in 7810 iterations and 3.04 seconds (0.60 work units)\n"
     ]
    },
    {
     "name": "stderr",
     "output_type": "stream",
     "text": [
      "INFO:gurobipy:Solved in 7810 iterations and 3.04 seconds (0.60 work units)\n"
     ]
    },
    {
     "name": "stdout",
     "output_type": "stream",
     "text": [
      "Optimal objective  5.823784597e+09\n"
     ]
    },
    {
     "name": "stderr",
     "output_type": "stream",
     "text": [
      "INFO:gurobipy:Optimal objective  5.823784597e+09\n",
      "INFO:linopy.constants: Optimization successful: \n",
      "Status: ok\n",
      "Termination condition: optimal\n",
      "Solution: 43805 primals, 96365 duals\n",
      "Objective: 5.82e+09\n",
      "Solver model: available\n",
      "Solver message: 2\n",
      "\n",
      "INFO:pypsa.optimization.optimize:The shadow-prices of the constraints Generator-ext-p-lower, Generator-ext-p-upper were not assigned to the network.\n"
     ]
    },
    {
     "data": {
      "text/plain": [
       "('ok', 'optimal')"
      ]
     },
     "execution_count": 12,
     "metadata": {},
     "output_type": "execute_result"
    }
   ],
   "source": [
    "network.optimize(solver_name='gurobi')"
   ]
  },
  {
   "cell_type": "code",
   "execution_count": 13,
   "metadata": {},
   "outputs": [
    {
     "name": "stdout",
     "output_type": "stream",
     "text": [
      "5823.784596568709\n"
     ]
    }
   ],
   "source": [
    "print(network.objective/1000000) #in 10^6 €"
   ]
  },
  {
   "cell_type": "code",
   "execution_count": 14,
   "metadata": {},
   "outputs": [
    {
     "name": "stdout",
     "output_type": "stream",
     "text": [
      "Load\n",
      "load    51.159856\n",
      "dtype: float64\n"
     ]
    }
   ],
   "source": [
    "print(network.objective/network.loads_t.p.sum()) # EUR/MWh"
   ]
  },
  {
   "cell_type": "code",
   "execution_count": 29,
   "metadata": {},
   "outputs": [
    {
     "data": {
      "image/png": "[encoded data removed]",
      "text/plain": [
       "<Figure size 1600x600 with 2 Axes>"
      ]
     },
     "metadata": {},
     "output_type": "display_data"
    }
   ],
   "source": [
    "fig, axes = plt.subplots(1, 2, figsize=(16, 6), sharey=True)  # 1 row, 2 columns\n",
    "\n",
    "# --- Winter Week (January) ---\n",
    "axes[0].plot(network.loads_t.p['load'][0:168], color='black', label='demand')\n",
    "axes[0].plot(network.generators_t.p['onshorewind'][0:168], color='green', label='onshore wind')\n",
    "axes[0].plot(network.generators_t.p['offshorewind'][0:168], color='blue', label='offshore wind')\n",
    "axes[0].plot(network.generators_t.p['solar'][0:168], color='orange', label='solar')\n",
    "axes[0].plot(network.generators_t.p['OCGT'][0:168], color='brown', label='gas (OCGT)')\n",
    "axes[0].plot(network.generators_t.p['coal'][0:168], color='pink', label='coal')\n",
    "axes[0].legend(fancybox=True, shadow=True, loc='best')\n",
    "axes[0].set_title('Electricity production in one week in January')\n",
    "axes[0].tick_params(axis='x', rotation=45)\n",
    "\n",
    "# --- Summer Week (July) ---\n",
    "axes[1].plot(network.loads_t.p['load'][4344:4512], color='black', label='demand')\n",
    "axes[1].plot(network.generators_t.p['onshorewind'][4344:4512], color='green', label='onshore wind')\n",
    "axes[1].plot(network.generators_t.p['offshorewind'][4344:4512], color='blue', label='offshore wind')\n",
    "axes[1].plot(network.generators_t.p['solar'][4344:4512], color='orange', label='solar')\n",
    "axes[1].plot(network.generators_t.p['OCGT'][4344:4512], color='brown', label='gas (OCGT)')\n",
    "axes[1].plot(network.generators_t.p['coal'][4344:4512], color='pink', label='coal')\n",
    "axes[1].legend(fancybox=True, shadow=True, loc='best')\n",
    "axes[1].set_title('Electricity production in one week in July')\n",
    "axes[1].tick_params(axis='x', rotation=45)\n",
    "\n",
    "plt.tight_layout()\n",
    "plt.show()"
   ]
  },
  {
   "cell_type": "markdown",
   "metadata": {},
   "source": [
    "## Electricity mix"
   ]
  },
  {
   "cell_type": "code",
   "execution_count": 24,
   "metadata": {},
   "outputs": [
    {
     "data": {
      "text/plain": [
       "Text(0.5, 1.07, 'Electricity mix')"
      ]
     },
     "execution_count": 24,
     "metadata": {},
     "output_type": "execute_result"
    },
    {
     "data": {
      "image/png": "[encoded data removed]",
      "text/plain": [
       "<Figure size 640x480 with 1 Axes>"
      ]
     },
     "metadata": {},
     "output_type": "display_data"
    }
   ],
   "source": [
    "labels = ['onshore wind',\n",
    "          'solar',\n",
    "          'gas (OCGT)',\n",
    "          'Offshore wind',\n",
    "          'Coal']\n",
    "sizes = [network.generators_t.p['onshorewind'].sum(),\n",
    "         network.generators_t.p['solar'].sum(),\n",
    "         network.generators_t.p['OCGT'].sum(),\n",
    "         network.generators_t.p['offshorewind'].sum(),\n",
    "        network.generators_t.p['coal'].sum()]\n",
    "\n",
    "colors=['blue', 'orange', 'brown', 'green', 'black']\n",
    "\n",
    "plt.pie(sizes,\n",
    "        colors=colors,\n",
    "        labels=labels,\n",
    "        wedgeprops={'linewidth':0})\n",
    "plt.axis('equal')\n",
    "\n",
    "plt.title('Electricity mix', y=1.07)"
   ]
  },
  {
   "cell_type": "markdown",
   "metadata": {},
   "source": [
    "## CO2 limit "
   ]
  },
  {
   "cell_type": "code",
   "execution_count": 27,
   "metadata": {},
   "outputs": [
    {
     "name": "stderr",
     "output_type": "stream",
     "text": [
      "WARNING:pypsa.io:The following global_constraints are already defined and will be skipped (use overwrite=True to overwrite): co2_limit\n"
     ]
    },
    {
     "name": "stderr",
     "output_type": "stream",
     "text": [
      "WARNING:pypsa.consistency:The following buses have carriers which are not defined:\n",
      "Index(['electricity bus'], dtype='object', name='Bus')\n",
      "WARNING:pypsa.consistency:The following buses have carriers which are not defined:\n",
      "Index(['electricity bus'], dtype='object', name='Bus')\n",
      "INFO:linopy.model: Solve problem using Gurobi solver\n",
      "INFO:linopy.io:Writing objective.\n",
      "Writing constraints.: 100%|\u001b[38;2;128;191;255m██████████\u001b[0m| 6/6 [00:01<00:00,  3.65it/s]\n",
      "Writing continuous variables.: 100%|\u001b[38;2;128;191;255m██████████\u001b[0m| 2/2 [00:00<00:00,  6.51it/s]\n",
      "INFO:linopy.io: Writing time: 2.08s\n"
     ]
    },
    {
     "name": "stdout",
     "output_type": "stream",
     "text": [
      "Set parameter Username\n"
     ]
    },
    {
     "name": "stderr",
     "output_type": "stream",
     "text": [
      "INFO:gurobipy:Set parameter Username\n"
     ]
    },
    {
     "name": "stdout",
     "output_type": "stream",
     "text": [
      "Academic license - for non-commercial use only - expires 2026-03-26\n"
     ]
    },
    {
     "name": "stderr",
     "output_type": "stream",
     "text": [
      "INFO:gurobipy:Academic license - for non-commercial use only - expires 2026-03-26\n"
     ]
    },
    {
     "name": "stdout",
     "output_type": "stream",
     "text": [
      "Read LP format model from file C:\\Users\\Julia\\AppData\\Local\\Temp\\linopy-problem-9jk7pumg.lp\n"
     ]
    },
    {
     "name": "stderr",
     "output_type": "stream",
     "text": [
      "INFO:gurobipy:Read LP format model from file C:\\Users\\Julia\\AppData\\Local\\Temp\\linopy-problem-9jk7pumg.lp\n"
     ]
    },
    {
     "name": "stdout",
     "output_type": "stream",
     "text": [
      "Reading time = 0.55 seconds\n"
     ]
    },
    {
     "name": "stderr",
     "output_type": "stream",
     "text": [
      "INFO:gurobipy:Reading time = 0.55 seconds\n"
     ]
    },
    {
     "name": "stdout",
     "output_type": "stream",
     "text": [
      "obj: 96366 rows, 43805 columns, 188339 nonzeros\n"
     ]
    },
    {
     "name": "stderr",
     "output_type": "stream",
     "text": [
      "INFO:gurobipy:obj: 96366 rows, 43805 columns, 188339 nonzeros\n"
     ]
    },
    {
     "name": "stdout",
     "output_type": "stream",
     "text": [
      "Gurobi Optimizer version 11.0.3 build v11.0.3rc0 (win64 - Windows 10.0 (19045.2))\n"
     ]
    },
    {
     "name": "stderr",
     "output_type": "stream",
     "text": [
      "INFO:gurobipy:Gurobi Optimizer version 11.0.3 build v11.0.3rc0 (win64 - Windows 10.0 (19045.2))\n"
     ]
    },
    {
     "name": "stdout",
     "output_type": "stream",
     "text": [
      "\n"
     ]
    },
    {
     "name": "stderr",
     "output_type": "stream",
     "text": [
      "INFO:gurobipy:\n"
     ]
    },
    {
     "name": "stdout",
     "output_type": "stream",
     "text": [
      "CPU model: AMD Ryzen 5 3500U with Radeon Vega Mobile Gfx, instruction set [SSE2|AVX|AVX2]\n"
     ]
    },
    {
     "name": "stderr",
     "output_type": "stream",
     "text": [
      "INFO:gurobipy:CPU model: AMD Ryzen 5 3500U with Radeon Vega Mobile Gfx, instruction set [SSE2|AVX|AVX2]\n"
     ]
    },
    {
     "name": "stdout",
     "output_type": "stream",
     "text": [
      "Thread count: 4 physical cores, 8 logical processors, using up to 8 threads\n"
     ]
    },
    {
     "name": "stderr",
     "output_type": "stream",
     "text": [
      "INFO:gurobipy:Thread count: 4 physical cores, 8 logical processors, using up to 8 threads\n"
     ]
    },
    {
     "name": "stdout",
     "output_type": "stream",
     "text": [
      "\n"
     ]
    },
    {
     "name": "stderr",
     "output_type": "stream",
     "text": [
      "INFO:gurobipy:\n"
     ]
    },
    {
     "name": "stdout",
     "output_type": "stream",
     "text": [
      "Optimize a model with 96366 rows, 43805 columns and 188339 nonzeros\n"
     ]
    },
    {
     "name": "stderr",
     "output_type": "stream",
     "text": [
      "INFO:gurobipy:Optimize a model with 96366 rows, 43805 columns and 188339 nonzeros\n"
     ]
    },
    {
     "name": "stdout",
     "output_type": "stream",
     "text": [
      "Model fingerprint: 0xdc6b9202\n"
     ]
    },
    {
     "name": "stderr",
     "output_type": "stream",
     "text": [
      "INFO:gurobipy:Model fingerprint: 0xdc6b9202\n"
     ]
    },
    {
     "name": "stdout",
     "output_type": "stream",
     "text": [
      "Coefficient statistics:\n"
     ]
    },
    {
     "name": "stderr",
     "output_type": "stream",
     "text": [
      "INFO:gurobipy:Coefficient statistics:\n"
     ]
    },
    {
     "name": "stdout",
     "output_type": "stream",
     "text": [
      "  Matrix range     [1e-03, 1e+00]\n"
     ]
    },
    {
     "name": "stderr",
     "output_type": "stream",
     "text": [
      "INFO:gurobipy:  Matrix range     [1e-03, 1e+00]\n"
     ]
    },
    {
     "name": "stdout",
     "output_type": "stream",
     "text": [
      "  Objective range  [6e+01, 8e+04]\n"
     ]
    },
    {
     "name": "stderr",
     "output_type": "stream",
     "text": [
      "INFO:gurobipy:  Objective range  [6e+01, 8e+04]\n"
     ]
    },
    {
     "name": "stdout",
     "output_type": "stream",
     "text": [
      "  Bounds range     [0e+00, 0e+00]\n"
     ]
    },
    {
     "name": "stderr",
     "output_type": "stream",
     "text": [
      "INFO:gurobipy:  Bounds range     [0e+00, 0e+00]\n"
     ]
    },
    {
     "name": "stdout",
     "output_type": "stream",
     "text": [
      "  RHS range        [9e+03, 6e+07]\n"
     ]
    },
    {
     "name": "stderr",
     "output_type": "stream",
     "text": [
      "INFO:gurobipy:  RHS range        [9e+03, 6e+07]\n"
     ]
    },
    {
     "name": "stdout",
     "output_type": "stream",
     "text": [
      "Presolve removed 48192 rows and 4386 columns\n"
     ]
    },
    {
     "name": "stderr",
     "output_type": "stream",
     "text": [
      "INFO:gurobipy:Presolve removed 48192 rows and 4386 columns\n"
     ]
    },
    {
     "name": "stdout",
     "output_type": "stream",
     "text": [
      "Presolve time: 0.33s\n"
     ]
    },
    {
     "name": "stderr",
     "output_type": "stream",
     "text": [
      "INFO:gurobipy:Presolve time: 0.33s\n"
     ]
    },
    {
     "name": "stdout",
     "output_type": "stream",
     "text": [
      "Presolved: 48174 rows, 39419 columns, 118242 nonzeros\n"
     ]
    },
    {
     "name": "stderr",
     "output_type": "stream",
     "text": [
      "INFO:gurobipy:Presolved: 48174 rows, 39419 columns, 118242 nonzeros\n"
     ]
    },
    {
     "name": "stdout",
     "output_type": "stream",
     "text": [
      "\n"
     ]
    },
    {
     "name": "stderr",
     "output_type": "stream",
     "text": [
      "INFO:gurobipy:\n"
     ]
    },
    {
     "name": "stdout",
     "output_type": "stream",
     "text": [
      "Concurrent LP optimizer: dual simplex and barrier\n"
     ]
    },
    {
     "name": "stderr",
     "output_type": "stream",
     "text": [
      "INFO:gurobipy:Concurrent LP optimizer: dual simplex and barrier\n"
     ]
    },
    {
     "name": "stdout",
     "output_type": "stream",
     "text": [
      "Showing barrier log only...\n"
     ]
    },
    {
     "name": "stderr",
     "output_type": "stream",
     "text": [
      "INFO:gurobipy:Showing barrier log only...\n"
     ]
    },
    {
     "name": "stdout",
     "output_type": "stream",
     "text": [
      "\n"
     ]
    },
    {
     "name": "stderr",
     "output_type": "stream",
     "text": [
      "INFO:gurobipy:\n"
     ]
    },
    {
     "name": "stdout",
     "output_type": "stream",
     "text": [
      "Ordering time: 0.05s\n"
     ]
    },
    {
     "name": "stderr",
     "output_type": "stream",
     "text": [
      "INFO:gurobipy:Ordering time: 0.05s\n"
     ]
    },
    {
     "name": "stdout",
     "output_type": "stream",
     "text": [
      "\n"
     ]
    },
    {
     "name": "stderr",
     "output_type": "stream",
     "text": [
      "INFO:gurobipy:\n"
     ]
    },
    {
     "name": "stdout",
     "output_type": "stream",
     "text": [
      "Barrier statistics:\n"
     ]
    },
    {
     "name": "stderr",
     "output_type": "stream",
     "text": [
      "INFO:gurobipy:Barrier statistics:\n"
     ]
    },
    {
     "name": "stdout",
     "output_type": "stream",
     "text": [
      " Dense cols : 5\n"
     ]
    },
    {
     "name": "stderr",
     "output_type": "stream",
     "text": [
      "INFO:gurobipy: Dense cols : 5\n"
     ]
    },
    {
     "name": "stdout",
     "output_type": "stream",
     "text": [
      " AA' NZ     : 7.883e+04\n"
     ]
    },
    {
     "name": "stderr",
     "output_type": "stream",
     "text": [
      "INFO:gurobipy: AA' NZ     : 7.883e+04\n"
     ]
    },
    {
     "name": "stdout",
     "output_type": "stream",
     "text": [
      " Factor NZ  : 3.766e+05 (roughly 40 MB of memory)\n"
     ]
    },
    {
     "name": "stderr",
     "output_type": "stream",
     "text": [
      "INFO:gurobipy: Factor NZ  : 3.766e+05 (roughly 40 MB of memory)\n"
     ]
    },
    {
     "name": "stdout",
     "output_type": "stream",
     "text": [
      " Factor Ops : 3.091e+06 (less than 1 second per iteration)\n"
     ]
    },
    {
     "name": "stderr",
     "output_type": "stream",
     "text": [
      "INFO:gurobipy: Factor Ops : 3.091e+06 (less than 1 second per iteration)\n"
     ]
    },
    {
     "name": "stdout",
     "output_type": "stream",
     "text": [
      " Threads    : 3\n"
     ]
    },
    {
     "name": "stderr",
     "output_type": "stream",
     "text": [
      "INFO:gurobipy: Threads    : 3\n"
     ]
    },
    {
     "name": "stdout",
     "output_type": "stream",
     "text": [
      "\n"
     ]
    },
    {
     "name": "stderr",
     "output_type": "stream",
     "text": [
      "INFO:gurobipy:\n"
     ]
    },
    {
     "name": "stdout",
     "output_type": "stream",
     "text": [
      "                  Objective                Residual\n"
     ]
    },
    {
     "name": "stderr",
     "output_type": "stream",
     "text": [
      "INFO:gurobipy:                  Objective                Residual\n"
     ]
    },
    {
     "name": "stdout",
     "output_type": "stream",
     "text": [
      "Iter       Primal          Dual         Primal    Dual     Compl     Time\n"
     ]
    },
    {
     "name": "stderr",
     "output_type": "stream",
     "text": [
      "INFO:gurobipy:Iter       Primal          Dual         Primal    Dual     Compl     Time\n"
     ]
    },
    {
     "name": "stdout",
     "output_type": "stream",
     "text": [
      "   0   5.23642269e+10  0.00000000e+00  1.12e+05 0.00e+00  2.41e+07     1s\n"
     ]
    },
    {
     "name": "stderr",
     "output_type": "stream",
     "text": [
      "INFO:gurobipy:   0   5.23642269e+10  0.00000000e+00  1.12e+05 0.00e+00  2.41e+07     1s\n"
     ]
    },
    {
     "name": "stdout",
     "output_type": "stream",
     "text": [
      "   1   5.53683787e+10 -8.33665850e+10  1.48e+04 2.29e+02  5.49e+06     1s\n"
     ]
    },
    {
     "name": "stderr",
     "output_type": "stream",
     "text": [
      "INFO:gurobipy:   1   5.53683787e+10 -8.33665850e+10  1.48e+04 2.29e+02  5.49e+06     1s\n"
     ]
    },
    {
     "name": "stdout",
     "output_type": "stream",
     "text": [
      "   2   3.98489551e+10 -2.39605130e+10  2.18e-11 3.79e+00  5.88e+05     1s\n"
     ]
    },
    {
     "name": "stderr",
     "output_type": "stream",
     "text": [
      "INFO:gurobipy:   2   3.98489551e+10 -2.39605130e+10  2.18e-11 3.79e+00  5.88e+05     1s\n"
     ]
    },
    {
     "name": "stdout",
     "output_type": "stream",
     "text": [
      "   3   1.89529856e+10 -7.32493451e+08  4.37e-11 1.61e-01  1.72e+05     1s\n"
     ]
    },
    {
     "name": "stderr",
     "output_type": "stream",
     "text": [
      "INFO:gurobipy:   3   1.89529856e+10 -7.32493451e+08  4.37e-11 1.61e-01  1.72e+05     1s\n"
     ]
    },
    {
     "name": "stdout",
     "output_type": "stream",
     "text": [
      "   4   1.30637437e+10  1.03392948e+09  2.91e-11 2.65e-01  1.04e+05     1s\n"
     ]
    },
    {
     "name": "stderr",
     "output_type": "stream",
     "text": [
      "INFO:gurobipy:   4   1.30637437e+10  1.03392948e+09  2.91e-11 2.65e-01  1.04e+05     1s\n"
     ]
    },
    {
     "name": "stdout",
     "output_type": "stream",
     "text": [
      "   5   1.03705261e+10  2.16566279e+09  3.64e-11 1.72e-01  7.08e+04     1s\n"
     ]
    },
    {
     "name": "stderr",
     "output_type": "stream",
     "text": [
      "INFO:gurobipy:   5   1.03705261e+10  2.16566279e+09  3.64e-11 1.72e-01  7.08e+04     1s\n"
     ]
    },
    {
     "name": "stdout",
     "output_type": "stream",
     "text": [
      "   6   8.75164578e+09  3.17738878e+09  8.00e-11 2.10e-01  4.80e+04     1s\n"
     ]
    },
    {
     "name": "stderr",
     "output_type": "stream",
     "text": [
      "INFO:gurobipy:   6   8.75164578e+09  3.17738878e+09  8.00e-11 2.10e-01  4.80e+04     1s\n"
     ]
    },
    {
     "name": "stdout",
     "output_type": "stream",
     "text": [
      "   7   7.95715781e+09  4.50113760e+09  3.09e-10 6.83e-02  2.95e+04     1s\n"
     ]
    },
    {
     "name": "stderr",
     "output_type": "stream",
     "text": [
      "INFO:gurobipy:   7   7.95715781e+09  4.50113760e+09  3.09e-10 6.83e-02  2.95e+04     1s\n"
     ]
    },
    {
     "name": "stdout",
     "output_type": "stream",
     "text": [
      "   8   7.72931258e+09  4.86253730e+09  7.76e-09 4.41e-02  2.44e+04     1s\n"
     ]
    },
    {
     "name": "stderr",
     "output_type": "stream",
     "text": [
      "INFO:gurobipy:   8   7.72931258e+09  4.86253730e+09  7.76e-09 4.41e-02  2.44e+04     1s\n"
     ]
    },
    {
     "name": "stdout",
     "output_type": "stream",
     "text": [
      "   9   7.56872467e+09  4.99026636e+09  9.42e-08 3.73e-02  2.20e+04     2s\n"
     ]
    },
    {
     "name": "stderr",
     "output_type": "stream",
     "text": [
      "INFO:gurobipy:   9   7.56872467e+09  4.99026636e+09  9.42e-08 3.73e-02  2.20e+04     2s\n"
     ]
    },
    {
     "name": "stdout",
     "output_type": "stream",
     "text": [
      "  10   6.89290475e+09  5.28746436e+09  1.35e-08 1.42e-02  1.37e+04     2s\n"
     ]
    },
    {
     "name": "stderr",
     "output_type": "stream",
     "text": [
      "INFO:gurobipy:  10   6.89290475e+09  5.28746436e+09  1.35e-08 1.42e-02  1.37e+04     2s\n"
     ]
    },
    {
     "name": "stdout",
     "output_type": "stream",
     "text": [
      "  11   6.38567671e+09  5.49153734e+09  1.41e-07 6.75e-03  7.62e+03     2s\n"
     ]
    },
    {
     "name": "stderr",
     "output_type": "stream",
     "text": [
      "INFO:gurobipy:  11   6.38567671e+09  5.49153734e+09  1.41e-07 6.75e-03  7.62e+03     2s\n"
     ]
    },
    {
     "name": "stdout",
     "output_type": "stream",
     "text": [
      "  12   6.16615001e+09  5.57445706e+09  1.11e-07 4.42e-03  5.05e+03     2s\n"
     ]
    },
    {
     "name": "stderr",
     "output_type": "stream",
     "text": [
      "INFO:gurobipy:  12   6.16615001e+09  5.57445706e+09  1.11e-07 4.42e-03  5.05e+03     2s\n"
     ]
    },
    {
     "name": "stdout",
     "output_type": "stream",
     "text": [
      "  13   6.07261525e+09  5.66028729e+09  2.45e-07 2.94e-03  3.52e+03     2s\n"
     ]
    },
    {
     "name": "stderr",
     "output_type": "stream",
     "text": [
      "INFO:gurobipy:  13   6.07261525e+09  5.66028729e+09  2.45e-07 2.94e-03  3.52e+03     2s\n"
     ]
    },
    {
     "name": "stdout",
     "output_type": "stream",
     "text": [
      "  14   6.00887858e+09  5.73095151e+09  1.07e-06 1.70e-03  2.37e+03     2s\n"
     ]
    },
    {
     "name": "stderr",
     "output_type": "stream",
     "text": [
      "INFO:gurobipy:  14   6.00887858e+09  5.73095151e+09  1.07e-06 1.70e-03  2.37e+03     2s\n"
     ]
    },
    {
     "name": "stdout",
     "output_type": "stream",
     "text": [
      "  15   5.95672720e+09  5.75811839e+09  1.68e-06 1.22e-03  1.69e+03     2s\n"
     ]
    },
    {
     "name": "stderr",
     "output_type": "stream",
     "text": [
      "INFO:gurobipy:  15   5.95672720e+09  5.75811839e+09  1.68e-06 1.22e-03  1.69e+03     2s\n"
     ]
    },
    {
     "name": "stdout",
     "output_type": "stream",
     "text": [
      "  16   5.92093907e+09  5.79693811e+09  2.71e-06 5.10e-04  1.05e+03     2s\n"
     ]
    },
    {
     "name": "stderr",
     "output_type": "stream",
     "text": [
      "INFO:gurobipy:  16   5.92093907e+09  5.79693811e+09  2.71e-06 5.10e-04  1.05e+03     2s\n"
     ]
    },
    {
     "name": "stdout",
     "output_type": "stream",
     "text": [
      "  17   5.89020865e+09  5.81322774e+09  1.78e-06 1.80e-04  6.53e+02     2s\n"
     ]
    },
    {
     "name": "stderr",
     "output_type": "stream",
     "text": [
      "INFO:gurobipy:  17   5.89020865e+09  5.81322774e+09  1.78e-06 1.80e-04  6.53e+02     2s\n"
     ]
    },
    {
     "name": "stdout",
     "output_type": "stream",
     "text": [
      "  18   5.86932403e+09  5.81566431e+09  5.89e-07 6.91e-05  4.55e+02     2s\n"
     ]
    },
    {
     "name": "stderr",
     "output_type": "stream",
     "text": [
      "INFO:gurobipy:  18   5.86932403e+09  5.81566431e+09  5.89e-07 6.91e-05  4.55e+02     2s\n"
     ]
    },
    {
     "name": "stdout",
     "output_type": "stream",
     "text": [
      "  19   5.84962539e+09  5.81697043e+09  2.67e-06 0.00e+00  2.78e+02     2s\n"
     ]
    },
    {
     "name": "stderr",
     "output_type": "stream",
     "text": [
      "INFO:gurobipy:  19   5.84962539e+09  5.81697043e+09  2.67e-06 0.00e+00  2.78e+02     2s\n"
     ]
    },
    {
     "name": "stdout",
     "output_type": "stream",
     "text": [
      "  20   5.84765615e+09  5.81825847e+09  2.70e-06 2.20e-10  2.50e+02     2s\n"
     ]
    },
    {
     "name": "stderr",
     "output_type": "stream",
     "text": [
      "INFO:gurobipy:  20   5.84765615e+09  5.81825847e+09  2.70e-06 2.20e-10  2.50e+02     2s\n"
     ]
    },
    {
     "name": "stdout",
     "output_type": "stream",
     "text": [
      "  21   5.84690322e+09  5.82018709e+09  2.79e-06 2.79e-10  2.27e+02     2s\n"
     ]
    },
    {
     "name": "stderr",
     "output_type": "stream",
     "text": [
      "INFO:gurobipy:  21   5.84690322e+09  5.82018709e+09  2.79e-06 2.79e-10  2.27e+02     2s\n"
     ]
    },
    {
     "name": "stdout",
     "output_type": "stream",
     "text": [
      "  22   5.83372163e+09  5.82147649e+09  2.03e-06 1.42e-10  1.04e+02     2s\n"
     ]
    },
    {
     "name": "stderr",
     "output_type": "stream",
     "text": [
      "INFO:gurobipy:  22   5.83372163e+09  5.82147649e+09  2.03e-06 1.42e-10  1.04e+02     2s\n"
     ]
    },
    {
     "name": "stdout",
     "output_type": "stream",
     "text": [
      "  23   5.83032178e+09  5.82306903e+09  9.07e-07 1.01e-09  6.15e+01     2s\n"
     ]
    },
    {
     "name": "stderr",
     "output_type": "stream",
     "text": [
      "INFO:gurobipy:  23   5.83032178e+09  5.82306903e+09  9.07e-07 1.01e-09  6.15e+01     2s\n"
     ]
    },
    {
     "name": "stdout",
     "output_type": "stream",
     "text": [
      "  24   5.82592462e+09  5.82311082e+09  3.13e-05 1.06e-09  2.39e+01     3s\n"
     ]
    },
    {
     "name": "stderr",
     "output_type": "stream",
     "text": [
      "INFO:gurobipy:  24   5.82592462e+09  5.82311082e+09  3.13e-05 1.06e-09  2.39e+01     3s\n"
     ]
    },
    {
     "name": "stdout",
     "output_type": "stream",
     "text": [
      "  25   5.82434020e+09  5.82352993e+09  7.66e-06 1.97e-09  6.89e+00     3s\n"
     ]
    },
    {
     "name": "stderr",
     "output_type": "stream",
     "text": [
      "INFO:gurobipy:  25   5.82434020e+09  5.82352993e+09  7.66e-06 1.97e-09  6.89e+00     3s\n"
     ]
    },
    {
     "name": "stdout",
     "output_type": "stream",
     "text": [
      "  26   5.82391315e+09  5.82370312e+09  1.67e-06 2.83e-09  1.79e+00     3s\n"
     ]
    },
    {
     "name": "stderr",
     "output_type": "stream",
     "text": [
      "INFO:gurobipy:  26   5.82391315e+09  5.82370312e+09  1.67e-06 2.83e-09  1.79e+00     3s\n"
     ]
    },
    {
     "name": "stdout",
     "output_type": "stream",
     "text": [
      "  27   5.82378872e+09  5.82378184e+09  3.61e-07 2.19e-08  5.84e-02     3s\n"
     ]
    },
    {
     "name": "stderr",
     "output_type": "stream",
     "text": [
      "INFO:gurobipy:  27   5.82378872e+09  5.82378184e+09  3.61e-07 2.19e-08  5.84e-02     3s\n"
     ]
    },
    {
     "name": "stdout",
     "output_type": "stream",
     "text": [
      "  28   5.82378460e+09  5.82378459e+09  4.78e-08 1.20e-09  5.94e-05     3s\n"
     ]
    },
    {
     "name": "stderr",
     "output_type": "stream",
     "text": [
      "INFO:gurobipy:  28   5.82378460e+09  5.82378459e+09  4.78e-08 1.20e-09  5.94e-05     3s\n"
     ]
    },
    {
     "name": "stdout",
     "output_type": "stream",
     "text": [
      "  29   5.82378460e+09  5.82378460e+09  1.63e-10 1.20e-09  5.94e-08     3s\n"
     ]
    },
    {
     "name": "stderr",
     "output_type": "stream",
     "text": [
      "INFO:gurobipy:  29   5.82378460e+09  5.82378460e+09  1.63e-10 1.20e-09  5.94e-08     3s\n"
     ]
    },
    {
     "name": "stdout",
     "output_type": "stream",
     "text": [
      "  30   5.82378460e+09  5.82378460e+09  3.09e-11 1.11e-09  5.94e-14     3s\n"
     ]
    },
    {
     "name": "stderr",
     "output_type": "stream",
     "text": [
      "INFO:gurobipy:  30   5.82378460e+09  5.82378460e+09  3.09e-11 1.11e-09  5.94e-14     3s\n"
     ]
    },
    {
     "name": "stdout",
     "output_type": "stream",
     "text": [
      "\n"
     ]
    },
    {
     "name": "stderr",
     "output_type": "stream",
     "text": [
      "INFO:gurobipy:\n"
     ]
    },
    {
     "name": "stdout",
     "output_type": "stream",
     "text": [
      "Barrier solved model in 30 iterations and 2.99 seconds (0.56 work units)\n"
     ]
    },
    {
     "name": "stderr",
     "output_type": "stream",
     "text": [
      "INFO:gurobipy:Barrier solved model in 30 iterations and 2.99 seconds (0.56 work units)\n"
     ]
    },
    {
     "name": "stdout",
     "output_type": "stream",
     "text": [
      "Optimal objective 5.82378460e+09\n"
     ]
    },
    {
     "name": "stderr",
     "output_type": "stream",
     "text": [
      "INFO:gurobipy:Optimal objective 5.82378460e+09\n"
     ]
    },
    {
     "name": "stdout",
     "output_type": "stream",
     "text": [
      "\n"
     ]
    },
    {
     "name": "stderr",
     "output_type": "stream",
     "text": [
      "INFO:gurobipy:\n"
     ]
    },
    {
     "name": "stdout",
     "output_type": "stream",
     "text": [
      "Crossover log...\n"
     ]
    },
    {
     "name": "stderr",
     "output_type": "stream",
     "text": [
      "INFO:gurobipy:Crossover log...\n"
     ]
    },
    {
     "name": "stdout",
     "output_type": "stream",
     "text": [
      "\n"
     ]
    },
    {
     "name": "stderr",
     "output_type": "stream",
     "text": [
      "INFO:gurobipy:\n"
     ]
    },
    {
     "name": "stdout",
     "output_type": "stream",
     "text": [
      "   17552 DPushes remaining with DInf 0.0000000e+00                 3s\n"
     ]
    },
    {
     "name": "stderr",
     "output_type": "stream",
     "text": [
      "INFO:gurobipy:   17552 DPushes remaining with DInf 0.0000000e+00                 3s\n"
     ]
    },
    {
     "name": "stdout",
     "output_type": "stream",
     "text": [
      "       0 DPushes remaining with DInf 0.0000000e+00                 3s\n"
     ]
    },
    {
     "name": "stderr",
     "output_type": "stream",
     "text": [
      "INFO:gurobipy:       0 DPushes remaining with DInf 0.0000000e+00                 3s\n"
     ]
    },
    {
     "name": "stdout",
     "output_type": "stream",
     "text": [
      "\n"
     ]
    },
    {
     "name": "stderr",
     "output_type": "stream",
     "text": [
      "INFO:gurobipy:\n"
     ]
    },
    {
     "name": "stdout",
     "output_type": "stream",
     "text": [
      "    1000 PPushes remaining with PInf 0.0000000e+00                 3s\n"
     ]
    },
    {
     "name": "stderr",
     "output_type": "stream",
     "text": [
      "INFO:gurobipy:    1000 PPushes remaining with PInf 0.0000000e+00                 3s\n"
     ]
    },
    {
     "name": "stdout",
     "output_type": "stream",
     "text": [
      "       0 PPushes remaining with PInf 0.0000000e+00                 3s\n"
     ]
    },
    {
     "name": "stderr",
     "output_type": "stream",
     "text": [
      "INFO:gurobipy:       0 PPushes remaining with PInf 0.0000000e+00                 3s\n"
     ]
    },
    {
     "name": "stdout",
     "output_type": "stream",
     "text": [
      "\n"
     ]
    },
    {
     "name": "stderr",
     "output_type": "stream",
     "text": [
      "INFO:gurobipy:\n"
     ]
    },
    {
     "name": "stdout",
     "output_type": "stream",
     "text": [
      "  Push phase complete: Pinf 0.0000000e+00, Dinf 2.4478721e-09      3s\n"
     ]
    },
    {
     "name": "stderr",
     "output_type": "stream",
     "text": [
      "INFO:gurobipy:  Push phase complete: Pinf 0.0000000e+00, Dinf 2.4478721e-09      3s\n"
     ]
    },
    {
     "name": "stdout",
     "output_type": "stream",
     "text": [
      "\n"
     ]
    },
    {
     "name": "stderr",
     "output_type": "stream",
     "text": [
      "INFO:gurobipy:\n"
     ]
    },
    {
     "name": "stdout",
     "output_type": "stream",
     "text": [
      "\n"
     ]
    },
    {
     "name": "stderr",
     "output_type": "stream",
     "text": [
      "INFO:gurobipy:\n"
     ]
    },
    {
     "name": "stdout",
     "output_type": "stream",
     "text": [
      "Solved with barrier\n"
     ]
    },
    {
     "name": "stderr",
     "output_type": "stream",
     "text": [
      "INFO:gurobipy:Solved with barrier\n"
     ]
    },
    {
     "name": "stdout",
     "output_type": "stream",
     "text": [
      "Iteration    Objective       Primal Inf.    Dual Inf.      Time\n"
     ]
    },
    {
     "name": "stderr",
     "output_type": "stream",
     "text": [
      "INFO:gurobipy:Iteration    Objective       Primal Inf.    Dual Inf.      Time\n"
     ]
    },
    {
     "name": "stdout",
     "output_type": "stream",
     "text": [
      "    7810    5.8237846e+09   0.000000e+00   0.000000e+00      4s\n"
     ]
    },
    {
     "name": "stderr",
     "output_type": "stream",
     "text": [
      "INFO:gurobipy:    7810    5.8237846e+09   0.000000e+00   0.000000e+00      4s\n"
     ]
    },
    {
     "name": "stdout",
     "output_type": "stream",
     "text": [
      "\n"
     ]
    },
    {
     "name": "stderr",
     "output_type": "stream",
     "text": [
      "INFO:gurobipy:\n"
     ]
    },
    {
     "name": "stdout",
     "output_type": "stream",
     "text": [
      "Solved in 7810 iterations and 3.51 seconds (0.63 work units)\n"
     ]
    },
    {
     "name": "stderr",
     "output_type": "stream",
     "text": [
      "INFO:gurobipy:Solved in 7810 iterations and 3.51 seconds (0.63 work units)\n"
     ]
    },
    {
     "name": "stdout",
     "output_type": "stream",
     "text": [
      "Optimal objective  5.823784597e+09\n"
     ]
    },
    {
     "name": "stderr",
     "output_type": "stream",
     "text": [
      "INFO:gurobipy:Optimal objective  5.823784597e+09\n",
      "INFO:linopy.constants: Optimization successful: \n",
      "Status: ok\n",
      "Termination condition: optimal\n",
      "Solution: 43805 primals, 96366 duals\n",
      "Objective: 5.82e+09\n",
      "Solver model: available\n",
      "Solver message: 2\n",
      "\n",
      "INFO:pypsa.optimization.optimize:The shadow-prices of the constraints Generator-ext-p-lower, Generator-ext-p-upper were not assigned to the network.\n"
     ]
    },
    {
     "data": {
      "text/plain": [
       "Text(0.5, 1.07, 'Electricity mix')"
      ]
     },
     "execution_count": 27,
     "metadata": {},
     "output_type": "execute_result"
    },
    {
     "data": {
      "image/png": "[encoded data removed]",
      "text/plain": [
       "<Figure size 640x480 with 1 Axes>"
      ]
     },
     "metadata": {},
     "output_type": "display_data"
    }
   ],
   "source": [
    "co2_limit=38564880#tonCO2\n",
    "network.add(\"GlobalConstraint\",\n",
    "            \"co2_limit\",\n",
    "            type=\"primary_energy\",\n",
    "            carrier_attribute=\"co2_emissions\",\n",
    "            sense=\"<=\",\n",
    "            constant=co2_limit)\n",
    "network.optimize(solver_name='gurobi')\n",
    "labels = ['onshore wind',\n",
    "          'solar',\n",
    "          'gas (OCGT)',\n",
    "          'Offshore wind',\n",
    "          'Coal']\n",
    "sizes = [network.generators_t.p['onshorewind'].sum(),\n",
    "         network.generators_t.p['solar'].sum(),\n",
    "         network.generators_t.p['OCGT'].sum(),\n",
    "         network.generators_t.p['offshorewind'].sum(),\n",
    "        network.generators_t.p['coal'].sum()]\n",
    "\n",
    "colors=['blue', 'orange', 'brown', 'green', 'black']\n",
    "\n",
    "plt.pie(sizes,\n",
    "        colors=colors,\n",
    "        labels=labels,\n",
    "        wedgeprops={'linewidth':0})\n",
    "plt.axis('equal')\n",
    "\n",
    "plt.title('Electricity mix', y=1.07)"
   ]
  },
  {
   "cell_type": "code",
   "execution_count": 26,
   "metadata": {},
   "outputs": [
    {
     "name": "stdout",
     "output_type": "stream",
     "text": [
      "5823.784596568709\n"
     ]
    }
   ],
   "source": [
    "print(network.objective/1000000) #in 10^6 €"
   ]
  },
  {
   "cell_type": "code",
   "execution_count": null,
   "metadata": {},
   "outputs": [],
   "source": []
  }
 ],
 "metadata": {
  "kernelspec": {
   "display_name": "Python 3",
   "language": "python",
   "name": "python3"
  },
  "language_info": {
   "codemirror_mode": {
    "name": "ipython",
    "version": 3
   },
   "file_extension": ".py",
   "mimetype": "text/x-python",
   "name": "python",
   "nbconvert_exporter": "python",
   "pygments_lexer": "ipython3",
   "version": "3.10.2"
  }
 },
 "nbformat": 4,
 "nbformat_minor": 2
}
