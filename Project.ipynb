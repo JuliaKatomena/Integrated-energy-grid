{
 "cells": [
  {
   "cell_type": "code",
   "execution_count": 30,
   "metadata": {},
   "outputs": [],
   "source": [
    "import pandas as pd\n",
    "import pypsa"
   ]
  },
  {
   "cell_type": "markdown",
   "metadata": {},
   "source": [
    "### Creating a one bus for the Netherlands"
   ]
  },
  {
   "cell_type": "code",
   "execution_count": 38,
   "metadata": {},
   "outputs": [
    {
     "data": {
      "text/plain": [
       "DatetimeIndex(['2017-01-01 00:00:00', '2017-01-01 01:00:00',\n",
       "               '2017-01-01 02:00:00', '2017-01-01 03:00:00',\n",
       "               '2017-01-01 04:00:00', '2017-01-01 05:00:00',\n",
       "               '2017-01-01 06:00:00', '2017-01-01 07:00:00',\n",
       "               '2017-01-01 08:00:00', '2017-01-01 09:00:00',\n",
       "               ...\n",
       "               '2017-12-31 14:00:00', '2017-12-31 15:00:00',\n",
       "               '2017-12-31 16:00:00', '2017-12-31 17:00:00',\n",
       "               '2017-12-31 18:00:00', '2017-12-31 19:00:00',\n",
       "               '2017-12-31 20:00:00', '2017-12-31 21:00:00',\n",
       "               '2017-12-31 22:00:00', '2017-12-31 23:00:00'],\n",
       "              dtype='datetime64[ns]', name='snapshot', length=8760, freq=None)"
      ]
     },
     "execution_count": 38,
     "metadata": {},
     "output_type": "execute_result"
    }
   ],
   "source": [
    "network = pypsa.Network()\n",
    "hours_in_2023 = pd.date_range('2017-01-01 00:00Z',\n",
    "                              '2017-12-31 23:00Z',\n",
    "                              freq='h')\n",
    "\n",
    "network.set_snapshots(hours_in_2023.values)\n",
    "\n",
    "network.add(\"Bus\",\n",
    "            \"electricity bus\")\n",
    "\n",
    "network.snapshots"
   ]
  },
  {
   "cell_type": "markdown",
   "metadata": {},
   "source": [
    "#### Getting the demand for the Netherlands and adding it to the bus"
   ]
  },
  {
   "cell_type": "code",
   "execution_count": 39,
   "metadata": {},
   "outputs": [
    {
     "name": "stdout",
     "output_type": "stream",
     "text": [
      "                                 cet_cest_timestamp  \\\n",
      "utc_timestamp                                         \n",
      "2017-01-01 00:00:00+00:00  2017-01-01T01:00:00+0100   \n",
      "2017-01-01 01:00:00+00:00  2017-01-01T02:00:00+0100   \n",
      "2017-01-01 02:00:00+00:00  2017-01-01T03:00:00+0100   \n",
      "2017-01-01 03:00:00+00:00  2017-01-01T04:00:00+0100   \n",
      "2017-01-01 04:00:00+00:00  2017-01-01T05:00:00+0100   \n",
      "\n",
      "                           NL_load_actual_entsoe_transparency  \\\n",
      "utc_timestamp                                                   \n",
      "2017-01-01 00:00:00+00:00                             10794.0   \n",
      "2017-01-01 01:00:00+00:00                             10320.0   \n",
      "2017-01-01 02:00:00+00:00                              9930.0   \n",
      "2017-01-01 03:00:00+00:00                              9679.0   \n",
      "2017-01-01 04:00:00+00:00                              9652.0   \n",
      "\n",
      "                           NL_load_forecast_entsoe_transparency  \\\n",
      "utc_timestamp                                                     \n",
      "2017-01-01 00:00:00+00:00                               10493.0   \n",
      "2017-01-01 01:00:00+00:00                                9894.0   \n",
      "2017-01-01 02:00:00+00:00                                9530.0   \n",
      "2017-01-01 03:00:00+00:00                                9477.0   \n",
      "2017-01-01 04:00:00+00:00                                9783.0   \n",
      "\n",
      "                           NL_solar_generation_actual  \\\n",
      "utc_timestamp                                           \n",
      "2017-01-01 00:00:00+00:00                         0.0   \n",
      "2017-01-01 01:00:00+00:00                         0.0   \n",
      "2017-01-01 02:00:00+00:00                         0.0   \n",
      "2017-01-01 03:00:00+00:00                         0.0   \n",
      "2017-01-01 04:00:00+00:00                         0.0   \n",
      "\n",
      "                           NL_wind_generation_actual  \\\n",
      "utc_timestamp                                          \n",
      "2017-01-01 00:00:00+00:00                     2237.0   \n",
      "2017-01-01 01:00:00+00:00                     2265.0   \n",
      "2017-01-01 02:00:00+00:00                     2299.0   \n",
      "2017-01-01 03:00:00+00:00                     2390.0   \n",
      "2017-01-01 04:00:00+00:00                     2386.0   \n",
      "\n",
      "                           NL_wind_offshore_generation_actual  \\\n",
      "utc_timestamp                                                   \n",
      "2017-01-01 00:00:00+00:00                               892.0   \n",
      "2017-01-01 01:00:00+00:00                               909.0   \n",
      "2017-01-01 02:00:00+00:00                               897.0   \n",
      "2017-01-01 03:00:00+00:00                               914.0   \n",
      "2017-01-01 04:00:00+00:00                               919.0   \n",
      "\n",
      "                           NL_wind_onshore_generation_actual  \n",
      "utc_timestamp                                                 \n",
      "2017-01-01 00:00:00+00:00                             1344.0  \n",
      "2017-01-01 01:00:00+00:00                             1357.0  \n",
      "2017-01-01 02:00:00+00:00                             1402.0  \n",
      "2017-01-01 03:00:00+00:00                             1475.0  \n",
      "2017-01-01 04:00:00+00:00                             1468.0  \n"
     ]
    }
   ],
   "source": [
    "# Define file path\n",
    "file_path = \"demand_data.csv\"\n",
    "\n",
    "# Load dataset\n",
    "data = pd.read_csv(file_path, sep=';', parse_dates=['utc_timestamp'], index_col='utc_timestamp')\n",
    "\n",
    "# Rename columns (if necessary)\n",
    "data.columns = [\n",
    "    'cet_cest_timestamp', 'NL_load_actual_entsoe_transparency',\n",
    "    'NL_load_forecast_entsoe_transparency', 'NL_solar_generation_actual',\n",
    "    'NL_wind_generation_actual', 'NL_wind_offshore_generation_actual',\n",
    "    'NL_wind_onshore_generation_actual'\n",
    "]\n",
    "\n",
    "# Convert index to datetime format\n",
    "data.index = pd.to_datetime(data.index, utc=True)\n",
    "\n",
    "start_date = '2017-01-01 00:00:00+00:00'\n",
    "end_date = '2017-12-31 23:00:00+00:00'\n",
    "\n",
    "data = data[start_date:end_date]\n",
    "print(data.head())\n",
    "country = 'NLD'"
   ]
  },
  {
   "cell_type": "code",
   "execution_count": 40,
   "metadata": {},
   "outputs": [
    {
     "data": {
      "text/plain": [
       "Index(['load'], dtype='object')"
      ]
     },
     "execution_count": 40,
     "metadata": {},
     "output_type": "execute_result"
    }
   ],
   "source": [
    "# add load to the bus\n",
    "network.add(\"Load\",\n",
    "            \"load\",\n",
    "            bus=\"electricity bus\",\n",
    "            p_set=data['NL_load_actual_entsoe_transparency'].values)"
   ]
  },
  {
   "cell_type": "code",
   "execution_count": 41,
   "metadata": {},
   "outputs": [
    {
     "data": {
      "application/vnd.microsoft.datawrangler.viewer.v0+json": {
       "columns": [
        {
         "name": "snapshot",
         "rawType": "datetime64[ns]",
         "type": "datetime"
        },
        {
         "name": "load",
         "rawType": "float64",
         "type": "float"
        }
       ],
       "conversionMethod": "pd.DataFrame",
       "ref": "65724618-aa50-4bae-a324-8a0439618c41",
       "rows": [
        [
         "2017-01-01 00:00:00",
         "10794.0"
        ],
        [
         "2017-01-01 01:00:00",
         "10320.0"
        ],
        [
         "2017-01-01 02:00:00",
         "9930.0"
        ],
        [
         "2017-01-01 03:00:00",
         "9679.0"
        ],
        [
         "2017-01-01 04:00:00",
         "9652.0"
        ],
        [
         "2017-01-01 05:00:00",
         "9784.0"
        ],
        [
         "2017-01-01 06:00:00",
         "10117.0"
        ],
        [
         "2017-01-01 07:00:00",
         "10464.0"
        ],
        [
         "2017-01-01 08:00:00",
         "10852.0"
        ],
        [
         "2017-01-01 09:00:00",
         "11555.0"
        ],
        [
         "2017-01-01 10:00:00",
         "12136.0"
        ],
        [
         "2017-01-01 11:00:00",
         "12524.0"
        ],
        [
         "2017-01-01 12:00:00",
         "12652.0"
        ],
        [
         "2017-01-01 13:00:00",
         "12694.0"
        ],
        [
         "2017-01-01 14:00:00",
         "12728.0"
        ],
        [
         "2017-01-01 15:00:00",
         "13162.0"
        ],
        [
         "2017-01-01 16:00:00",
         "14110.0"
        ],
        [
         "2017-01-01 17:00:00",
         "14122.0"
        ],
        [
         "2017-01-01 18:00:00",
         "13853.0"
        ],
        [
         "2017-01-01 19:00:00",
         "13448.0"
        ],
        [
         "2017-01-01 20:00:00",
         "12815.0"
        ],
        [
         "2017-01-01 21:00:00",
         "12128.0"
        ],
        [
         "2017-01-01 22:00:00",
         "11287.0"
        ],
        [
         "2017-01-01 23:00:00",
         "10553.0"
        ],
        [
         "2017-01-02 00:00:00",
         "10089.0"
        ],
        [
         "2017-01-02 01:00:00",
         "9844.0"
        ],
        [
         "2017-01-02 02:00:00",
         "9748.0"
        ],
        [
         "2017-01-02 03:00:00",
         "9872.0"
        ],
        [
         "2017-01-02 04:00:00",
         "10400.0"
        ],
        [
         "2017-01-02 05:00:00",
         "11694.0"
        ],
        [
         "2017-01-02 06:00:00",
         "13496.0"
        ],
        [
         "2017-01-02 07:00:00",
         "15034.0"
        ],
        [
         "2017-01-02 08:00:00",
         "15746.0"
        ],
        [
         "2017-01-02 09:00:00",
         "15981.0"
        ],
        [
         "2017-01-02 10:00:00",
         "15934.0"
        ],
        [
         "2017-01-02 11:00:00",
         "15828.0"
        ],
        [
         "2017-01-02 12:00:00",
         "15902.0"
        ],
        [
         "2017-01-02 13:00:00",
         "15886.0"
        ],
        [
         "2017-01-02 14:00:00",
         "15952.0"
        ],
        [
         "2017-01-02 15:00:00",
         "16392.0"
        ],
        [
         "2017-01-02 16:00:00",
         "17535.0"
        ],
        [
         "2017-01-02 17:00:00",
         "16792.0"
        ],
        [
         "2017-01-02 18:00:00",
         "16162.0"
        ],
        [
         "2017-01-02 19:00:00",
         "15397.0"
        ],
        [
         "2017-01-02 20:00:00",
         "14448.0"
        ],
        [
         "2017-01-02 21:00:00",
         "13404.0"
        ],
        [
         "2017-01-02 22:00:00",
         "12464.0"
        ],
        [
         "2017-01-02 23:00:00",
         "11574.0"
        ],
        [
         "2017-01-03 00:00:00",
         "10939.0"
        ],
        [
         "2017-01-03 01:00:00",
         "10600.0"
        ]
       ],
       "shape": {
        "columns": 1,
        "rows": 8760
       }
      },
      "text/html": [
       "<div>\n",
       "<style scoped>\n",
       "    .dataframe tbody tr th:only-of-type {\n",
       "        vertical-align: middle;\n",
       "    }\n",
       "\n",
       "    .dataframe tbody tr th {\n",
       "        vertical-align: top;\n",
       "    }\n",
       "\n",
       "    .dataframe thead th {\n",
       "        text-align: right;\n",
       "    }\n",
       "</style>\n",
       "<table border=\"1\" class=\"dataframe\">\n",
       "  <thead>\n",
       "    <tr style=\"text-align: right;\">\n",
       "      <th>Load</th>\n",
       "      <th>load</th>\n",
       "    </tr>\n",
       "    <tr>\n",
       "      <th>snapshot</th>\n",
       "      <th></th>\n",
       "    </tr>\n",
       "  </thead>\n",
       "  <tbody>\n",
       "    <tr>\n",
       "      <th>2017-01-01 00:00:00</th>\n",
       "      <td>10794.0</td>\n",
       "    </tr>\n",
       "    <tr>\n",
       "      <th>2017-01-01 01:00:00</th>\n",
       "      <td>10320.0</td>\n",
       "    </tr>\n",
       "    <tr>\n",
       "      <th>2017-01-01 02:00:00</th>\n",
       "      <td>9930.0</td>\n",
       "    </tr>\n",
       "    <tr>\n",
       "      <th>2017-01-01 03:00:00</th>\n",
       "      <td>9679.0</td>\n",
       "    </tr>\n",
       "    <tr>\n",
       "      <th>2017-01-01 04:00:00</th>\n",
       "      <td>9652.0</td>\n",
       "    </tr>\n",
       "    <tr>\n",
       "      <th>...</th>\n",
       "      <td>...</td>\n",
       "    </tr>\n",
       "    <tr>\n",
       "      <th>2017-12-31 19:00:00</th>\n",
       "      <td>12703.0</td>\n",
       "    </tr>\n",
       "    <tr>\n",
       "      <th>2017-12-31 20:00:00</th>\n",
       "      <td>11961.0</td>\n",
       "    </tr>\n",
       "    <tr>\n",
       "      <th>2017-12-31 21:00:00</th>\n",
       "      <td>11478.0</td>\n",
       "    </tr>\n",
       "    <tr>\n",
       "      <th>2017-12-31 22:00:00</th>\n",
       "      <td>11142.0</td>\n",
       "    </tr>\n",
       "    <tr>\n",
       "      <th>2017-12-31 23:00:00</th>\n",
       "      <td>10823.0</td>\n",
       "    </tr>\n",
       "  </tbody>\n",
       "</table>\n",
       "<p>8760 rows × 1 columns</p>\n",
       "</div>"
      ],
      "text/plain": [
       "Load                    load\n",
       "snapshot                    \n",
       "2017-01-01 00:00:00  10794.0\n",
       "2017-01-01 01:00:00  10320.0\n",
       "2017-01-01 02:00:00   9930.0\n",
       "2017-01-01 03:00:00   9679.0\n",
       "2017-01-01 04:00:00   9652.0\n",
       "...                      ...\n",
       "2017-12-31 19:00:00  12703.0\n",
       "2017-12-31 20:00:00  11961.0\n",
       "2017-12-31 21:00:00  11478.0\n",
       "2017-12-31 22:00:00  11142.0\n",
       "2017-12-31 23:00:00  10823.0\n",
       "\n",
       "[8760 rows x 1 columns]"
      ]
     },
     "execution_count": 41,
     "metadata": {},
     "output_type": "execute_result"
    }
   ],
   "source": [
    "network.loads_t.p_set"
   ]
  },
  {
   "cell_type": "markdown",
   "metadata": {},
   "source": [
    "#### Adding different generation types "
   ]
  },
  {
   "cell_type": "code",
   "execution_count": 42,
   "metadata": {},
   "outputs": [
    {
     "name": "stdout",
     "output_type": "stream",
     "text": [
      "0.0858105172206656\n",
      "37563.55391334636\n"
     ]
    }
   ],
   "source": [
    "def annuity(n,r):\n",
    "    \"\"\" Calculate the annuity factor for an asset with lifetime n years and\n",
    "    discount rate  r \"\"\"\n",
    "\n",
    "    if r > 0:\n",
    "        return r/(1. - 1./(1.+r)**n)\n",
    "    else:\n",
    "        return 1/n\n",
    "    \n",
    "print(annuity(25,0.07))\n",
    "print(annuity(25,0.07)*425000*(1+0.03))"
   ]
  },
  {
   "cell_type": "code",
   "execution_count": 43,
   "metadata": {},
   "outputs": [
    {
     "data": {
      "text/plain": [
       "Index(['coal'], dtype='object')"
      ]
     },
     "execution_count": 43,
     "metadata": {},
     "output_type": "execute_result"
    }
   ],
   "source": [
    "# add the different carriers, only gas emits CO2\n",
    "network.add(\"Carrier\", \"gas\", co2_emissions=0.19) # in /MWh_tt_CO2h\n",
    "network.add(\"Carrier\", \"coal\", co2_emissions=0.3) # in /MWh_tt_CO2h\n",
    "network.add(\"Carrier\", \"offshorewind\")\n",
    "network.add(\"Carrier\", \"onshorewind\")\n",
    "network.add(\"Carrier\", \"solar\")\n",
    "\n",
    "# add onshore wind generator\n",
    "df_onshorewind = pd.read_csv('Data/onshore_wind_1979-2017.csv', sep=';', index_col=0)\n",
    "df_onshorewind.index = pd.to_datetime(df_onshorewind.index)\n",
    "CF_wind = df_onshorewind[country][[hour.strftime(\"%Y-%m-%dT%H:%M:%SZ\") for hour in network.snapshots]]\n",
    "capital_cost_onshorewind = annuity(30,0.07)*910000*(1+0.033) # in €/MW\n",
    "network.add(\"Generator\",\n",
    "            \"onshorewind\",\n",
    "            bus=\"electricity bus\",\n",
    "            p_nom_extendable=True,\n",
    "            carrier=\"onshorewind\",\n",
    "            #p_nom_max=1000, # maximum capacity can be limited due to environmental constraints\n",
    "            capital_cost = capital_cost_onshorewind,\n",
    "            marginal_cost = 0,\n",
    "            p_max_pu = CF_wind.values)\n",
    "\n",
    "# add offshore wind generator\n",
    "df_offshorewind = pd.read_csv('Data/offshore_wind_1979-2017.csv', sep=';', index_col=0)\n",
    "df_offshorewind.index = pd.to_datetime(df_offshorewind.index)\n",
    "CF_wind = df_offshorewind[country][[hour.strftime(\"%Y-%m-%dT%H:%M:%SZ\") for hour in network.snapshots]]\n",
    "capital_cost_offshorewind = annuity(30,0.07)*1000000*(1+0.033) # in €/MW\n",
    "network.add(\"Generator\",\n",
    "            \"offshorewind\",\n",
    "            bus=\"electricity bus\",\n",
    "            p_nom_extendable=True,\n",
    "            carrier=\"offshorewind\",\n",
    "            #p_nom_max=1000, # maximum capacity can be limited due to environmental constraints\n",
    "            capital_cost = capital_cost_offshorewind,\n",
    "            marginal_cost = 0,\n",
    "            p_max_pu = CF_wind.values)\n",
    "\n",
    "# add solar PV generator\n",
    "df_solar = pd.read_csv('Data/pv_optimal.csv', sep=';', index_col=0)\n",
    "df_solar.index = pd.to_datetime(df_solar.index)\n",
    "CF_solar = df_solar[country][[hour.strftime(\"%Y-%m-%dT%H:%M:%SZ\") for hour in network.snapshots]]\n",
    "capital_cost_solar = annuity(25,0.07)*425000*(1+0.03) # in €/MW\n",
    "network.add(\"Generator\",\n",
    "            \"solar\",\n",
    "            bus=\"electricity bus\",\n",
    "            p_nom_extendable=True,\n",
    "            carrier=\"solar\",\n",
    "            #p_nom_max=1000, # maximum capacity can be limited due to environmental constraints\n",
    "            capital_cost = capital_cost_solar,\n",
    "            marginal_cost = 0,\n",
    "            p_max_pu = CF_solar.values)\n",
    "\n",
    "# add OCGT (Open Cycle Gas Turbine) generator\n",
    "capital_cost_OCGT = annuity(25,0.07)*560000*(1+0.033) # in €/MW\n",
    "fuel_cost = 21.6 # in €/MWh_th\n",
    "efficiency = 0.39 # MWh_elec/MWh_th\n",
    "marginal_cost_OCGT = fuel_cost/efficiency # in €/MWh_el\n",
    "network.add(\"Generator\",\n",
    "            \"OCGT\",\n",
    "            bus=\"electricity bus\",\n",
    "            p_nom_extendable=True,\n",
    "            carrier=\"gas\",\n",
    "            #p_nom_max=1000,\n",
    "            capital_cost = capital_cost_OCGT,\n",
    "            marginal_cost = marginal_cost_OCGT)\n",
    "\n",
    "\n",
    "# add coal power plant  generator\n",
    "capital_cost_coal = annuity(30,0.07)*700000*(1+0.033) # in €/MW\n",
    "fuel_cost = 30 # in €/MWh_th\n",
    "efficiency = 0.42 # MWh_elec/MWh_th\n",
    "marginal_cost_coal = fuel_cost/efficiency # in €/MWh_el\n",
    "network.add(\"Generator\",\n",
    "            \"coal\",\n",
    "            bus=\"electricity bus\",\n",
    "            p_nom_extendable=True,\n",
    "            carrier=\"coal\",\n",
    "            #p_nom_max=1000,\n",
    "            capital_cost = capital_cost_coal,\n",
    "            marginal_cost = marginal_cost_coal)"
   ]
  },
  {
   "cell_type": "code",
   "execution_count": 44,
   "metadata": {},
   "outputs": [
    {
     "data": {
      "application/vnd.microsoft.datawrangler.viewer.v0+json": {
       "columns": [
        {
         "name": "snapshot",
         "rawType": "datetime64[ns]",
         "type": "datetime"
        },
        {
         "name": "offshorewind",
         "rawType": "float64",
         "type": "float"
        },
        {
         "name": "onshorewind",
         "rawType": "float64",
         "type": "float"
        },
        {
         "name": "solar",
         "rawType": "float64",
         "type": "float"
        }
       ],
       "conversionMethod": "pd.DataFrame",
       "ref": "96558376-d12a-4f64-a918-16f2d5bcbe75",
       "rows": [
        [
         "2017-01-01 00:00:00",
         "0.691",
         "0.35",
         "0.0"
        ],
        [
         "2017-01-01 01:00:00",
         "0.732",
         "0.377",
         "0.0"
        ],
        [
         "2017-01-01 02:00:00",
         "0.743",
         "0.385",
         "0.0"
        ],
        [
         "2017-01-01 03:00:00",
         "0.748",
         "0.4",
         "0.0"
        ],
        [
         "2017-01-01 04:00:00",
         "0.734",
         "0.406",
         "0.0"
        ],
        [
         "2017-01-01 05:00:00",
         "0.698",
         "0.396",
         "0.0"
        ],
        [
         "2017-01-01 06:00:00",
         "0.626",
         "0.352",
         "0.0"
        ],
        [
         "2017-01-01 07:00:00",
         "0.675",
         "0.376",
         "0.0"
        ],
        [
         "2017-01-01 08:00:00",
         "0.708",
         "0.39",
         "0.024"
        ],
        [
         "2017-01-01 09:00:00",
         "0.65",
         "0.374",
         "0.101"
        ],
        [
         "2017-01-01 10:00:00",
         "0.6",
         "0.361",
         "0.16"
        ],
        [
         "2017-01-01 11:00:00",
         "0.553",
         "0.349",
         "0.134"
        ],
        [
         "2017-01-01 12:00:00",
         "0.488",
         "0.304",
         "0.075"
        ],
        [
         "2017-01-01 13:00:00",
         "0.691",
         "0.379",
         "0.032"
        ],
        [
         "2017-01-01 14:00:00",
         "0.726",
         "0.388",
         "0.019"
        ],
        [
         "2017-01-01 15:00:00",
         "0.628",
         "0.349",
         "0.003"
        ],
        [
         "2017-01-01 16:00:00",
         "0.493",
         "0.313",
         "0.0"
        ],
        [
         "2017-01-01 17:00:00",
         "0.33",
         "0.263",
         "0.0"
        ],
        [
         "2017-01-01 18:00:00",
         "0.145",
         "0.157",
         "0.0"
        ],
        [
         "2017-01-01 19:00:00",
         "0.131",
         "0.168",
         "0.0"
        ],
        [
         "2017-01-01 20:00:00",
         "0.128",
         "0.153",
         "0.0"
        ],
        [
         "2017-01-01 21:00:00",
         "0.166",
         "0.113",
         "0.0"
        ],
        [
         "2017-01-01 22:00:00",
         "0.193",
         "0.097",
         "0.0"
        ],
        [
         "2017-01-01 23:00:00",
         "0.263",
         "0.105",
         "0.0"
        ],
        [
         "2017-01-02 00:00:00",
         "0.502",
         "0.162",
         "0.0"
        ],
        [
         "2017-01-02 01:00:00",
         "0.641",
         "0.222",
         "0.0"
        ],
        [
         "2017-01-02 02:00:00",
         "0.684",
         "0.274",
         "0.0"
        ],
        [
         "2017-01-02 03:00:00",
         "0.665",
         "0.284",
         "0.0"
        ],
        [
         "2017-01-02 04:00:00",
         "0.661",
         "0.297",
         "0.0"
        ],
        [
         "2017-01-02 05:00:00",
         "0.673",
         "0.304",
         "0.0"
        ],
        [
         "2017-01-02 06:00:00",
         "0.594",
         "0.261",
         "0.0"
        ],
        [
         "2017-01-02 07:00:00",
         "0.652",
         "0.284",
         "0.0"
        ],
        [
         "2017-01-02 08:00:00",
         "0.66",
         "0.287",
         "0.056"
        ],
        [
         "2017-01-02 09:00:00",
         "0.563",
         "0.247",
         "0.304"
        ],
        [
         "2017-01-02 10:00:00",
         "0.498",
         "0.226",
         "0.461"
        ],
        [
         "2017-01-02 11:00:00",
         "0.46",
         "0.207",
         "0.505"
        ],
        [
         "2017-01-02 12:00:00",
         "0.279",
         "0.119",
         "0.439"
        ],
        [
         "2017-01-02 13:00:00",
         "0.366",
         "0.155",
         "0.332"
        ],
        [
         "2017-01-02 14:00:00",
         "0.439",
         "0.179",
         "0.171"
        ],
        [
         "2017-01-02 15:00:00",
         "0.418",
         "0.165",
         "0.011"
        ],
        [
         "2017-01-02 16:00:00",
         "0.409",
         "0.163",
         "0.0"
        ],
        [
         "2017-01-02 17:00:00",
         "0.409",
         "0.165",
         "0.0"
        ],
        [
         "2017-01-02 18:00:00",
         "0.267",
         "0.137",
         "0.0"
        ],
        [
         "2017-01-02 19:00:00",
         "0.344",
         "0.169",
         "0.0"
        ],
        [
         "2017-01-02 20:00:00",
         "0.416",
         "0.191",
         "0.0"
        ],
        [
         "2017-01-02 21:00:00",
         "0.495",
         "0.208",
         "0.0"
        ],
        [
         "2017-01-02 22:00:00",
         "0.57",
         "0.23",
         "0.0"
        ],
        [
         "2017-01-02 23:00:00",
         "0.624",
         "0.245",
         "0.0"
        ],
        [
         "2017-01-03 00:00:00",
         "0.552",
         "0.222",
         "0.0"
        ],
        [
         "2017-01-03 01:00:00",
         "0.568",
         "0.256",
         "0.0"
        ]
       ],
       "shape": {
        "columns": 3,
        "rows": 8760
       }
      },
      "text/html": [
       "<div>\n",
       "<style scoped>\n",
       "    .dataframe tbody tr th:only-of-type {\n",
       "        vertical-align: middle;\n",
       "    }\n",
       "\n",
       "    .dataframe tbody tr th {\n",
       "        vertical-align: top;\n",
       "    }\n",
       "\n",
       "    .dataframe thead th {\n",
       "        text-align: right;\n",
       "    }\n",
       "</style>\n",
       "<table border=\"1\" class=\"dataframe\">\n",
       "  <thead>\n",
       "    <tr style=\"text-align: right;\">\n",
       "      <th>Generator</th>\n",
       "      <th>offshorewind</th>\n",
       "      <th>onshorewind</th>\n",
       "      <th>solar</th>\n",
       "    </tr>\n",
       "    <tr>\n",
       "      <th>snapshot</th>\n",
       "      <th></th>\n",
       "      <th></th>\n",
       "      <th></th>\n",
       "    </tr>\n",
       "  </thead>\n",
       "  <tbody>\n",
       "    <tr>\n",
       "      <th>2017-01-01 00:00:00</th>\n",
       "      <td>0.691</td>\n",
       "      <td>0.350</td>\n",
       "      <td>0.0</td>\n",
       "    </tr>\n",
       "    <tr>\n",
       "      <th>2017-01-01 01:00:00</th>\n",
       "      <td>0.732</td>\n",
       "      <td>0.377</td>\n",
       "      <td>0.0</td>\n",
       "    </tr>\n",
       "    <tr>\n",
       "      <th>2017-01-01 02:00:00</th>\n",
       "      <td>0.743</td>\n",
       "      <td>0.385</td>\n",
       "      <td>0.0</td>\n",
       "    </tr>\n",
       "    <tr>\n",
       "      <th>2017-01-01 03:00:00</th>\n",
       "      <td>0.748</td>\n",
       "      <td>0.400</td>\n",
       "      <td>0.0</td>\n",
       "    </tr>\n",
       "    <tr>\n",
       "      <th>2017-01-01 04:00:00</th>\n",
       "      <td>0.734</td>\n",
       "      <td>0.406</td>\n",
       "      <td>0.0</td>\n",
       "    </tr>\n",
       "    <tr>\n",
       "      <th>...</th>\n",
       "      <td>...</td>\n",
       "      <td>...</td>\n",
       "      <td>...</td>\n",
       "    </tr>\n",
       "    <tr>\n",
       "      <th>2017-12-31 19:00:00</th>\n",
       "      <td>0.711</td>\n",
       "      <td>0.468</td>\n",
       "      <td>0.0</td>\n",
       "    </tr>\n",
       "    <tr>\n",
       "      <th>2017-12-31 20:00:00</th>\n",
       "      <td>0.809</td>\n",
       "      <td>0.595</td>\n",
       "      <td>0.0</td>\n",
       "    </tr>\n",
       "    <tr>\n",
       "      <th>2017-12-31 21:00:00</th>\n",
       "      <td>0.877</td>\n",
       "      <td>0.684</td>\n",
       "      <td>0.0</td>\n",
       "    </tr>\n",
       "    <tr>\n",
       "      <th>2017-12-31 22:00:00</th>\n",
       "      <td>0.933</td>\n",
       "      <td>0.762</td>\n",
       "      <td>0.0</td>\n",
       "    </tr>\n",
       "    <tr>\n",
       "      <th>2017-12-31 23:00:00</th>\n",
       "      <td>0.975</td>\n",
       "      <td>0.827</td>\n",
       "      <td>0.0</td>\n",
       "    </tr>\n",
       "  </tbody>\n",
       "</table>\n",
       "<p>8760 rows × 3 columns</p>\n",
       "</div>"
      ],
      "text/plain": [
       "Generator            offshorewind  onshorewind  solar\n",
       "snapshot                                             \n",
       "2017-01-01 00:00:00         0.691        0.350    0.0\n",
       "2017-01-01 01:00:00         0.732        0.377    0.0\n",
       "2017-01-01 02:00:00         0.743        0.385    0.0\n",
       "2017-01-01 03:00:00         0.748        0.400    0.0\n",
       "2017-01-01 04:00:00         0.734        0.406    0.0\n",
       "...                           ...          ...    ...\n",
       "2017-12-31 19:00:00         0.711        0.468    0.0\n",
       "2017-12-31 20:00:00         0.809        0.595    0.0\n",
       "2017-12-31 21:00:00         0.877        0.684    0.0\n",
       "2017-12-31 22:00:00         0.933        0.762    0.0\n",
       "2017-12-31 23:00:00         0.975        0.827    0.0\n",
       "\n",
       "[8760 rows x 3 columns]"
      ]
     },
     "execution_count": 44,
     "metadata": {},
     "output_type": "execute_result"
    }
   ],
   "source": [
    "network.generators_t.p_max_pu"
   ]
  },
  {
   "cell_type": "code",
   "execution_count": 45,
   "metadata": {},
   "outputs": [
    {
     "name": "stderr",
     "output_type": "stream",
     "text": [
      "WARNING:pypsa.consistency:The following buses have carriers which are not defined:\n",
      "Index(['electricity bus'], dtype='object', name='Bus')\n",
      "WARNING:pypsa.consistency:The following buses have carriers which are not defined:\n",
      "Index(['electricity bus'], dtype='object', name='Bus')\n",
      "INFO:linopy.model: Solve problem using Gurobi solver\n",
      "INFO:linopy.io:Writing objective.\n",
      "Writing constraints.: 100%|\u001b[38;2;128;191;255m██████████\u001b[0m| 5/5 [00:02<00:00,  2.46it/s]\n",
      "Writing continuous variables.: 100%|\u001b[38;2;128;191;255m██████████\u001b[0m| 2/2 [00:00<00:00,  5.71it/s]\n",
      "INFO:linopy.io: Writing time: 2.58s\n"
     ]
    },
    {
     "name": "stdout",
     "output_type": "stream",
     "text": [
      "Set parameter Username\n"
     ]
    },
    {
     "name": "stderr",
     "output_type": "stream",
     "text": [
      "INFO:gurobipy:Set parameter Username\n"
     ]
    },
    {
     "ename": "GurobiError",
     "evalue": "License expired 2025-01-29",
     "output_type": "error",
     "traceback": [
      "\u001b[1;31m---------------------------------------------------------------------------\u001b[0m",
      "\u001b[1;31mGurobiError\u001b[0m                               Traceback (most recent call last)",
      "Cell \u001b[1;32mIn[45], line 1\u001b[0m\n\u001b[1;32m----> 1\u001b[0m \u001b[43mnetwork\u001b[49m\u001b[38;5;241;43m.\u001b[39;49m\u001b[43moptimize\u001b[49m\u001b[43m(\u001b[49m\u001b[43msolver_name\u001b[49m\u001b[38;5;241;43m=\u001b[39;49m\u001b[38;5;124;43m'\u001b[39;49m\u001b[38;5;124;43mgurobi\u001b[39;49m\u001b[38;5;124;43m'\u001b[39;49m\u001b[43m)\u001b[49m\n",
      "File \u001b[1;32mc:\\Users\\Julia\\AppData\\Local\\Programs\\Python\\Python310\\lib\\site-packages\\pypsa\\optimization\\optimize.py:628\u001b[0m, in \u001b[0;36mOptimizationAccessor.__call__\u001b[1;34m(self, *args, **kwargs)\u001b[0m\n\u001b[0;32m    626\u001b[0m \u001b[38;5;129m@wraps\u001b[39m(optimize)\n\u001b[0;32m    627\u001b[0m \u001b[38;5;28;01mdef\u001b[39;00m \u001b[38;5;21m__call__\u001b[39m(\u001b[38;5;28mself\u001b[39m, \u001b[38;5;241m*\u001b[39margs: Any, \u001b[38;5;241m*\u001b[39m\u001b[38;5;241m*\u001b[39mkwargs: Any) \u001b[38;5;241m-\u001b[39m\u001b[38;5;241m>\u001b[39m Any:\n\u001b[1;32m--> 628\u001b[0m     \u001b[38;5;28;01mreturn\u001b[39;00m optimize(\u001b[38;5;28mself\u001b[39m\u001b[38;5;241m.\u001b[39mn, \u001b[38;5;241m*\u001b[39margs, \u001b[38;5;241m*\u001b[39m\u001b[38;5;241m*\u001b[39mkwargs)\n",
      "File \u001b[1;32mc:\\Users\\Julia\\AppData\\Local\\Programs\\Python\\Python310\\lib\\site-packages\\pypsa\\optimization\\optimize.py:600\u001b[0m, in \u001b[0;36moptimize\u001b[1;34m(n, snapshots, multi_investment_periods, transmission_losses, linearized_unit_commitment, model_kwargs, extra_functionality, assign_all_duals, solver_name, solver_options, compute_infeasibilities, **kwargs)\u001b[0m\n\u001b[0;32m    598\u001b[0m \u001b[38;5;28;01mif\u001b[39;00m extra_functionality:\n\u001b[0;32m    599\u001b[0m     extra_functionality(n, sns)\n\u001b[1;32m--> 600\u001b[0m status, condition \u001b[38;5;241m=\u001b[39m m\u001b[38;5;241m.\u001b[39msolve(solver_name\u001b[38;5;241m=\u001b[39msolver_name, \u001b[38;5;241m*\u001b[39m\u001b[38;5;241m*\u001b[39msolver_options, \u001b[38;5;241m*\u001b[39m\u001b[38;5;241m*\u001b[39mkwargs)\n\u001b[0;32m    602\u001b[0m \u001b[38;5;28;01mif\u001b[39;00m status \u001b[38;5;241m==\u001b[39m \u001b[38;5;124m\"\u001b[39m\u001b[38;5;124mok\u001b[39m\u001b[38;5;124m\"\u001b[39m:\n\u001b[0;32m    603\u001b[0m     assign_solution(n)\n",
      "File \u001b[1;32mc:\\Users\\Julia\\AppData\\Local\\Programs\\Python\\Python310\\lib\\site-packages\\linopy\\model.py:1165\u001b[0m, in \u001b[0;36mModel.solve\u001b[1;34m(self, solver_name, io_api, problem_fn, solution_fn, log_fn, basis_fn, warmstart_fn, keep_files, env, sanitize_zeros, sanitize_infinities, slice_size, remote, progress, **solver_options)\u001b[0m\n\u001b[0;32m   1158\u001b[0m     \u001b[38;5;28;01melse\u001b[39;00m:\n\u001b[0;32m   1159\u001b[0m         problem_fn \u001b[38;5;241m=\u001b[39m \u001b[38;5;28mself\u001b[39m\u001b[38;5;241m.\u001b[39mto_file(\n\u001b[0;32m   1160\u001b[0m             to_path(problem_fn),\n\u001b[0;32m   1161\u001b[0m             io_api,\n\u001b[0;32m   1162\u001b[0m             slice_size\u001b[38;5;241m=\u001b[39mslice_size,\n\u001b[0;32m   1163\u001b[0m             progress\u001b[38;5;241m=\u001b[39mprogress,\n\u001b[0;32m   1164\u001b[0m         )\n\u001b[1;32m-> 1165\u001b[0m         result \u001b[38;5;241m=\u001b[39m \u001b[43msolver\u001b[49m\u001b[38;5;241;43m.\u001b[39;49m\u001b[43msolve_problem_from_file\u001b[49m\u001b[43m(\u001b[49m\n\u001b[0;32m   1166\u001b[0m \u001b[43m            \u001b[49m\u001b[43mproblem_fn\u001b[49m\u001b[38;5;241;43m=\u001b[39;49m\u001b[43mto_path\u001b[49m\u001b[43m(\u001b[49m\u001b[43mproblem_fn\u001b[49m\u001b[43m)\u001b[49m\u001b[43m,\u001b[49m\n\u001b[0;32m   1167\u001b[0m \u001b[43m            \u001b[49m\u001b[43msolution_fn\u001b[49m\u001b[38;5;241;43m=\u001b[39;49m\u001b[43mto_path\u001b[49m\u001b[43m(\u001b[49m\u001b[43msolution_fn\u001b[49m\u001b[43m)\u001b[49m\u001b[43m,\u001b[49m\n\u001b[0;32m   1168\u001b[0m \u001b[43m            \u001b[49m\u001b[43mlog_fn\u001b[49m\u001b[38;5;241;43m=\u001b[39;49m\u001b[43mto_path\u001b[49m\u001b[43m(\u001b[49m\u001b[43mlog_fn\u001b[49m\u001b[43m)\u001b[49m\u001b[43m,\u001b[49m\n\u001b[0;32m   1169\u001b[0m \u001b[43m            \u001b[49m\u001b[43mwarmstart_fn\u001b[49m\u001b[38;5;241;43m=\u001b[39;49m\u001b[43mto_path\u001b[49m\u001b[43m(\u001b[49m\u001b[43mwarmstart_fn\u001b[49m\u001b[43m)\u001b[49m\u001b[43m,\u001b[49m\n\u001b[0;32m   1170\u001b[0m \u001b[43m            \u001b[49m\u001b[43mbasis_fn\u001b[49m\u001b[38;5;241;43m=\u001b[39;49m\u001b[43mto_path\u001b[49m\u001b[43m(\u001b[49m\u001b[43mbasis_fn\u001b[49m\u001b[43m)\u001b[49m\u001b[43m,\u001b[49m\n\u001b[0;32m   1171\u001b[0m \u001b[43m            \u001b[49m\u001b[43menv\u001b[49m\u001b[38;5;241;43m=\u001b[39;49m\u001b[43menv\u001b[49m\u001b[43m,\u001b[49m\n\u001b[0;32m   1172\u001b[0m \u001b[43m        \u001b[49m\u001b[43m)\u001b[49m\n\u001b[0;32m   1174\u001b[0m \u001b[38;5;28;01mfinally\u001b[39;00m:\n\u001b[0;32m   1175\u001b[0m     \u001b[38;5;28;01mfor\u001b[39;00m fn \u001b[38;5;129;01min\u001b[39;00m (problem_fn, solution_fn):\n",
      "File \u001b[1;32mc:\\Users\\Julia\\AppData\\Local\\Programs\\Python\\Python310\\lib\\site-packages\\linopy\\solvers.py:984\u001b[0m, in \u001b[0;36mGurobi.solve_problem_from_file\u001b[1;34m(self, problem_fn, solution_fn, log_fn, warmstart_fn, basis_fn, env)\u001b[0m\n\u001b[0;32m    982\u001b[0m \u001b[38;5;28;01mwith\u001b[39;00m contextlib\u001b[38;5;241m.\u001b[39mExitStack() \u001b[38;5;28;01mas\u001b[39;00m stack:\n\u001b[0;32m    983\u001b[0m     \u001b[38;5;28;01mif\u001b[39;00m env \u001b[38;5;129;01mis\u001b[39;00m \u001b[38;5;28;01mNone\u001b[39;00m:\n\u001b[1;32m--> 984\u001b[0m         env_ \u001b[38;5;241m=\u001b[39m stack\u001b[38;5;241m.\u001b[39menter_context(\u001b[43mgurobipy\u001b[49m\u001b[38;5;241;43m.\u001b[39;49m\u001b[43mEnv\u001b[49m\u001b[43m(\u001b[49m\u001b[43m)\u001b[49m)\n\u001b[0;32m    985\u001b[0m     \u001b[38;5;28;01melse\u001b[39;00m:\n\u001b[0;32m    986\u001b[0m         env_ \u001b[38;5;241m=\u001b[39m env\n",
      "File \u001b[1;32msrc\\\\gurobipy\\\\env.pxi:70\u001b[0m, in \u001b[0;36mgurobipy.Env.__init__\u001b[1;34m()\u001b[0m\n",
      "\u001b[1;31mGurobiError\u001b[0m: License expired 2025-01-29"
     ]
    }
   ],
   "source": [
    "network.optimize(solver_name='gurobi')"
   ]
  }
 ],
 "metadata": {
  "kernelspec": {
   "display_name": "Python 3",
   "language": "python",
   "name": "python3"
  },
  "language_info": {
   "codemirror_mode": {
    "name": "ipython",
    "version": 3
   },
   "file_extension": ".py",
   "mimetype": "text/x-python",
   "name": "python",
   "nbconvert_exporter": "python",
   "pygments_lexer": "ipython3",
   "version": "3.10.2"
  }
 },
 "nbformat": 4,
 "nbformat_minor": 2
}
