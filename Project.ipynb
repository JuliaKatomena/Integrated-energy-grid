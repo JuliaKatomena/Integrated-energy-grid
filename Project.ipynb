{
 "cells": [
  {
   "cell_type": "code",
   "execution_count": 59,
   "metadata": {},
   "outputs": [
    {
     "ename": "ArgumentError",
     "evalue": "ArgumentError: Package pandas not found in current path.\n- Run `import Pkg; Pkg.add(\"pandas\")` to install the pandas package.",
     "output_type": "error",
     "traceback": [
      "ArgumentError: Package pandas not found in current path.\n",
      "- Run `import Pkg; Pkg.add(\"pandas\")` to install the pandas package.\n",
      "\n",
      "Stacktrace:\n",
      "  [1] macro expansion\n",
      "    @ .\\loading.jl:1630 [inlined]\n",
      "  [2] macro expansion\n",
      "    @ .\\lock.jl:267 [inlined]\n",
      "  [3] require(into::Module, mod::Symbol)\n",
      "    @ Base .\\loading.jl:1611\n",
      "  [4] eval\n",
      "    @ .\\boot.jl:370 [inlined]\n",
      "  [5] include_string(mapexpr::typeof(REPL.softscope), mod::Module, code::String, filename::String)\n",
      "    @ Base .\\loading.jl:1903\n",
      "  [6] #invokelatest#2\n",
      "    @ .\\essentials.jl:819 [inlined]\n",
      "  [7] invokelatest\n",
      "    @ .\\essentials.jl:816 [inlined]\n",
      "  [8] (::VSCodeServer.var\"#217#218\"{VSCodeServer.NotebookRunCellArguments, String})()\n",
      "    @ VSCodeServer c:\\Users\\anjal\\.vscode\\extensions\\julialang.language-julia-1.127.2\\scripts\\packages\\VSCodeServer\\src\\serve_notebook.jl:24\n",
      "  [9] withpath(f::VSCodeServer.var\"#217#218\"{VSCodeServer.NotebookRunCellArguments, String}, path::String)\n",
      "    @ VSCodeServer c:\\Users\\anjal\\.vscode\\extensions\\julialang.language-julia-1.127.2\\scripts\\packages\\VSCodeServer\\src\\repl.jl:276\n",
      " [10] notebook_runcell_request(conn::VSCodeServer.JSONRPC.JSONRPCEndpoint{Base.PipeEndpoint, Base.PipeEndpoint}, params::VSCodeServer.NotebookRunCellArguments)\n",
      "    @ VSCodeServer c:\\Users\\anjal\\.vscode\\extensions\\julialang.language-julia-1.127.2\\scripts\\packages\\VSCodeServer\\src\\serve_notebook.jl:13\n",
      " [11] dispatch_msg(x::VSCodeServer.JSONRPC.JSONRPCEndpoint{Base.PipeEndpoint, Base.PipeEndpoint}, dispatcher::VSCodeServer.JSONRPC.MsgDispatcher, msg::Dict{String, Any})\n",
      "    @ VSCodeServer.JSONRPC c:\\Users\\anjal\\.vscode\\extensions\\julialang.language-julia-1.127.2\\scripts\\packages\\JSONRPC\\src\\typed.jl:67\n",
      " [12] serve_notebook(pipename::String, debugger_pipename::String, outputchannel_logger::Base.CoreLogging.SimpleLogger; error_handler::var\"#7#12\"{String})\n",
      "    @ VSCodeServer c:\\Users\\anjal\\.vscode\\extensions\\julialang.language-julia-1.127.2\\scripts\\packages\\VSCodeServer\\src\\serve_notebook.jl:147\n",
      " [13] top-level scope\n",
      "    @ c:\\Users\\anjal\\.vscode\\extensions\\julialang.language-julia-1.127.2\\scripts\\notebook\\notebook.jl:35"
     ]
    }
   ],
   "source": [
    "import pandas as pd\n",
    "import pypsa\n",
    "import matplotlib.pyplot as plt"
   ]
  },
  {
   "cell_type": "markdown",
   "metadata": {},
   "source": [
    "### Creating a one bus for the Netherlands"
   ]
  },
  {
   "cell_type": "code",
   "execution_count": 60,
   "metadata": {},
   "outputs": [
    {
     "ename": "UndefVarError",
     "evalue": "UndefVarError: `pypsa` not defined",
     "output_type": "error",
     "traceback": [
      "UndefVarError: `pypsa` not defined\n",
      "\n",
      "Stacktrace:\n",
      " [1] top-level scope\n",
      "   @ c:\\Users\\anjal\\OneDrive\\Dokumenter\\DTU\\Integrated Energy Grids\\prosjekt\\Integrated-energy-grid\\jl_notebook_cell_df34fa98e69747e1a8f8a730347b8e2f_W2sZmlsZQ==.jl:1"
     ]
    }
   ],
   "source": [
    "network = pypsa.Network()\n",
    "hours_in_2015 = pd.date_range('2015-01-01 00:00Z',\n",
    "                              '2015-12-31 23:00Z',\n",
    "                              freq='h')\n",
    "\n",
    "network.set_snapshots(hours_in_2015.values)\n",
    "\n",
    "\n",
    "network.add(\"Bus\", \"electricity bus\", carrier=\"electricity\")\n",
    "network.add(\"Carrier\", \"electricity\")  \n",
    "\n",
    "network.snapshots"
   ]
  },
  {
   "cell_type": "markdown",
   "metadata": {},
   "source": [
    "#### Getting the demand for the Netherlands and adding it to the bus"
   ]
  },
  {
   "cell_type": "code",
   "execution_count": 61,
   "metadata": {},
   "outputs": [
    {
     "ename": "ErrorException",
     "evalue": "syntax: character literal contains multiple characters",
     "output_type": "error",
     "traceback": [
      "syntax: character literal contains multiple characters\n",
      "\n",
      "Stacktrace:\n",
      " [1] top-level scope\n",
      "   @ c:\\Users\\anjal\\OneDrive\\Dokumenter\\DTU\\Integrated Energy Grids\\prosjekt\\Integrated-energy-grid\\jl_notebook_cell_df34fa98e69747e1a8f8a730347b8e2f_W4sZmlsZQ==.jl:5"
     ]
    }
   ],
   "source": [
    "# Define file path\n",
    "file_path = \"Data/electricity_demand.csv\"\n",
    "\n",
    "# Load dataset\n",
    "data = pd.read_csv(file_path, sep=';', parse_dates=['utc_time'], index_col='utc_time')\n",
    "data.index = pd.to_datetime(data.index, utc=True)\n",
    "# Convert index to datetime format\n",
    "data.index = pd.to_datetime(data.index, utc=True)\n",
    "\n",
    "start_date = '2015-01-01 00:00:00+00:00'\n",
    "end_date = '2015-12-31 23:00:00+00:00'\n",
    "\n",
    "data = data[start_date:end_date]\n",
    "country = 'NLD'\n",
    "data = data[country]\n",
    "print(data.head())"
   ]
  },
  {
   "cell_type": "code",
   "execution_count": 62,
   "metadata": {},
   "outputs": [
    {
     "ename": "UndefVarError",
     "evalue": "UndefVarError: `data` not defined",
     "output_type": "error",
     "traceback": [
      "UndefVarError: `data` not defined\n",
      "\n",
      "Stacktrace:\n",
      " [1] top-level scope\n",
      "   @ c:\\Users\\anjal\\OneDrive\\Dokumenter\\DTU\\Integrated Energy Grids\\prosjekt\\Integrated-energy-grid\\jl_notebook_cell_df34fa98e69747e1a8f8a730347b8e2f_W5sZmlsZQ==.jl:2"
     ]
    }
   ],
   "source": [
    "# add load to the bus\n",
    "network.add(\"Load\",\n",
    "            \"load\",\n",
    "            bus=\"electricity bus\",\n",
    "            p_set = data.values)"
   ]
  },
  {
   "cell_type": "code",
   "execution_count": 63,
   "metadata": {},
   "outputs": [
    {
     "ename": "UndefVarError",
     "evalue": "UndefVarError: `network` not defined",
     "output_type": "error",
     "traceback": [
      "UndefVarError: `network` not defined\n",
      "\n",
      "Stacktrace:\n",
      " [1] top-level scope\n",
      "   @ c:\\Users\\anjal\\OneDrive\\Dokumenter\\DTU\\Integrated Energy Grids\\prosjekt\\Integrated-energy-grid\\jl_notebook_cell_df34fa98e69747e1a8f8a730347b8e2f_W6sZmlsZQ==.jl:1"
     ]
    }
   ],
   "source": [
    "network.loads_t.p_set"
   ]
  },
  {
   "cell_type": "markdown",
   "metadata": {},
   "source": [
    "#### Adding different generation types "
   ]
  },
  {
   "cell_type": "code",
   "execution_count": 64,
   "metadata": {},
   "outputs": [
    {
     "ename": "ErrorException",
     "evalue": "syntax: extra token \"annuity\" after end of expression",
     "output_type": "error",
     "traceback": [
      "syntax: extra token \"annuity\" after end of expression\n",
      "\n",
      "Stacktrace:\n",
      " [1] top-level scope\n",
      "   @ c:\\Users\\anjal\\OneDrive\\Dokumenter\\DTU\\Integrated Energy Grids\\prosjekt\\Integrated-energy-grid\\jl_notebook_cell_df34fa98e69747e1a8f8a730347b8e2f_X11sZmlsZQ==.jl:1"
     ]
    }
   ],
   "source": [
    "def annuity(n,r):\n",
    "    \"\"\" Calculate the annuity factor for an asset with lifetime n years and\n",
    "    discount rate  r \"\"\"\n",
    "\n",
    "    if r > 0:\n",
    "        return r/(1. - 1./(1.+r)**n)\n",
    "    else:\n",
    "        return 1/n\n",
    "    \n",
    "print(annuity(25,0.07))\n",
    "print(annuity(25,0.07)*425000*(1+0.03))"
   ]
  },
  {
   "cell_type": "code",
   "execution_count": 65,
   "metadata": {},
   "outputs": [
    {
     "ename": "UndefVarError",
     "evalue": "UndefVarError: `network` not defined",
     "output_type": "error",
     "traceback": [
      "UndefVarError: `network` not defined\n",
      "\n",
      "Stacktrace:\n",
      " [1] top-level scope\n",
      "   @ c:\\Users\\anjal\\OneDrive\\Dokumenter\\DTU\\Integrated Energy Grids\\prosjekt\\Integrated-energy-grid\\jl_notebook_cell_df34fa98e69747e1a8f8a730347b8e2f_X12sZmlsZQ==.jl:2"
     ]
    }
   ],
   "source": [
    "# add the different carriers, only gas emits CO2\n",
    "network.add(\"Carrier\", \"coal\", co2_emissions=0.363) # in /MWh_tt_CO2h\n",
    "network.add(\"Carrier\", \"offshorewind\")\n",
    "network.add(\"Carrier\", \"onshorewind\")\n",
    "network.add(\"Carrier\", \"solar\")\n",
    "network.add(\"Carrier\", \"nuclear\")\n",
    "network.add(\"Carrier\", \"gas\", co2_emissions=0.22) # in /MWh_tt_CO2h\n",
    "\n",
    "\n",
    "\n",
    "# add onshore wind generator\n",
    "df_onshorewind = pd.read_csv('Data/onshore_wind_1979-2017.csv', sep=';', index_col=0)\n",
    "df_onshorewind.index = pd.to_datetime(df_onshorewind.index)\n",
    "CF_wind_on = df_onshorewind[country][[hour.strftime(\"%Y-%m-%dT%H:%M:%SZ\") for hour in network.snapshots]]\n",
    "capital_cost_onshorewind = annuity(30,0.07)*1088000*(1+0.033) # in €/MW\n",
    "network.add(\"Generator\",\n",
    "            \"onshorewind\",\n",
    "            bus=\"electricity bus\",\n",
    "            p_nom_extendable=True,\n",
    "            carrier=\"onshorewind\",\n",
    "            #p_nom_max=7000, # maximum capacity can be limited due to environmental constraints\n",
    "            capital_cost = capital_cost_onshorewind,\n",
    "            marginal_cost = 0,\n",
    "            p_max_pu = CF_wind_on.values)\n",
    "\n",
    "# add offshore wind generator\n",
    "df_offshorewind = pd.read_csv('Data/offshore_wind_1979-2017.csv', sep=';', index_col=0)\n",
    "df_offshorewind.index = pd.to_datetime(df_offshorewind.index)\n",
    "CF_wind_off = df_offshorewind[country][[hour.strftime(\"%Y-%m-%dT%H:%M:%SZ\") for hour in network.snapshots]]\n",
    "capital_cost_offshorewind = annuity(30,0.07)*2084520*(1+0.033) # in €/MW\n",
    "network.add(\"Generator\",\n",
    "            \"offshorewind\",\n",
    "            bus=\"electricity bus\",\n",
    "            p_nom_extendable=True,\n",
    "            carrier=\"offshorewind\",\n",
    "            #p_nom_max=7000, # maximum capacity can be limited due to environmental constraints\n",
    "            capital_cost = capital_cost_offshorewind,\n",
    "            marginal_cost = 0,\n",
    "            p_max_pu = CF_wind_off.values)\n",
    "\n",
    "# add solar PV generator\n",
    "df_solar = pd.read_csv('Data/pv_optimal.csv', sep=';', index_col=0)\n",
    "df_solar.index = pd.to_datetime(df_solar.index)\n",
    "CF_solar = df_solar[country][[hour.strftime(\"%Y-%m-%dT%H:%M:%SZ\") for hour in network.snapshots]]\n",
    "capital_cost_solar = annuity(25,0.07)*600290*(1+0.03) # in €/MW\n",
    "network.add(\"Generator\",\n",
    "            \"solar\",\n",
    "            bus=\"electricity bus\",\n",
    "            p_nom_extendable=True,\n",
    "            carrier=\"solar\",\n",
    "            #p_nom_max=1000, # maximum capacity can be limited due to environmental constraints\n",
    "            capital_cost = capital_cost_solar,\n",
    "            marginal_cost = 0,\n",
    "            p_max_pu = CF_solar.values)\n",
    "\n",
    "# add Gas CC W/o ccts\n",
    "capital_cost_CCGT = annuity(30,0.07)*1300000*(1+0.033) # in €/MW\n",
    "fuel_cost = 21.6 # in €/MWh_th\n",
    "efficiency = 0.58 # MWh_elec/MWh_th\n",
    "VOM_gas = 4 # in €/MWh\n",
    "marginal_cost_CCGT = VOM_gas + fuel_cost/efficiency # in €/MWh_el\n",
    "network.add(\"Generator\",\n",
    "            \"CCGT\",\n",
    "            bus=\"electricity bus\",\n",
    "            p_nom_extendable=True,\n",
    "            carrier=\"gas\",\n",
    "            #p_nom_max=7000,\n",
    "            capital_cost = capital_cost_CCGT,\n",
    "            marginal_cost = marginal_cost_CCGT)\n",
    "\n",
    "\n",
    "# add coal power plant  generator coal IGCC W/o ccts\n",
    "capital_cost_coal = annuity(40,0.07)*3088000*(1+0.03) # in €/MW\n",
    "fuel_cost = 8.4 # in €/MWh_th\n",
    "efficiency = 0.392 # MWh_elec/MWh_th\n",
    "VOM_coal = 6 # in €/MWh\n",
    "marginal_cost_coal = VOM_coal + fuel_cost/efficiency # in €/MWh_el\n",
    "network.add(\"Generator\",\n",
    "            \"coal\",\n",
    "            bus=\"electricity bus\",\n",
    "            p_nom_extendable=True,\n",
    "            carrier=\"coal\",\n",
    "            #p_nom_max=7000,\n",
    "            capital_cost = capital_cost_coal,\n",
    "            marginal_cost = marginal_cost_coal)\n",
    "\n",
    "\n",
    "# add nuclear power plant generator\n",
    "capital_cost_nuclear = annuity(45,0.07)*8594000*(1+0.027) # in €/MW\n",
    "fuel_cost = 3 # in €/MWh_th \n",
    "efficiency = 0.33 # MWh_elec/MWh_th\n",
    "VOM_nuclear = 10 # in €/MWh\n",
    "marginal_cost_nuclear = VOM_nuclear + fuel_cost/efficiency # in €/MWh_el\n",
    "network.add(\"Generator\",\n",
    "            \"nuclear\",\n",
    "            bus=\"electricity bus\",\n",
    "            p_nom_extendable=True,\n",
    "            carrier=\"nuclear\",\n",
    "            #p_nom_max=7000,\n",
    "            capital_cost = capital_cost_nuclear,\n",
    "            marginal_cost = marginal_cost_nuclear)"
   ]
  },
  {
   "cell_type": "code",
   "execution_count": 66,
   "metadata": {},
   "outputs": [
    {
     "ename": "UndefVarError",
     "evalue": "UndefVarError: `network` not defined",
     "output_type": "error",
     "traceback": [
      "UndefVarError: `network` not defined\n",
      "\n",
      "Stacktrace:\n",
      " [1] top-level scope\n",
      "   @ c:\\Users\\anjal\\OneDrive\\Dokumenter\\DTU\\Integrated Energy Grids\\prosjekt\\Integrated-energy-grid\\jl_notebook_cell_df34fa98e69747e1a8f8a730347b8e2f_X13sZmlsZQ==.jl:1"
     ]
    }
   ],
   "source": [
    "network.generators_t.p_max_pu"
   ]
  },
  {
   "cell_type": "code",
   "execution_count": 67,
   "metadata": {},
   "outputs": [
    {
     "ename": "ErrorException",
     "evalue": "syntax: character literal contains multiple characters",
     "output_type": "error",
     "traceback": [
      "syntax: character literal contains multiple characters\n",
      "\n",
      "Stacktrace:\n",
      " [1] top-level scope\n",
      "   @ c:\\Users\\anjal\\OneDrive\\Dokumenter\\DTU\\Integrated Energy Grids\\prosjekt\\Integrated-energy-grid\\jl_notebook_cell_df34fa98e69747e1a8f8a730347b8e2f_X14sZmlsZQ==.jl:1"
     ]
    }
   ],
   "source": [
    "network.optimize(solver_name='gurobi')"
   ]
  },
  {
   "cell_type": "code",
   "execution_count": 68,
   "metadata": {},
   "outputs": [
    {
     "ename": "UndefVarError",
     "evalue": "UndefVarError: `network` not defined",
     "output_type": "error",
     "traceback": [
      "UndefVarError: `network` not defined\n",
      "\n",
      "Stacktrace:\n",
      " [1] top-level scope\n",
      "   @ c:\\Users\\anjal\\OneDrive\\Dokumenter\\DTU\\Integrated Energy Grids\\prosjekt\\Integrated-energy-grid\\jl_notebook_cell_df34fa98e69747e1a8f8a730347b8e2f_X15sZmlsZQ==.jl:1"
     ]
    }
   ],
   "source": [
    "print(network.objective/1000000) #in 10^6 €"
   ]
  },
  {
   "cell_type": "code",
   "execution_count": 69,
   "metadata": {},
   "outputs": [
    {
     "ename": "UndefVarError",
     "evalue": "UndefVarError: `network` not defined",
     "output_type": "error",
     "traceback": [
      "UndefVarError: `network` not defined\n",
      "\n",
      "Stacktrace:\n",
      " [1] top-level scope\n",
      "   @ c:\\Users\\anjal\\OneDrive\\Dokumenter\\DTU\\Integrated Energy Grids\\prosjekt\\Integrated-energy-grid\\jl_notebook_cell_df34fa98e69747e1a8f8a730347b8e2f_X16sZmlsZQ==.jl:1"
     ]
    }
   ],
   "source": [
    "print(network.objective/network.loads_t.p.sum()) # EUR/MWh"
   ]
  },
  {
   "cell_type": "code",
   "execution_count": 70,
   "metadata": {},
   "outputs": [
    {
     "ename": "UndefVarError",
     "evalue": "UndefVarError: `network` not defined",
     "output_type": "error",
     "traceback": [
      "UndefVarError: `network` not defined\n",
      "\n",
      "Stacktrace:\n",
      " [1] top-level scope\n",
      "   @ c:\\Users\\anjal\\OneDrive\\Dokumenter\\DTU\\Integrated Energy Grids\\prosjekt\\Integrated-energy-grid\\jl_notebook_cell_df34fa98e69747e1a8f8a730347b8e2f_X20sZmlsZQ==.jl:1"
     ]
    }
   ],
   "source": [
    "network.generators.p_nom_opt # in MW"
   ]
  },
  {
   "cell_type": "code",
   "execution_count": 71,
   "metadata": {},
   "outputs": [
    {
     "ename": "UndefVarError",
     "evalue": "UndefVarError: `True` not defined",
     "output_type": "error",
     "traceback": [
      "UndefVarError: `True` not defined\n",
      "\n",
      "Stacktrace:\n",
      " [1] top-level scope\n",
      "   @ c:\\Users\\anjal\\OneDrive\\Dokumenter\\DTU\\Integrated Energy Grids\\prosjekt\\Integrated-energy-grid\\jl_notebook_cell_df34fa98e69747e1a8f8a730347b8e2f_X21sZmlsZQ==.jl:1"
     ]
    }
   ],
   "source": [
    "fig, axes = plt.subplots(1, 2, figsize=(16, 6), sharey=True)  # 1 row, 2 columns\n",
    "\n",
    "# --- Winter Week (January) ---\n",
    "axes[0].plot(network.loads_t.p['load'][0:168], color='black', label='demand')\n",
    "axes[0].plot(network.generators_t.p['onshorewind'][0:168], color='blue', label='onshore wind')\n",
    "axes[0].plot(network.generators_t.p['offshorewind'][0:168], color='green', label='offshore wind')\n",
    "axes[0].plot(network.generators_t.p['solar'][0:168], color='orange', label='solar')\n",
    "axes[0].plot(network.generators_t.p['CCGT'][0:168], color='brown', label='gas (CCGT)')\n",
    "axes[0].plot(network.generators_t.p['coal'][0:168], color='red', label='coal')\n",
    "axes[0].plot(network.generators_t.p['nuclear'][0:168], color='pink', label='nuclear')\n",
    "axes[0].legend(fancybox=True, shadow=True, loc='best')\n",
    "axes[0].set_title('Electricity production in one week in January')\n",
    "axes[0].tick_params(axis='x', rotation=45)\n",
    "\n",
    "# --- Summer Week (July) ---\n",
    "axes[1].plot(network.loads_t.p['load'][4344:4512], color='black', label='demand')\n",
    "axes[1].plot(network.generators_t.p['onshorewind'][4344:4512], color='blue', label='onshore wind')\n",
    "axes[1].plot(network.generators_t.p['offshorewind'][4344:4512], color='green', label='offshore wind')\n",
    "axes[1].plot(network.generators_t.p['solar'][4344:4512], color='orange', label='solar')\n",
    "axes[1].plot(network.generators_t.p['CCGT'][4344:4512], color='brown', label='gas (CCGT)')\n",
    "axes[1].plot(network.generators_t.p['coal'][4344:4512], color='red', label='coal')\n",
    "axes[1].plot(network.generators_t.p['nuclear'][4344:4512], color='pink', label='nuclear')\n",
    "axes[1].legend(fancybox=True, shadow=True, loc='best')\n",
    "axes[1].set_title('Electricity production in one week in July')\n",
    "axes[1].tick_params(axis='x', rotation=45)\n",
    "\n",
    "plt.tight_layout()\n",
    "plt.show()"
   ]
  },
  {
   "cell_type": "markdown",
   "metadata": {},
   "source": [
    "## Electricity mix"
   ]
  },
  {
   "cell_type": "code",
   "execution_count": 72,
   "metadata": {},
   "outputs": [
    {
     "ename": "ErrorException",
     "evalue": "syntax: character literal contains multiple characters",
     "output_type": "error",
     "traceback": [
      "syntax: character literal contains multiple characters\n",
      "\n",
      "Stacktrace:\n",
      " [1] top-level scope\n",
      "   @ c:\\Users\\anjal\\OneDrive\\Dokumenter\\DTU\\Integrated Energy Grids\\prosjekt\\Integrated-energy-grid\\jl_notebook_cell_df34fa98e69747e1a8f8a730347b8e2f_X23sZmlsZQ==.jl:1"
     ]
    }
   ],
   "source": [
    "labels = ['onshore wind',\n",
    "          'solar',\n",
    "          'gas (CCGT)',\n",
    "          'Offshore wind',\n",
    "          'Coal',\n",
    "          'Nuclear']\n",
    "sizes = [network.generators_t.p['onshorewind'].sum(),\n",
    "         network.generators_t.p['solar'].sum(),\n",
    "         network.generators_t.p['CCGT'].sum(),\n",
    "         network.generators_t.p['offshorewind'].sum(),\n",
    "        network.generators_t.p['coal'].sum(),\n",
    "        network.generators_t.p['nuclear'].sum()]\n",
    "\n",
    "colors=['blue', 'orange', 'brown', 'green', 'red', 'pink']\n",
    "\n",
    "plt.pie(sizes,\n",
    "        colors=colors,\n",
    "        labels=labels,\n",
    "        wedgeprops={'linewidth':0})\n",
    "plt.axis('equal')\n",
    "\n",
    "plt.title('Electricity mix', y=1.07)"
   ]
  },
  {
   "cell_type": "code",
   "execution_count": 73,
   "metadata": {},
   "outputs": [
    {
     "ename": "UndefVarError",
     "evalue": "UndefVarError: `network` not defined",
     "output_type": "error",
     "traceback": [
      "UndefVarError: `network` not defined\n",
      "\n",
      "Stacktrace:\n",
      " [1] top-level scope\n",
      "   @ c:\\Users\\anjal\\OneDrive\\Dokumenter\\DTU\\Integrated Energy Grids\\prosjekt\\Integrated-energy-grid\\jl_notebook_cell_df34fa98e69747e1a8f8a730347b8e2f_X24sZmlsZQ==.jl:2"
     ]
    }
   ],
   "source": [
    "# Group dispatch by carrier manually\n",
    "dispatch = network.generators_t.p\n",
    "carrier_map = network.generators.carrier\n",
    "\n",
    "# Match generator names to carriers\n",
    "dispatch.columns = carrier_map[dispatch.columns].values"
   ]
  },
  {
   "cell_type": "code",
   "execution_count": 74,
   "metadata": {},
   "outputs": [
    {
     "ename": "UndefVarError",
     "evalue": "UndefVarError: `dispatch` not defined",
     "output_type": "error",
     "traceback": [
      "UndefVarError: `dispatch` not defined\n",
      "\n",
      "Stacktrace:\n",
      " [1] top-level scope\n",
      "   @ c:\\Users\\anjal\\OneDrive\\Dokumenter\\DTU\\Integrated Energy Grids\\prosjekt\\Integrated-energy-grid\\jl_notebook_cell_df34fa98e69747e1a8f8a730347b8e2f_X25sZmlsZQ==.jl:2"
     ]
    }
   ],
   "source": [
    "# Sum all generators by carrier\n",
    "carrier_dispatch = dispatch.groupby(axis=1, level=0).sum()\n",
    "# Duration curves\n",
    "carrier_dispatch.apply(lambda x: x.sort_values(ascending=False).reset_index(drop=True)).plot(\n",
    "    figsize=(12, 6), title=\"Generation Duration Curves\")\n",
    "plt.ylabel(\"Power Output [MW]\")\n",
    "plt.xlabel(\"Sorted Hours\")\n",
    "plt.grid(True)\n",
    "plt.tight_layout()\n",
    "plt.show()"
   ]
  },
  {
   "cell_type": "markdown",
   "metadata": {},
   "source": [
    "## CO2 limit "
   ]
  },
  {
   "cell_type": "code",
   "execution_count": 75,
   "metadata": {},
   "outputs": [
    {
     "ename": "UndefVarError",
     "evalue": "UndefVarError: `network` not defined",
     "output_type": "error",
     "traceback": [
      "UndefVarError: `network` not defined\n",
      "\n",
      "Stacktrace:\n",
      " [1] top-level scope\n",
      "   @ c:\\Users\\anjal\\OneDrive\\Dokumenter\\DTU\\Integrated Energy Grids\\prosjekt\\Integrated-energy-grid\\jl_notebook_cell_df34fa98e69747e1a8f8a730347b8e2f_X30sZmlsZQ==.jl:2"
     ]
    }
   ],
   "source": [
    "co2_limit=13000000#tonCO2\n",
    "network.add(\"GlobalConstraint\",\n",
    "            \"co2_limit_13MT\",\n",
    "            type=\"primary_energy\",\n",
    "            carrier_attribute=\"co2_emissions\",\n",
    "            sense=\"<=\",\n",
    "            constant=co2_limit)\n",
    "\n",
    "#network.optimize(solver_name='gurobi')\n",
    "network.optimize(solver_name='gurobi', solver_options={'OutputFlag': 0})\n",
    "\n",
    "\n",
    "\n",
    "labels = ['onshore wind',\n",
    "          'solar',\n",
    "          'gas (CCGT)',\n",
    "          'Offshore wind',\n",
    "          'Coal',\n",
    "          'Nuclear']\n",
    "sizes = [network.generators_t.p['onshorewind'].sum(),\n",
    "         network.generators_t.p['solar'].sum(),\n",
    "         network.generators_t.p['CCGT'].sum(),\n",
    "         network.generators_t.p['offshorewind'].sum(),\n",
    "        network.generators_t.p['coal'].sum(),\n",
    "        network.generators_t.p['nuclear'].sum()]\n",
    "\n",
    "colors=['blue', 'orange', 'brown', 'green', 'red', 'pink']    \n",
    "\n",
    "plt.pie(sizes,\n",
    "        colors=colors,\n",
    "        labels=labels,\n",
    "        wedgeprops={'linewidth':0})\n",
    "plt.axis('equal')\n",
    "\n",
    "plt.title('Electricity mix', y=1.07)\n",
    "\n",
    "network.generators.p_nom_opt # in MW"
   ]
  },
  {
   "cell_type": "code",
   "execution_count": 76,
   "metadata": {},
   "outputs": [
    {
     "ename": "UndefVarError",
     "evalue": "UndefVarError: `np` not defined",
     "output_type": "error",
     "traceback": [
      "UndefVarError: `np` not defined\n",
      "\n",
      "Stacktrace:\n",
      " [1] top-level scope\n",
      "   @ c:\\Users\\anjal\\OneDrive\\Dokumenter\\DTU\\Integrated Energy Grids\\prosjekt\\Integrated-energy-grid\\jl_notebook_cell_df34fa98e69747e1a8f8a730347b8e2f_X52sZmlsZQ==.jl:1"
     ]
    }
   ],
   "source": [
    "co2_limits = np.linspace(0, 19.9e6, 10)  \n",
    "\n",
    "\n",
    "energy_mixes = []\n",
    "for co2_limit in co2_limits:\n",
    "    \n",
    "    network.remove(\"GlobalConstraint\", \"co2_limit\") \n",
    "    network.add(\"GlobalConstraint\",\n",
    "                \"co2_limit\",  \n",
    "                type=\"primary_energy\",\n",
    "                carrier_attribute=\"co2_emissions\",\n",
    "                sense=\"<=\",\n",
    "                constant=co2_limit)\n",
    "    network.optimize(solver_name='gurobi', solver_options={'OutputFlag': 0})\n",
    "    sizes = [network.generators_t.p['onshorewind'].sum(),\n",
    "             network.generators_t.p['solar'].sum(),\n",
    "             network.generators_t.p['CCGT'].sum(),\n",
    "             network.generators_t.p['offshorewind'].sum(),\n",
    "             network.generators_t.p['coal'].sum(),\n",
    "             network.generators_t.p['nuclear'].sum()]\n",
    "    energy_mixes.append(sizes)\n",
    "\n",
    "energy_mixes = np.array(energy_mixes)\n",
    "\n",
    "\n",
    "# Plot\n",
    "labels = ['onshore wind', 'solar', 'gas (CCGT)', 'Offshore wind', 'Coal', 'Nuclear']\n",
    "colors = ['blue', 'orange', 'brown', 'green', 'red', 'pink']\n",
    "fig, ax1 = plt.subplots(figsize=(12, 7))\n",
    "x = np.arange(len(co2_limits)) \n",
    "bar_width = 0.15 \n",
    "for i, label in enumerate(labels):\n",
    "    ax1.bar(x + i * bar_width, energy_mixes[:, i], bar_width, label=label, color=colors[i])\n",
    "ax1.set_xlabel('CO2 Limit (tonCO2)')\n",
    "ax1.set_ylabel('Energy Production (MWh)')\n",
    "ax1.set_title('Energy Mix vs CO2 Limit')\n",
    "ax1.set_xticks(x + bar_width * 2) \n",
    "ax1.set_xticklabels([f'{co2_limit / 1e6:.1f} Mt' for co2_limit in co2_limits]) \n",
    "ax1.legend(title=\"Energy Sources\")\n",
    "fig.tight_layout()\n",
    "\n",
    "plt.show()\n"
   ]
  },
  {
   "cell_type": "code",
   "execution_count": 77,
   "metadata": {},
   "outputs": [
    {
     "ename": "UndefVarError",
     "evalue": "UndefVarError: `network` not defined",
     "output_type": "error",
     "traceback": [
      "UndefVarError: `network` not defined\n",
      "\n",
      "Stacktrace:\n",
      " [1] top-level scope\n",
      "   @ c:\\Users\\anjal\\OneDrive\\Dokumenter\\DTU\\Integrated Energy Grids\\prosjekt\\Integrated-energy-grid\\jl_notebook_cell_df34fa98e69747e1a8f8a730347b8e2f_X31sZmlsZQ==.jl:1"
     ]
    }
   ],
   "source": [
    "print(network.objective/1000000) #in 10^6 €"
   ]
  },
  {
   "cell_type": "code",
   "execution_count": 78,
   "metadata": {},
   "outputs": [
    {
     "ename": "UndefVarError",
     "evalue": "UndefVarError: `True` not defined",
     "output_type": "error",
     "traceback": [
      "UndefVarError: `True` not defined\n",
      "\n",
      "Stacktrace:\n",
      " [1] top-level scope\n",
      "   @ c:\\Users\\anjal\\OneDrive\\Dokumenter\\DTU\\Integrated Energy Grids\\prosjekt\\Integrated-energy-grid\\jl_notebook_cell_df34fa98e69747e1a8f8a730347b8e2f_X32sZmlsZQ==.jl:1"
     ]
    }
   ],
   "source": [
    "fig, axes = plt.subplots(1, 2, figsize=(16, 6), sharey=True)  # 1 row, 2 columns\n",
    "\n",
    "# --- Winter Week (January) ---\n",
    "axes[0].plot(network.loads_t.p['load'][0:168], color='black', label='demand')\n",
    "axes[0].plot(network.generators_t.p['onshorewind'][0:168], color='blue', label='onshore wind')\n",
    "axes[0].plot(network.generators_t.p['offshorewind'][0:168], color='green', label='offshore wind')\n",
    "axes[0].plot(network.generators_t.p['solar'][0:168], color='orange', label='solar')\n",
    "axes[0].plot(network.generators_t.p['CCGT'][0:168], color='brown', label='gas (CCGT)')\n",
    "axes[0].plot(network.generators_t.p['coal'][0:168], color='red', label='coal')\n",
    "axes[0].plot(network.generators_t.p['nuclear'][0:168], color='pink', label='nuclear')\n",
    "axes[0].legend(fancybox=True, shadow=True, loc='best')\n",
    "axes[0].set_title('Electricity production in one week in January')\n",
    "axes[0].tick_params(axis='x', rotation=45)\n",
    "\n",
    "# --- Summer Week (July) ---\n",
    "axes[1].plot(network.loads_t.p['load'][4344:4512], color='black', label='demand')\n",
    "axes[1].plot(network.generators_t.p['onshorewind'][4344:4512], color='blue', label='onshore wind')\n",
    "axes[1].plot(network.generators_t.p['offshorewind'][4344:4512], color='green', label='offshore wind')\n",
    "axes[1].plot(network.generators_t.p['solar'][4344:4512], color='orange', label='solar')\n",
    "axes[1].plot(network.generators_t.p['CCGT'][4344:4512], color='brown', label='gas (CCGT)')\n",
    "axes[1].plot(network.generators_t.p['coal'][4344:4512], color='red', label='coal')\n",
    "axes[1].plot(network.generators_t.p['nuclear'][4344:4512], color='pink', label='nuclear')\n",
    "axes[1].legend(fancybox=True, shadow=True, loc='best')\n",
    "axes[1].set_title('Electricity production in one week in July')\n",
    "axes[1].tick_params(axis='x', rotation=45)\n",
    "\n",
    "plt.tight_layout()\n",
    "plt.show()"
   ]
  },
  {
   "cell_type": "markdown",
   "metadata": {},
   "source": [
    "Part C. Plotting Average Capacity and variability for every generator"
   ]
  },
  {
   "cell_type": "code",
   "execution_count": 79,
   "metadata": {},
   "outputs": [
    {
     "ename": "ErrorException",
     "evalue": "syntax: character literal contains multiple characters",
     "output_type": "error",
     "traceback": [
      "syntax: character literal contains multiple characters\n",
      "\n",
      "Stacktrace:\n",
      " [1] top-level scope\n",
      "   @ c:\\Users\\anjal\\OneDrive\\Dokumenter\\DTU\\Integrated Energy Grids\\prosjekt\\Integrated-energy-grid\\jl_notebook_cell_df34fa98e69747e1a8f8a730347b8e2f_X34sZmlsZQ==.jl:2"
     ]
    }
   ],
   "source": [
    "#calculating the average capacity for each generator using different years\n",
    "Country = 'NLD'\n",
    "\n",
    "data_pv = pd.read_csv('Data/pv_optimal.csv', sep=';', index_col=0)\n",
    "data_pv.index = pd.to_datetime(data_pv.index)\n",
    "CF_pv = data_pv[country]['1979-1-01T00:00:00Z':'2017-12-31T23:00:00Z']\n",
    "\n",
    "data_onshore_wind = pd.read_csv('Data/onshore_wind_1979-2017.csv', sep=';', index_col=0)\n",
    "data_onshore_wind.index = pd.to_datetime(data_onshore_wind.index)\n",
    "CF_onshore_wind = data_onshore_wind[country]['1979-1-01T00:00:00Z':'2017-12-31T23:00:00Z']\n",
    "\n",
    "data_offshore_wind = pd.read_csv('Data/offshore_wind_1979-2017.csv', sep=';', index_col=0)\n",
    "data_offshore_wind.index = pd.to_datetime(data_offshore_wind.index)\n",
    "CF_offshore_wind = data_offshore_wind[country]['1979-1-01T00:00:00Z':'2017-12-31T23:00:00Z']\n",
    "\n",
    "CF_all = pd.concat([CF_pv.rename('PV'),\n",
    "                    CF_onshore_wind.rename('onshore wind'),\n",
    "                    CF_offshore_wind.rename('offshore wind')], axis=1)\n",
    "\n",
    "average = CF_all.mean()\n",
    "std_dev = CF_all.std()\n",
    "\n",
    "plt.figure(figsize=(10, 6))\n",
    "plt.bar(average.index, average.values, yerr=std_dev.values, capsize=5, alpha = 0.7)\n",
    "plt.ylabel('Capacity Factor')\n",
    "plt.title('Generator Capacity Sensitivity to Interannual Variability')\n",
    "plt.grid(True, linestyle = '--', alpha = 0.5)\n",
    "plt.tight_layout()\n",
    "plt.show()\n",
    "\n",
    "\n",
    "\n",
    "\n"
   ]
  },
  {
   "cell_type": "markdown",
   "metadata": {},
   "source": [
    "Part D. Adding Storage Technology"
   ]
  },
  {
   "cell_type": "code",
   "execution_count": 80,
   "metadata": {},
   "outputs": [
    {
     "ename": "UndefVarError",
     "evalue": "UndefVarError: `network` not defined",
     "output_type": "error",
     "traceback": [
      "UndefVarError: `network` not defined\n",
      "\n",
      "Stacktrace:\n",
      " [1] top-level scope\n",
      "   @ c:\\Users\\anjal\\OneDrive\\Dokumenter\\DTU\\Integrated Energy Grids\\prosjekt\\Integrated-energy-grid\\jl_notebook_cell_df34fa98e69747e1a8f8a730347b8e2f_X36sZmlsZQ==.jl:1"
     ]
    }
   ],
   "source": [
    "network.add(\"Carrier\", \"battery\")\n",
    "network.add(\"Carrier\", \"Pumped Hydro\")\n",
    "\n",
    "# add storage units (battery and pumped hydro)\n",
    "network.add(\"StorageUnit\", \"battery\", \n",
    "            bus=\"electricity bus\",\n",
    "            p_nom=300000,\n",
    "            max_hours=4.5,\n",
    "            p_nom_extendable = True,\n",
    "            efficiency_store=0.9,\n",
    "            efficiency_dispatch=0.9,\n",
    "            capital_cost=350000,\n",
    "            marginal_cost=0,\n",
    "            carrier=\"battery\",\n",
    "            overwrite = True)\n",
    "\n",
    "network.add(\"StorageUnit\", \"Pumped Hydro\", \n",
    "            bus=\"electricity bus\",\n",
    "            p_nom=500,\n",
    "            p_nom_extendable = True,\n",
    "            max_hours=12,\n",
    "            efficiency_store=0.9,\n",
    "            efficiency_dispatch=0.9,\n",
    "            capital_cost=2000000,\n",
    "            marginal_cost=0,\n",
    "            carrier=\"Pumped Hydro\",\n",
    "            overwrite = True)\n"
   ]
  },
  {
   "cell_type": "code",
   "execution_count": 81,
   "metadata": {},
   "outputs": [
    {
     "ename": "UndefVarError",
     "evalue": "UndefVarError: `network` not defined",
     "output_type": "error",
     "traceback": [
      "UndefVarError: `network` not defined\n",
      "\n",
      "Stacktrace:\n",
      " [1] top-level scope\n",
      "   @ c:\\Users\\anjal\\OneDrive\\Dokumenter\\DTU\\Integrated Energy Grids\\prosjekt\\Integrated-energy-grid\\jl_notebook_cell_df34fa98e69747e1a8f8a730347b8e2f_X40sZmlsZQ==.jl:1"
     ]
    }
   ],
   "source": [
    "network.storage_units.head(3)"
   ]
  },
  {
   "cell_type": "code",
   "execution_count": 82,
   "metadata": {},
   "outputs": [
    {
     "ename": "ErrorException",
     "evalue": "syntax: character literal contains multiple characters",
     "output_type": "error",
     "traceback": [
      "syntax: character literal contains multiple characters\n",
      "\n",
      "Stacktrace:\n",
      " [1] top-level scope\n",
      "   @ c:\\Users\\anjal\\OneDrive\\Dokumenter\\DTU\\Integrated Energy Grids\\prosjekt\\Integrated-energy-grid\\jl_notebook_cell_df34fa98e69747e1a8f8a730347b8e2f_X41sZmlsZQ==.jl:1"
     ]
    }
   ],
   "source": [
    "network.optimize(solver_name='gurobi')"
   ]
  },
  {
   "cell_type": "code",
   "execution_count": 83,
   "metadata": {},
   "outputs": [
    {
     "ename": "UndefVarError",
     "evalue": "UndefVarError: `network` not defined",
     "output_type": "error",
     "traceback": [
      "UndefVarError: `network` not defined\n",
      "\n",
      "Stacktrace:\n",
      " [1] top-level scope\n",
      "   @ c:\\Users\\anjal\\OneDrive\\Dokumenter\\DTU\\Integrated Energy Grids\\prosjekt\\Integrated-energy-grid\\jl_notebook_cell_df34fa98e69747e1a8f8a730347b8e2f_X42sZmlsZQ==.jl:1"
     ]
    }
   ],
   "source": [
    "p_nom_opt_batt = network.storage_units.loc[\"battery\", \"p_nom_opt\"]\n",
    "p_nom_opt_pump = network.storage_units.loc[\"Pumped Hydro\", \"p_nom_opt\"]\n",
    "print(p_nom_opt_batt)\n",
    "print(p_nom_opt_pump)"
   ]
  },
  {
   "cell_type": "code",
   "execution_count": 84,
   "metadata": {},
   "outputs": [
    {
     "ename": "UndefVarError",
     "evalue": "UndefVarError: `network` not defined",
     "output_type": "error",
     "traceback": [
      "UndefVarError: `network` not defined\n",
      "\n",
      "Stacktrace:\n",
      " [1] top-level scope\n",
      "   @ c:\\Users\\anjal\\OneDrive\\Dokumenter\\DTU\\Integrated Energy Grids\\prosjekt\\Integrated-energy-grid\\jl_notebook_cell_df34fa98e69747e1a8f8a730347b8e2f_X43sZmlsZQ==.jl:1"
     ]
    }
   ],
   "source": [
    "network.storage_units_t.state_of_charge[\"battery\"].loc[\"2015-06-01\":\"2015-06-07\"].plot()\n",
    "plt.title(\"Battery State of Charge (Week of June 2017)\")\n",
    "plt.ylabel(\"Energy [MWh]\")\n",
    "plt.grid()\n",
    "plt.show()\n"
   ]
  },
  {
   "cell_type": "markdown",
   "metadata": {},
   "source": [
    "Part E: target for decarbonization"
   ]
  },
  {
   "cell_type": "code",
   "execution_count": 85,
   "metadata": {},
   "outputs": [
    {
     "ename": "UndefVarError",
     "evalue": "UndefVarError: `network` not defined",
     "output_type": "error",
     "traceback": [
      "UndefVarError: `network` not defined\n",
      "\n",
      "Stacktrace:\n",
      " [1] top-level scope\n",
      "   @ c:\\Users\\anjal\\OneDrive\\Dokumenter\\DTU\\Integrated Energy Grids\\prosjekt\\Integrated-energy-grid\\jl_notebook_cell_df34fa98e69747e1a8f8a730347b8e2f_X46sZmlsZQ==.jl:6"
     ]
    }
   ],
   "source": [
    "co2_limit = 13e6  \n",
    "\n",
    "co2_prices = []\n",
    "\n",
    "\n",
    "network.remove(\"GlobalConstraint\", \"co2_limit\")\n",
    "\n",
    "\n",
    "network.add(\"GlobalConstraint\",\n",
    "            \"co2_limit\",\n",
    "            type=\"primary_energy\",\n",
    "            carrier_attribute=\"co2_emissions\",\n",
    "            sense=\"<=\",\n",
    "            constant=co2_limit)\n",
    "\n",
    "network.optimize(solver_name='gurobi', solver_options={'OutputFlag': 0})\n",
    "\n",
    "co2_price = network.global_constraints.mu\n",
    "co2_prices.append(co2_price)\n",
    "\n",
    "\n",
    "print(f\"CO2 Limit: {co2_limit / 1e6:.1f} Mt, CO2 Price: {co2_price}\")\n"
   ]
  },
  {
   "cell_type": "code",
   "execution_count": 86,
   "metadata": {},
   "outputs": [
    {
     "ename": "UndefVarError",
     "evalue": "UndefVarError: `np` not defined",
     "output_type": "error",
     "traceback": [
      "UndefVarError: `np` not defined\n",
      "\n",
      "Stacktrace:\n",
      " [1] top-level scope\n",
      "   @ c:\\Users\\anjal\\OneDrive\\Dokumenter\\DTU\\Integrated Energy Grids\\prosjekt\\Integrated-energy-grid\\jl_notebook_cell_df34fa98e69747e1a8f8a730347b8e2f_X50sZmlsZQ==.jl:1"
     ]
    }
   ],
   "source": [
    "co2_limits = np.linspace(0, 19.9e6, 10)\n",
    "\n",
    "co2_prices = []\n",
    "\n",
    "for co2_limit in co2_limits:\n",
    "    network.remove(\"GlobalConstraint\", \"co2_limit\")\n",
    "    \n",
    "    network.add(\"GlobalConstraint\",\n",
    "                \"co2_limit\",\n",
    "                type=\"primary_energy\",\n",
    "                carrier_attribute=\"co2_emissions\",\n",
    "                sense=\"<=\",\n",
    "                constant=co2_limit)\n",
    "    \n",
    "    network.optimize(solver_name='gurobi', solver_options={'OutputFlag': 0})\n",
    "    \n",
    "    co2_price = network.global_constraints.mu\n",
    "    co2_prices.append(co2_price)\n",
    "\n",
    "print(\"CO2 Prices for each CO2 limit:\")\n",
    "for co2_limit, co2_price in zip(co2_limits, co2_prices):\n",
    "    print(f\"CO2 Limit: {co2_limit / 1e6:.1f} Mt, CO2 Price: {co2_price} EUR/ton\")\n",
    "\n",
    "\n",
    "fig, ax1 = plt.subplots(figsize=(10, 6))\n",
    "ax1.plot(co2_limits / 1e6, co2_prices, marker='o', linestyle='-', color='b')\n",
    "ax1.set_xlabel('CO2 Limit (Mton CO2)', fontsize=12)\n",
    "ax1.set_ylabel('CO2 Price (EUR/ton CO2)', fontsize=12)\n",
    "ax1.set_title('CO2 Price vs CO2 Limit', fontsize=14)\n",
    "ax1.grid(True)\n",
    "\n",
    "plt.tight_layout()\n",
    "plt.show()\n"
   ]
  },
  {
   "cell_type": "code",
   "execution_count": 87,
   "metadata": {},
   "outputs": [
    {
     "ename": "ArgumentError",
     "evalue": "ArgumentError: Package numpy not found in current path.\n- Run `import Pkg; Pkg.add(\"numpy\")` to install the numpy package.",
     "output_type": "error",
     "traceback": [
      "ArgumentError: Package numpy not found in current path.\n",
      "- Run `import Pkg; Pkg.add(\"numpy\")` to install the numpy package.\n",
      "\n",
      "Stacktrace:\n",
      "  [1] macro expansion\n",
      "    @ .\\loading.jl:1630 [inlined]\n",
      "  [2] macro expansion\n",
      "    @ .\\lock.jl:267 [inlined]\n",
      "  [3] require(into::Module, mod::Symbol)\n",
      "    @ Base .\\loading.jl:1611\n",
      "  [4] eval\n",
      "    @ .\\boot.jl:370 [inlined]\n",
      "  [5] include_string(mapexpr::typeof(REPL.softscope), mod::Module, code::String, filename::String)\n",
      "    @ Base .\\loading.jl:1903\n",
      "  [6] #invokelatest#2\n",
      "    @ .\\essentials.jl:819 [inlined]\n",
      "  [7] invokelatest\n",
      "    @ .\\essentials.jl:816 [inlined]\n",
      "  [8] (::VSCodeServer.var\"#217#218\"{VSCodeServer.NotebookRunCellArguments, String})()\n",
      "    @ VSCodeServer c:\\Users\\anjal\\.vscode\\extensions\\julialang.language-julia-1.127.2\\scripts\\packages\\VSCodeServer\\src\\serve_notebook.jl:24\n",
      "  [9] withpath(f::VSCodeServer.var\"#217#218\"{VSCodeServer.NotebookRunCellArguments, String}, path::String)\n",
      "    @ VSCodeServer c:\\Users\\anjal\\.vscode\\extensions\\julialang.language-julia-1.127.2\\scripts\\packages\\VSCodeServer\\src\\repl.jl:276\n",
      " [10] notebook_runcell_request(conn::VSCodeServer.JSONRPC.JSONRPCEndpoint{Base.PipeEndpoint, Base.PipeEndpoint}, params::VSCodeServer.NotebookRunCellArguments)\n",
      "    @ VSCodeServer c:\\Users\\anjal\\.vscode\\extensions\\julialang.language-julia-1.127.2\\scripts\\packages\\VSCodeServer\\src\\serve_notebook.jl:13\n",
      " [11] dispatch_msg(x::VSCodeServer.JSONRPC.JSONRPCEndpoint{Base.PipeEndpoint, Base.PipeEndpoint}, dispatcher::VSCodeServer.JSONRPC.MsgDispatcher, msg::Dict{String, Any})\n",
      "    @ VSCodeServer.JSONRPC c:\\Users\\anjal\\.vscode\\extensions\\julialang.language-julia-1.127.2\\scripts\\packages\\JSONRPC\\src\\typed.jl:67\n",
      " [12] serve_notebook(pipename::String, debugger_pipename::String, outputchannel_logger::Base.CoreLogging.SimpleLogger; error_handler::var\"#7#12\"{String})\n",
      "    @ VSCodeServer c:\\Users\\anjal\\.vscode\\extensions\\julialang.language-julia-1.127.2\\scripts\\packages\\VSCodeServer\\src\\serve_notebook.jl:147\n",
      " [13] top-level scope\n",
      "    @ c:\\Users\\anjal\\.vscode\\extensions\\julialang.language-julia-1.127.2\\scripts\\notebook\\notebook.jl:35"
     ]
    }
   ],
   "source": [
    "import numpy as np\n",
    "\n",
    "co2_limits = np.linspace(0, 19.9e6, 10)\n",
    "co2_prices = []\n",
    "\n",
    "for co2_limit in co2_limits:\n",
    "    network.remove(\"GlobalConstraint\", \"co2_limit\")\n",
    "    network.add(\"GlobalConstraint\",\n",
    "                \"co2_limit\",\n",
    "                type=\"primary_energy\",\n",
    "                carrier_attribute=\"co2_emissions\",\n",
    "                sense=\"<=\",\n",
    "                constant=co2_limit)\n",
    "    network.optimize(solver_name='gurobi', solver_options={'OutputFlag': 0})\n",
    "    try:\n",
    "        mu = network.global_constraints.at[\"co2_limit_13MT\", \"mu\"]\n",
    "        price = float(mu) if mu is not None else np.nan\n",
    "    except:\n",
    "        price = np.nan\n",
    "    co2_prices.append(price)\n",
    "\n",
    "co2_limits = np.array(co2_limits)\n",
    "co2_prices = np.array(co2_prices)\n",
    "\n",
    "valid = ~np.isnan(co2_prices)\n",
    "co2_limits_clean = co2_limits[valid]\n",
    "co2_prices_clean = co2_prices[valid]\n",
    "\n",
    "sorted_indices = np.argsort(co2_prices_clean)\n",
    "co2_prices_sorted = co2_prices_clean[sorted_indices]\n",
    "co2_limits_sorted = co2_limits_clean[sorted_indices]\n",
    "\n",
    "if len(co2_prices_sorted) >= 2:\n",
    "    target_price = -88\n",
    "    co2_limit_target = np.interp(target_price, co2_prices_sorted, co2_limits_sorted)\n",
    "    print(f\"{co2_limit_target / 1e6:.1f} Mt\")\n",
    "else:\n",
    "    print(\"Not enough valid values\")\n"
   ]
  }
 ],
 "metadata": {
  "kernelspec": {
   "display_name": "Julia 1.9.3",
   "language": "julia",
   "name": "julia-1.9"
  },
  "language_info": {
   "file_extension": ".jl",
   "mimetype": "application/julia",
   "name": "julia",
   "version": "1.9.3"
  }
 },
 "nbformat": 4,
 "nbformat_minor": 2
}
